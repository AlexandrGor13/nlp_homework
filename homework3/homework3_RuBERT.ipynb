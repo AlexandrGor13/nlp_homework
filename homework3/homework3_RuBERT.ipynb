{
 "cells": [
  {
   "metadata": {
    "ExecuteTime": {
     "end_time": "2025-05-03T11:32:39.534494Z",
     "start_time": "2025-05-03T11:32:39.530163Z"
    }
   },
   "cell_type": "code",
   "source": [
    "import warnings\n",
    "warnings.filterwarnings(\"ignore\", category=UserWarning)"
   ],
   "outputs": [],
   "execution_count": 1
  },
  {
   "metadata": {
    "ExecuteTime": {
     "end_time": "2025-05-03T11:32:44.769830Z",
     "start_time": "2025-05-03T11:32:39.657688Z"
    }
   },
   "cell_type": "code",
   "source": [
    "# Установка необходимых библиотек:\n",
    "!pip install scikit-learn\n",
    "!pip install numpy\n",
    "!pip install pandas\n",
    "!pip install transformers[torch]"
   ],
   "outputs": [
    {
     "name": "stdout",
     "output_type": "stream",
     "text": [
      "/bin/bash: warning: setlocale: LC_ALL: cannot change locale (en_US.UTF-8)\r\n",
      "Requirement already satisfied: scikit-learn in /home/alexandr/miniconda3/lib/python3.12/site-packages (1.6.1)\r\n",
      "Requirement already satisfied: numpy>=1.19.5 in /home/alexandr/miniconda3/lib/python3.12/site-packages (from scikit-learn) (2.2.5)\r\n",
      "Requirement already satisfied: scipy>=1.6.0 in /home/alexandr/miniconda3/lib/python3.12/site-packages (from scikit-learn) (1.15.2)\r\n",
      "Requirement already satisfied: joblib>=1.2.0 in /home/alexandr/miniconda3/lib/python3.12/site-packages (from scikit-learn) (1.4.2)\r\n",
      "Requirement already satisfied: threadpoolctl>=3.1.0 in /home/alexandr/miniconda3/lib/python3.12/site-packages (from scikit-learn) (3.6.0)\r\n",
      "/bin/bash: warning: setlocale: LC_ALL: cannot change locale (en_US.UTF-8)\r\n",
      "Requirement already satisfied: numpy in /home/alexandr/miniconda3/lib/python3.12/site-packages (2.2.5)\r\n",
      "/bin/bash: warning: setlocale: LC_ALL: cannot change locale (en_US.UTF-8)\r\n",
      "Requirement already satisfied: pandas in /home/alexandr/miniconda3/lib/python3.12/site-packages (2.2.3)\r\n",
      "Requirement already satisfied: numpy>=1.26.0 in /home/alexandr/miniconda3/lib/python3.12/site-packages (from pandas) (2.2.5)\r\n",
      "Requirement already satisfied: python-dateutil>=2.8.2 in /home/alexandr/miniconda3/lib/python3.12/site-packages (from pandas) (2.9.0.post0)\r\n",
      "Requirement already satisfied: pytz>=2020.1 in /home/alexandr/miniconda3/lib/python3.12/site-packages (from pandas) (2024.1)\r\n",
      "Requirement already satisfied: tzdata>=2022.7 in /home/alexandr/miniconda3/lib/python3.12/site-packages (from pandas) (2025.2)\r\n",
      "Requirement already satisfied: six>=1.5 in /home/alexandr/miniconda3/lib/python3.12/site-packages (from python-dateutil>=2.8.2->pandas) (1.17.0)\r\n",
      "/bin/bash: warning: setlocale: LC_ALL: cannot change locale (en_US.UTF-8)\r\n",
      "Requirement already satisfied: transformers[torch] in /home/alexandr/miniconda3/lib/python3.12/site-packages (4.51.3)\r\n",
      "Requirement already satisfied: filelock in /home/alexandr/miniconda3/lib/python3.12/site-packages (from transformers[torch]) (3.18.0)\r\n",
      "Requirement already satisfied: huggingface-hub<1.0,>=0.30.0 in /home/alexandr/miniconda3/lib/python3.12/site-packages (from transformers[torch]) (0.30.2)\r\n",
      "Requirement already satisfied: numpy>=1.17 in /home/alexandr/miniconda3/lib/python3.12/site-packages (from transformers[torch]) (2.2.5)\r\n",
      "Requirement already satisfied: packaging>=20.0 in /home/alexandr/miniconda3/lib/python3.12/site-packages (from transformers[torch]) (24.1)\r\n",
      "Requirement already satisfied: pyyaml>=5.1 in /home/alexandr/miniconda3/lib/python3.12/site-packages (from transformers[torch]) (6.0.2)\r\n",
      "Requirement already satisfied: regex!=2019.12.17 in /home/alexandr/miniconda3/lib/python3.12/site-packages (from transformers[torch]) (2024.11.6)\r\n",
      "Requirement already satisfied: requests in /home/alexandr/miniconda3/lib/python3.12/site-packages (from transformers[torch]) (2.32.3)\r\n",
      "Requirement already satisfied: tokenizers<0.22,>=0.21 in /home/alexandr/miniconda3/lib/python3.12/site-packages (from transformers[torch]) (0.21.1)\r\n",
      "Requirement already satisfied: safetensors>=0.4.3 in /home/alexandr/miniconda3/lib/python3.12/site-packages (from transformers[torch]) (0.5.3)\r\n",
      "Requirement already satisfied: tqdm>=4.27 in /home/alexandr/miniconda3/lib/python3.12/site-packages (from transformers[torch]) (4.66.4)\r\n",
      "Requirement already satisfied: torch>=2.0 in /home/alexandr/miniconda3/lib/python3.12/site-packages (from transformers[torch]) (2.7.0)\r\n",
      "Requirement already satisfied: accelerate>=0.26.0 in /home/alexandr/miniconda3/lib/python3.12/site-packages (from transformers[torch]) (1.6.0)\r\n",
      "Requirement already satisfied: psutil in /home/alexandr/miniconda3/lib/python3.12/site-packages (from accelerate>=0.26.0->transformers[torch]) (5.9.0)\r\n",
      "Requirement already satisfied: fsspec>=2023.5.0 in /home/alexandr/miniconda3/lib/python3.12/site-packages (from huggingface-hub<1.0,>=0.30.0->transformers[torch]) (2025.3.0)\r\n",
      "Requirement already satisfied: typing-extensions>=3.7.4.3 in /home/alexandr/miniconda3/lib/python3.12/site-packages (from huggingface-hub<1.0,>=0.30.0->transformers[torch]) (4.13.2)\r\n",
      "Requirement already satisfied: setuptools in /home/alexandr/miniconda3/lib/python3.12/site-packages (from torch>=2.0->transformers[torch]) (72.1.0)\r\n",
      "Requirement already satisfied: sympy>=1.13.3 in /home/alexandr/miniconda3/lib/python3.12/site-packages (from torch>=2.0->transformers[torch]) (1.14.0)\r\n",
      "Requirement already satisfied: networkx in /home/alexandr/miniconda3/lib/python3.12/site-packages (from torch>=2.0->transformers[torch]) (3.4.2)\r\n",
      "Requirement already satisfied: jinja2 in /home/alexandr/miniconda3/lib/python3.12/site-packages (from torch>=2.0->transformers[torch]) (3.1.6)\r\n",
      "Requirement already satisfied: nvidia-cuda-nvrtc-cu12==12.6.77 in /home/alexandr/miniconda3/lib/python3.12/site-packages (from torch>=2.0->transformers[torch]) (12.6.77)\r\n",
      "Requirement already satisfied: nvidia-cuda-runtime-cu12==12.6.77 in /home/alexandr/miniconda3/lib/python3.12/site-packages (from torch>=2.0->transformers[torch]) (12.6.77)\r\n",
      "Requirement already satisfied: nvidia-cuda-cupti-cu12==12.6.80 in /home/alexandr/miniconda3/lib/python3.12/site-packages (from torch>=2.0->transformers[torch]) (12.6.80)\r\n",
      "Requirement already satisfied: nvidia-cudnn-cu12==9.5.1.17 in /home/alexandr/miniconda3/lib/python3.12/site-packages (from torch>=2.0->transformers[torch]) (9.5.1.17)\r\n",
      "Requirement already satisfied: nvidia-cublas-cu12==12.6.4.1 in /home/alexandr/miniconda3/lib/python3.12/site-packages (from torch>=2.0->transformers[torch]) (12.6.4.1)\r\n",
      "Requirement already satisfied: nvidia-cufft-cu12==11.3.0.4 in /home/alexandr/miniconda3/lib/python3.12/site-packages (from torch>=2.0->transformers[torch]) (11.3.0.4)\r\n",
      "Requirement already satisfied: nvidia-curand-cu12==10.3.7.77 in /home/alexandr/miniconda3/lib/python3.12/site-packages (from torch>=2.0->transformers[torch]) (10.3.7.77)\r\n",
      "Requirement already satisfied: nvidia-cusolver-cu12==11.7.1.2 in /home/alexandr/miniconda3/lib/python3.12/site-packages (from torch>=2.0->transformers[torch]) (11.7.1.2)\r\n",
      "Requirement already satisfied: nvidia-cusparse-cu12==12.5.4.2 in /home/alexandr/miniconda3/lib/python3.12/site-packages (from torch>=2.0->transformers[torch]) (12.5.4.2)\r\n",
      "Requirement already satisfied: nvidia-cusparselt-cu12==0.6.3 in /home/alexandr/miniconda3/lib/python3.12/site-packages (from torch>=2.0->transformers[torch]) (0.6.3)\r\n",
      "Requirement already satisfied: nvidia-nccl-cu12==2.26.2 in /home/alexandr/miniconda3/lib/python3.12/site-packages (from torch>=2.0->transformers[torch]) (2.26.2)\r\n",
      "Requirement already satisfied: nvidia-nvtx-cu12==12.6.77 in /home/alexandr/miniconda3/lib/python3.12/site-packages (from torch>=2.0->transformers[torch]) (12.6.77)\r\n",
      "Requirement already satisfied: nvidia-nvjitlink-cu12==12.6.85 in /home/alexandr/miniconda3/lib/python3.12/site-packages (from torch>=2.0->transformers[torch]) (12.6.85)\r\n",
      "Requirement already satisfied: nvidia-cufile-cu12==1.11.1.6 in /home/alexandr/miniconda3/lib/python3.12/site-packages (from torch>=2.0->transformers[torch]) (1.11.1.6)\r\n",
      "Requirement already satisfied: triton==3.3.0 in /home/alexandr/miniconda3/lib/python3.12/site-packages (from torch>=2.0->transformers[torch]) (3.3.0)\r\n",
      "Requirement already satisfied: charset-normalizer<4,>=2 in /home/alexandr/miniconda3/lib/python3.12/site-packages (from requests->transformers[torch]) (3.3.2)\r\n",
      "Requirement already satisfied: idna<4,>=2.5 in /home/alexandr/miniconda3/lib/python3.12/site-packages (from requests->transformers[torch]) (3.7)\r\n",
      "Requirement already satisfied: urllib3<3,>=1.21.1 in /home/alexandr/miniconda3/lib/python3.12/site-packages (from requests->transformers[torch]) (2.2.2)\r\n",
      "Requirement already satisfied: certifi>=2017.4.17 in /home/alexandr/miniconda3/lib/python3.12/site-packages (from requests->transformers[torch]) (2025.4.26)\r\n",
      "Requirement already satisfied: mpmath<1.4,>=1.1.0 in /home/alexandr/miniconda3/lib/python3.12/site-packages (from sympy>=1.13.3->torch>=2.0->transformers[torch]) (1.3.0)\r\n",
      "Requirement already satisfied: MarkupSafe>=2.0 in /home/alexandr/miniconda3/lib/python3.12/site-packages (from jinja2->torch>=2.0->transformers[torch]) (3.0.2)\r\n"
     ]
    }
   ],
   "execution_count": 2
  },
  {
   "cell_type": "code",
   "metadata": {
    "executionInfo": {
     "elapsed": 33074,
     "status": "ok",
     "timestamp": 1746252760443,
     "user": {
      "displayName": "Александр Горбенко",
      "userId": "06688681954453153232"
     },
     "user_tz": -180
    },
    "id": "jZ271nOXVU9v",
    "ExecuteTime": {
     "end_time": "2025-05-03T11:32:50.104044Z",
     "start_time": "2025-05-03T11:32:44.897763Z"
    }
   },
   "source": [
    "import pandas as pd\n",
    "import numpy as np\n",
    "import random\n",
    "from transformers import TrainingArguments, Trainer, BertTokenizer, BertForSequenceClassification\n",
    "from sklearn.model_selection import train_test_split\n",
    "from sklearn.metrics import accuracy_score, recall_score, precision_score, f1_score, classification_report\n",
    "import torch"
   ],
   "outputs": [],
   "execution_count": 3
  },
  {
   "cell_type": "code",
   "source": [
    "# Фиксирование рандома, чтобы результат был более менее воспроизводим\n",
    "def seed_all(seed_value):\n",
    "    random.seed(seed_value)\n",
    "    np.random.seed(seed_value)\n",
    "    torch.manual_seed(seed_value)\n",
    "    if torch.cuda.is_available():\n",
    "        torch.cuda.manual_seed(seed_value)\n",
    "        torch.cuda.manual_seed_all(seed_value)\n",
    "        torch.backends.cudnn.benchmark = True\n",
    "        torch.backends.cudnn.deterministic = False\n",
    "\n",
    "seed_all(1234)"
   ],
   "metadata": {
    "id": "PMzk9PxOMqHs",
    "ExecuteTime": {
     "end_time": "2025-05-03T11:32:50.124026Z",
     "start_time": "2025-05-03T11:32:50.117556Z"
    }
   },
   "outputs": [],
   "execution_count": 4
  },
  {
   "cell_type": "code",
   "metadata": {
    "executionInfo": {
     "elapsed": 20,
     "status": "ok",
     "timestamp": 1746252781453,
     "user": {
      "displayName": "Александр Горбенко",
      "userId": "06688681954453153232"
     },
     "user_tz": -180
    },
    "id": "MTV04hmHouT-",
    "ExecuteTime": {
     "end_time": "2025-05-03T11:32:50.240479Z",
     "start_time": "2025-05-03T11:32:50.178744Z"
    }
   },
   "source": [
    "# Загрузка данных\n",
    "BASE_DIR = \"/home/alexandr/PycharmProjects/NLP_homework/homework3\"\n",
    "data = pd.read_csv(BASE_DIR + \"/in_domain_train.csv\", usecols=['sentence', 'acceptable'])\n",
    "test_data = pd.read_csv(BASE_DIR + \"/in_domain_dev.csv\")\n",
    "test_data = test_data[['sentence', 'acceptable']]\n",
    "\n",
    "train_data, val_data = train_test_split(data, test_size=0.2)\n",
    "train_data = train_data.reset_index()[['sentence', 'acceptable']]\n",
    "val_data = val_data.reset_index()[['sentence', 'acceptable']]\n",
    "\n",
    "train_text = train_data['sentence']\n",
    "train_labels = train_data['acceptable']\n",
    "val_text = val_data['sentence']\n",
    "val_labels = val_data['acceptable']\n",
    "test_text = test_data['sentence']\n",
    "test_labels = test_data['acceptable']"
   ],
   "outputs": [],
   "execution_count": 5
  },
  {
   "cell_type": "markdown",
   "metadata": {
    "id": "NUECLA1WF56d"
   },
   "source": [
    "# Новый раздел"
   ]
  },
  {
   "cell_type": "code",
   "metadata": {
    "colab": {
     "base_uri": "https://localhost:8080/",
     "height": 424
    },
    "executionInfo": {
     "elapsed": 10,
     "status": "ok",
     "timestamp": 1746252786433,
     "user": {
      "displayName": "Александр Горбенко",
      "userId": "06688681954453153232"
     },
     "user_tz": -180
    },
    "id": "rQvhjBW-wqwR",
    "outputId": "fb5ad738-f2e9-47cf-a35c-0c6aa2fb857e",
    "ExecuteTime": {
     "end_time": "2025-05-03T11:32:50.280915Z",
     "start_time": "2025-05-03T11:32:50.267009Z"
    }
   },
   "source": [
    "train_data"
   ],
   "outputs": [
    {
     "data": {
      "text/plain": [
       "                                               sentence  acceptable\n",
       "0               Приближался нечеловеческие рев и топот.           0\n",
       "1     В котором часу завтра утром начинается конфере...           1\n",
       "2                   Она сидела на диване рядом с мужем.           1\n",
       "3     Это были студенты, сами сведущие в эскимосском...           1\n",
       "4     При всем том я оптимист и думаю, что мой конфл...           1\n",
       "...                                                 ...         ...\n",
       "6290  Она хочет поговорить с каким-нибудь хорошим сп...           1\n",
       "6291  При расставании я целовал три раза чудесные, с...           1\n",
       "6292  Парк в старом русле реки Турии, раскинувшиеся ...           0\n",
       "6293  Страны НАТО хотят взять с Ирана обязательство ...           0\n",
       "6294  Едва Степан Трофимович остановился и приглядел...           0\n",
       "\n",
       "[6295 rows x 2 columns]"
      ],
      "text/html": [
       "<div>\n",
       "<style scoped>\n",
       "    .dataframe tbody tr th:only-of-type {\n",
       "        vertical-align: middle;\n",
       "    }\n",
       "\n",
       "    .dataframe tbody tr th {\n",
       "        vertical-align: top;\n",
       "    }\n",
       "\n",
       "    .dataframe thead th {\n",
       "        text-align: right;\n",
       "    }\n",
       "</style>\n",
       "<table border=\"1\" class=\"dataframe\">\n",
       "  <thead>\n",
       "    <tr style=\"text-align: right;\">\n",
       "      <th></th>\n",
       "      <th>sentence</th>\n",
       "      <th>acceptable</th>\n",
       "    </tr>\n",
       "  </thead>\n",
       "  <tbody>\n",
       "    <tr>\n",
       "      <th>0</th>\n",
       "      <td>Приближался нечеловеческие рев и топот.</td>\n",
       "      <td>0</td>\n",
       "    </tr>\n",
       "    <tr>\n",
       "      <th>1</th>\n",
       "      <td>В котором часу завтра утром начинается конфере...</td>\n",
       "      <td>1</td>\n",
       "    </tr>\n",
       "    <tr>\n",
       "      <th>2</th>\n",
       "      <td>Она сидела на диване рядом с мужем.</td>\n",
       "      <td>1</td>\n",
       "    </tr>\n",
       "    <tr>\n",
       "      <th>3</th>\n",
       "      <td>Это были студенты, сами сведущие в эскимосском...</td>\n",
       "      <td>1</td>\n",
       "    </tr>\n",
       "    <tr>\n",
       "      <th>4</th>\n",
       "      <td>При всем том я оптимист и думаю, что мой конфл...</td>\n",
       "      <td>1</td>\n",
       "    </tr>\n",
       "    <tr>\n",
       "      <th>...</th>\n",
       "      <td>...</td>\n",
       "      <td>...</td>\n",
       "    </tr>\n",
       "    <tr>\n",
       "      <th>6290</th>\n",
       "      <td>Она хочет поговорить с каким-нибудь хорошим сп...</td>\n",
       "      <td>1</td>\n",
       "    </tr>\n",
       "    <tr>\n",
       "      <th>6291</th>\n",
       "      <td>При расставании я целовал три раза чудесные, с...</td>\n",
       "      <td>1</td>\n",
       "    </tr>\n",
       "    <tr>\n",
       "      <th>6292</th>\n",
       "      <td>Парк в старом русле реки Турии, раскинувшиеся ...</td>\n",
       "      <td>0</td>\n",
       "    </tr>\n",
       "    <tr>\n",
       "      <th>6293</th>\n",
       "      <td>Страны НАТО хотят взять с Ирана обязательство ...</td>\n",
       "      <td>0</td>\n",
       "    </tr>\n",
       "    <tr>\n",
       "      <th>6294</th>\n",
       "      <td>Едва Степан Трофимович остановился и приглядел...</td>\n",
       "      <td>0</td>\n",
       "    </tr>\n",
       "  </tbody>\n",
       "</table>\n",
       "<p>6295 rows × 2 columns</p>\n",
       "</div>"
      ]
     },
     "execution_count": 6,
     "metadata": {},
     "output_type": "execute_result"
    }
   ],
   "execution_count": 6
  },
  {
   "cell_type": "code",
   "metadata": {
    "colab": {
     "base_uri": "https://localhost:8080/"
    },
    "executionInfo": {
     "elapsed": 2071,
     "status": "ok",
     "timestamp": 1746252823753,
     "user": {
      "displayName": "Александр Горбенко",
      "userId": "06688681954453153232"
     },
     "user_tz": -180
    },
    "id": "K4mHB04565mz",
    "outputId": "11a24291-49f6-4cdd-bfa7-4e44f0d3e59c",
    "ExecuteTime": {
     "end_time": "2025-05-03T11:32:53.587798Z",
     "start_time": "2025-05-03T11:32:50.572408Z"
    }
   },
   "source": [
    "# Загружаем нужную модель\n",
    "model_checkpoint = \"ai-forever/ruBert-base\"\n",
    "model = BertForSequenceClassification.from_pretrained(model_checkpoint, num_labels=2)\n",
    "tokenizer = BertTokenizer.from_pretrained(model_checkpoint)\n",
    "\n",
    "device = torch.device('cuda' if torch.cuda.is_available() else 'cpu')\n",
    "if device.type == 'cuda':\n",
    "    model = model.to(\"cuda\")"
   ],
   "outputs": [
    {
     "name": "stderr",
     "output_type": "stream",
     "text": [
      "Some weights of BertForSequenceClassification were not initialized from the model checkpoint at ai-forever/ruBert-base and are newly initialized: ['classifier.bias', 'classifier.weight']\n",
      "You should probably TRAIN this model on a down-stream task to be able to use it for predictions and inference.\n"
     ]
    }
   ],
   "execution_count": 7
  },
  {
   "cell_type": "code",
   "source": [
    "# Данная модель принимает предложения длиной, не больше 512 токенов, поэтому сначала проверю,\n",
    "# какая максимальная длина в train, val и test\n",
    "seq_len_train = [len(str(i).split()) for i in train_data['sentence']]\n",
    "seq_len_val = [len(str(i).split()) for i in val_data['sentence']]\n",
    "seq_len_test = [len(str(i).split()) for i in test_data['sentence']]\n",
    "max_seq_len = max(max(seq_len_test), max(seq_len_train), max(seq_len_val))\n",
    "max_seq_len"
   ],
   "metadata": {
    "colab": {
     "base_uri": "https://localhost:8080/"
    },
    "id": "aYCuswXBtySv",
    "executionInfo": {
     "status": "ok",
     "timestamp": 1746252840741,
     "user_tz": -180,
     "elapsed": 14,
     "user": {
      "displayName": "Александр Горбенко",
      "userId": "06688681954453153232"
     }
    },
    "outputId": "905594d0-e07b-421b-e95e-1c745c5f1c77",
    "ExecuteTime": {
     "end_time": "2025-05-03T11:32:53.661703Z",
     "start_time": "2025-05-03T11:32:53.646812Z"
    }
   },
   "outputs": [
    {
     "data": {
      "text/plain": [
       "26"
      ]
     },
     "execution_count": 8,
     "metadata": {},
     "output_type": "execute_result"
    }
   ],
   "execution_count": 8
  },
  {
   "cell_type": "code",
   "metadata": {
    "executionInfo": {
     "elapsed": 3605,
     "status": "ok",
     "timestamp": 1746252846565,
     "user": {
      "displayName": "Александр Горбенко",
      "userId": "06688681954453153232"
     },
     "user_tz": -180
    },
    "id": "vaJ_meMM8X9Y",
    "ExecuteTime": {
     "end_time": "2025-05-03T11:32:56.073038Z",
     "start_time": "2025-05-03T11:32:53.888894Z"
    }
   },
   "source": [
    "tokens_train = tokenizer.batch_encode_plus(\n",
    "    train_text.values,\n",
    "    max_length = max_seq_len,\n",
    "    padding = 'max_length',\n",
    "    truncation = True\n",
    ")\n",
    "tokens_val = tokenizer.batch_encode_plus(\n",
    "    val_text.values,\n",
    "    max_length = max_seq_len,\n",
    "    padding = 'max_length',\n",
    "    truncation = True\n",
    ")\n",
    "tokens_test = tokenizer.batch_encode_plus(\n",
    "    test_text.values,\n",
    "    max_length = max_seq_len,\n",
    "    padding = 'max_length',\n",
    "    truncation = True\n",
    ")"
   ],
   "outputs": [],
   "execution_count": 9
  },
  {
   "cell_type": "code",
   "metadata": {
    "id": "WFUGtt-FIdbZ",
    "executionInfo": {
     "status": "ok",
     "timestamp": 1746252847958,
     "user_tz": -180,
     "elapsed": 3,
     "user": {
      "displayName": "Александр Горбенко",
      "userId": "06688681954453153232"
     }
    },
    "ExecuteTime": {
     "end_time": "2025-05-03T11:32:56.148622Z",
     "start_time": "2025-05-03T11:32:56.142341Z"
    }
   },
   "source": [
    "# Данный код оборачивает токенизированные текстовые данные в torch Dataset\n",
    "class Data(torch.utils.data.Dataset):\n",
    "    def __init__(self, encodings, labels):\n",
    "        self.encodings = encodings\n",
    "        self.labels = labels\n",
    "\n",
    "    def __getitem__(self, idx):\n",
    "        item = {k: torch.tensor(v[idx]) for k, v in self.encodings.items()}\n",
    "        item[\"labels\"] = torch.tensor(self.labels[idx])\n",
    "        return item\n",
    "\n",
    "    def __len__(self):\n",
    "        return len(self.encodings[\"input_ids\"])\n",
    "\n",
    "train_dataset = Data(tokens_train, train_labels)\n",
    "val_dataset = Data(tokens_val, val_labels)\n",
    "test_dataset = Data(tokens_test, test_labels)"
   ],
   "outputs": [],
   "execution_count": 10
  },
  {
   "cell_type": "code",
   "metadata": {
    "id": "SoYd5d5VKzKE",
    "executionInfo": {
     "status": "ok",
     "timestamp": 1746252855076,
     "user_tz": -180,
     "elapsed": 6,
     "user": {
      "displayName": "Александр Горбенко",
      "userId": "06688681954453153232"
     }
    },
    "ExecuteTime": {
     "end_time": "2025-05-03T11:32:56.258323Z",
     "start_time": "2025-05-03T11:32:56.254218Z"
    }
   },
   "source": [
    "# Функция для расчета метрики\n",
    "def compute_metrics(p):\n",
    "    pred, labels = p\n",
    "    pred = np.argmax(pred, axis=1)\n",
    "\n",
    "    accuracy = accuracy_score(y_true=labels, y_pred=pred)\n",
    "    recall = recall_score(y_true=labels, y_pred=pred)\n",
    "    precision = precision_score(y_true=labels, y_pred=pred)\n",
    "    f1 = f1_score(y_true=labels, y_pred=pred)\n",
    "\n",
    "    return {\"accuracy\": accuracy, \"precision\": precision, \"recall\": recall, \"f1\": f1}"
   ],
   "outputs": [],
   "execution_count": 11
  },
  {
   "cell_type": "code",
   "metadata": {
    "id": "bpMa2CQ48YAH",
    "executionInfo": {
     "status": "ok",
     "timestamp": 1746206673306,
     "user_tz": -180,
     "elapsed": 30,
     "user": {
      "displayName": "Александр Горбенко",
      "userId": "06688681954453153232"
     }
    },
    "ExecuteTime": {
     "end_time": "2025-05-03T11:32:56.360684Z",
     "start_time": "2025-05-03T11:32:56.352740Z"
    }
   },
   "source": [
    "# Параметры, которые будут использоваться для обучения\n",
    "training_args = TrainingArguments(\n",
    "    output_dir = BASE_DIR + '/fine-tuning_RuBERT_results', #Выходной каталог\n",
    "    num_train_epochs = 3, #Кол-во эпох для обучения\n",
    "    per_device_train_batch_size = 16, #Размер пакета для каждого устройства во время обучения\n",
    "    per_device_eval_batch_size = 8, #Размер пакета для каждого устройства во время валидации\n",
    "    weight_decay =5e-2, #Понижение весов\n",
    "    load_best_model_at_end = True, #Загружать ли лучшую модель после обучения\n",
    "    learning_rate = 2e-5, #Скорость обучения\n",
    "    eval_strategy ='epoch', #Валидация после каждой эпохи (можно сделать после конкретного кол-ва шагов)\n",
    "    logging_strategy = 'epoch', #Логирование после каждой эпохи\n",
    "    save_strategy = 'epoch', #Сохранение после каждой эпохи\n",
    "    gradient_accumulation_steps = 16,\n",
    "    save_total_limit = 1,\n",
    "    )"
   ],
   "outputs": [],
   "execution_count": 12
  },
  {
   "metadata": {
    "ExecuteTime": {
     "end_time": "2025-05-03T11:32:56.483499Z",
     "start_time": "2025-05-03T11:32:56.462078Z"
    }
   },
   "cell_type": "code",
   "source": [
    "trainer = Trainer(model=model,\n",
    "                  args = training_args,\n",
    "                  train_dataset = train_dataset,\n",
    "                  eval_dataset = val_dataset,\n",
    "                  compute_metrics = compute_metrics)"
   ],
   "outputs": [],
   "execution_count": 13
  },
  {
   "metadata": {
    "ExecuteTime": {
     "end_time": "2025-05-03T12:24:56.153286Z",
     "start_time": "2025-05-03T11:32:56.578502Z"
    }
   },
   "cell_type": "code",
   "source": "trainer.train()",
   "outputs": [
    {
     "data": {
      "text/plain": [
       "<IPython.core.display.HTML object>"
      ],
      "text/html": [
       "\n",
       "    <div>\n",
       "      \n",
       "      <progress value='72' max='72' style='width:300px; height:20px; vertical-align: middle;'></progress>\n",
       "      [72/72 51:20, Epoch 2/3]\n",
       "    </div>\n",
       "    <table border=\"1\" class=\"dataframe\">\n",
       "  <thead>\n",
       " <tr style=\"text-align: left;\">\n",
       "      <th>Epoch</th>\n",
       "      <th>Training Loss</th>\n",
       "      <th>Validation Loss</th>\n",
       "      <th>Accuracy</th>\n",
       "      <th>Precision</th>\n",
       "      <th>Recall</th>\n",
       "      <th>F1</th>\n",
       "    </tr>\n",
       "  </thead>\n",
       "  <tbody>\n",
       "    <tr>\n",
       "      <td>0</td>\n",
       "      <td>0.574600</td>\n",
       "      <td>0.567117</td>\n",
       "      <td>0.723634</td>\n",
       "      <td>0.724204</td>\n",
       "      <td>0.998244</td>\n",
       "      <td>0.839424</td>\n",
       "    </tr>\n",
       "    <tr>\n",
       "      <td>1</td>\n",
       "      <td>0.520500</td>\n",
       "      <td>0.559787</td>\n",
       "      <td>0.737611</td>\n",
       "      <td>0.737255</td>\n",
       "      <td>0.990342</td>\n",
       "      <td>0.845260</td>\n",
       "    </tr>\n",
       "    <tr>\n",
       "      <td>2</td>\n",
       "      <td>0.480500</td>\n",
       "      <td>0.542597</td>\n",
       "      <td>0.743329</td>\n",
       "      <td>0.746479</td>\n",
       "      <td>0.977173</td>\n",
       "      <td>0.846388</td>\n",
       "    </tr>\n",
       "  </tbody>\n",
       "</table><p>"
      ]
     },
     "metadata": {},
     "output_type": "display_data"
    },
    {
     "data": {
      "text/plain": [
       "TrainOutput(global_step=72, training_loss=0.525193002488878, metrics={'train_runtime': 3119.3639, 'train_samples_per_second': 6.054, 'train_steps_per_second': 0.023, 'total_flos': 249264836071680.0, 'train_loss': 0.525193002488878, 'epoch': 2.974619289340102})"
      ]
     },
     "execution_count": 14,
     "metadata": {},
     "output_type": "execute_result"
    }
   ],
   "execution_count": 14
  },
  {
   "cell_type": "code",
   "source": [
    "# Оцениваем точность на проверенном наборе val_data\n",
    "eval_results = trainer.evaluate()\n",
    "print(f'Точность в наборе для проверки: {eval_results[\"eval_accuracy\"]:.3f}')"
   ],
   "metadata": {
    "colab": {
     "base_uri": "https://localhost:8080/",
     "height": 176
    },
    "id": "wtPxahsKCufH",
    "executionInfo": {
     "status": "error",
     "timestamp": 1746252431788,
     "user_tz": -180,
     "elapsed": 370,
     "user": {
      "displayName": "Александр Горбенко",
      "userId": "06688681954453153232"
     }
    },
    "outputId": "ae919b33-b89d-4241-c301-23a2c6257ac1",
    "ExecuteTime": {
     "end_time": "2025-05-03T12:26:14.706809Z",
     "start_time": "2025-05-03T12:24:56.543632Z"
    }
   },
   "outputs": [
    {
     "data": {
      "text/plain": [
       "<IPython.core.display.HTML object>"
      ],
      "text/html": []
     },
     "metadata": {},
     "output_type": "display_data"
    },
    {
     "name": "stdout",
     "output_type": "stream",
     "text": [
      "Точность в наборе для проверки: 0.743\n"
     ]
    }
   ],
   "execution_count": 15
  },
  {
   "cell_type": "code",
   "source": [
    "# Написание функции для получения предикта\n",
    "def get_prediction():\n",
    "    test_pred = trainer.predict(test_dataset)\n",
    "    labels = np.argmax(test_pred.predictions, axis = -1)\n",
    "    return labels\n",
    "pred = get_prediction()"
   ],
   "metadata": {
    "id": "ft6SVqlYGDSl",
    "ExecuteTime": {
     "end_time": "2025-05-03T12:27:03.061318Z",
     "start_time": "2025-05-03T12:26:14.792722Z"
    }
   },
   "outputs": [],
   "execution_count": 16
  },
  {
   "cell_type": "code",
   "source": [
    "# Проверка полученного результата\n",
    "print(classification_report(test_labels, pred))\n",
    "print(f1_score(test_labels, pred))"
   ],
   "metadata": {
    "id": "enl7pfFYGQVG",
    "ExecuteTime": {
     "end_time": "2025-05-03T12:27:03.179591Z",
     "start_time": "2025-05-03T12:27:03.130706Z"
    }
   },
   "outputs": [
    {
     "name": "stdout",
     "output_type": "stream",
     "text": [
      "              precision    recall  f1-score   support\n",
      "\n",
      "           0       0.73      0.14      0.24       250\n",
      "           1       0.77      0.98      0.86       733\n",
      "\n",
      "    accuracy                           0.77       983\n",
      "   macro avg       0.75      0.56      0.55       983\n",
      "weighted avg       0.76      0.77      0.71       983\n",
      "\n",
      "0.8638272345530894\n"
     ]
    }
   ],
   "execution_count": 17
  },
  {
   "metadata": {
    "ExecuteTime": {
     "end_time": "2025-05-03T12:27:04.597241Z",
     "start_time": "2025-05-03T12:27:03.356775Z"
    }
   },
   "cell_type": "code",
   "source": [
    "# Сохранение обученной модели\n",
    "model_path = BASE_DIR + '/fine-tune-RuBert'\n",
    "model.save_pretrained(model_path)\n",
    "tokenizer.save_pretrained(model_path)"
   ],
   "outputs": [
    {
     "data": {
      "text/plain": [
       "('/home/alexandr/PycharmProjects/NLP_homework/homework3/fine-tune-RuBert/tokenizer_config.json',\n",
       " '/home/alexandr/PycharmProjects/NLP_homework/homework3/fine-tune-RuBert/special_tokens_map.json',\n",
       " '/home/alexandr/PycharmProjects/NLP_homework/homework3/fine-tune-RuBert/vocab.txt',\n",
       " '/home/alexandr/PycharmProjects/NLP_homework/homework3/fine-tune-RuBert/added_tokens.json')"
      ]
     },
     "execution_count": 18,
     "metadata": {},
     "output_type": "execute_result"
    }
   ],
   "execution_count": 18
  },
  {
   "metadata": {
    "ExecuteTime": {
     "end_time": "2025-05-03T12:40:38.102529Z",
     "start_time": "2025-05-03T12:40:38.072273Z"
    }
   },
   "cell_type": "code",
   "source": [
    "data_pred = test_data.copy()\n",
    "data_pred['pred'] = pred\n",
    "data_pred"
   ],
   "outputs": [
    {
     "data": {
      "text/plain": [
       "                                              sentence  acceptable  pred\n",
       "0                              Иван вчера не позвонил.           1     1\n",
       "1    У многих туристов, кто посещают Кемер весной, ...           0     0\n",
       "2    Лесные запахи набегали волнами; в них смешалос...           1     1\n",
       "3    Вчера президент имел неофициальную беседу с ан...           1     1\n",
       "4    Коллега так и не признал вину за катастрофу пе...           1     1\n",
       "..                                                 ...         ...   ...\n",
       "978  Мысли отказываются остановиться на всяком пред...           0     1\n",
       "979  Не должно быть подозрений, что судью привлекаю...           0     1\n",
       "980                   Хорошо, что он купил что-нибудь.           0     1\n",
       "981  Если бы я не потерял очков, не пришлось бы пок...           0     1\n",
       "982  На Марсе есть какие-либо (какие бы то ни было)...           0     1\n",
       "\n",
       "[983 rows x 3 columns]"
      ],
      "text/html": [
       "<div>\n",
       "<style scoped>\n",
       "    .dataframe tbody tr th:only-of-type {\n",
       "        vertical-align: middle;\n",
       "    }\n",
       "\n",
       "    .dataframe tbody tr th {\n",
       "        vertical-align: top;\n",
       "    }\n",
       "\n",
       "    .dataframe thead th {\n",
       "        text-align: right;\n",
       "    }\n",
       "</style>\n",
       "<table border=\"1\" class=\"dataframe\">\n",
       "  <thead>\n",
       "    <tr style=\"text-align: right;\">\n",
       "      <th></th>\n",
       "      <th>sentence</th>\n",
       "      <th>acceptable</th>\n",
       "      <th>pred</th>\n",
       "    </tr>\n",
       "  </thead>\n",
       "  <tbody>\n",
       "    <tr>\n",
       "      <th>0</th>\n",
       "      <td>Иван вчера не позвонил.</td>\n",
       "      <td>1</td>\n",
       "      <td>1</td>\n",
       "    </tr>\n",
       "    <tr>\n",
       "      <th>1</th>\n",
       "      <td>У многих туристов, кто посещают Кемер весной, ...</td>\n",
       "      <td>0</td>\n",
       "      <td>0</td>\n",
       "    </tr>\n",
       "    <tr>\n",
       "      <th>2</th>\n",
       "      <td>Лесные запахи набегали волнами; в них смешалос...</td>\n",
       "      <td>1</td>\n",
       "      <td>1</td>\n",
       "    </tr>\n",
       "    <tr>\n",
       "      <th>3</th>\n",
       "      <td>Вчера президент имел неофициальную беседу с ан...</td>\n",
       "      <td>1</td>\n",
       "      <td>1</td>\n",
       "    </tr>\n",
       "    <tr>\n",
       "      <th>4</th>\n",
       "      <td>Коллега так и не признал вину за катастрофу пе...</td>\n",
       "      <td>1</td>\n",
       "      <td>1</td>\n",
       "    </tr>\n",
       "    <tr>\n",
       "      <th>...</th>\n",
       "      <td>...</td>\n",
       "      <td>...</td>\n",
       "      <td>...</td>\n",
       "    </tr>\n",
       "    <tr>\n",
       "      <th>978</th>\n",
       "      <td>Мысли отказываются остановиться на всяком пред...</td>\n",
       "      <td>0</td>\n",
       "      <td>1</td>\n",
       "    </tr>\n",
       "    <tr>\n",
       "      <th>979</th>\n",
       "      <td>Не должно быть подозрений, что судью привлекаю...</td>\n",
       "      <td>0</td>\n",
       "      <td>1</td>\n",
       "    </tr>\n",
       "    <tr>\n",
       "      <th>980</th>\n",
       "      <td>Хорошо, что он купил что-нибудь.</td>\n",
       "      <td>0</td>\n",
       "      <td>1</td>\n",
       "    </tr>\n",
       "    <tr>\n",
       "      <th>981</th>\n",
       "      <td>Если бы я не потерял очков, не пришлось бы пок...</td>\n",
       "      <td>0</td>\n",
       "      <td>1</td>\n",
       "    </tr>\n",
       "    <tr>\n",
       "      <th>982</th>\n",
       "      <td>На Марсе есть какие-либо (какие бы то ни было)...</td>\n",
       "      <td>0</td>\n",
       "      <td>1</td>\n",
       "    </tr>\n",
       "  </tbody>\n",
       "</table>\n",
       "<p>983 rows × 3 columns</p>\n",
       "</div>"
      ]
     },
     "execution_count": 21,
     "metadata": {},
     "output_type": "execute_result"
    }
   ],
   "execution_count": 21
  },
  {
   "metadata": {},
   "cell_type": "markdown",
   "source": "Результат получился неплохим f1=0.863, данную модель можно улучшить подбирая гиперпараметры."
  }
 ],
 "metadata": {
  "colab": {
   "provenance": [],
   "authorship_tag": "ABX9TyPMmSDd1qoVDbHREJcDjQ7g"
  },
  "kernelspec": {
   "display_name": "Python 3",
   "name": "python3"
  },
  "language_info": {
   "name": "python"
  }
 },
 "nbformat": 4,
 "nbformat_minor": 0
}
