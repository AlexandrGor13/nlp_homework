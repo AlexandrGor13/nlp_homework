{
 "cells": [
  {
   "metadata": {
    "ExecuteTime": {
     "end_time": "2025-05-05T03:01:48.709095Z",
     "start_time": "2025-05-05T03:01:48.447517Z"
    }
   },
   "cell_type": "code",
   "source": [
    "import warnings\n",
    "\n",
    "from sympy.solvers.diophantine.diophantine import length\n",
    "\n",
    "warnings.filterwarnings(\"ignore\", category=UserWarning)"
   ],
   "id": "1804a67affe64530",
   "outputs": [],
   "execution_count": 1
  },
  {
   "metadata": {
    "ExecuteTime": {
     "end_time": "2025-05-05T03:01:54.229754Z",
     "start_time": "2025-05-05T03:01:48.807210Z"
    }
   },
   "cell_type": "code",
   "source": [
    "# Установка необходимых библиотек:\n",
    "!pip install scikit-learn\n",
    "!pip install numpy\n",
    "!pip install pandas\n",
    "!pip install transformers[torch]\n",
    "!pip install sentencepiece\n",
    "!pip install datasets"
   ],
   "id": "initial_id",
   "outputs": [
    {
     "name": "stdout",
     "output_type": "stream",
     "text": [
      "/bin/bash: warning: setlocale: LC_ALL: cannot change locale (en_US.UTF-8)\r\n",
      "Requirement already satisfied: scikit-learn in /home/alexandr/miniconda3/lib/python3.12/site-packages (1.6.1)\r\n",
      "Requirement already satisfied: numpy>=1.19.5 in /home/alexandr/miniconda3/lib/python3.12/site-packages (from scikit-learn) (2.2.5)\r\n",
      "Requirement already satisfied: scipy>=1.6.0 in /home/alexandr/miniconda3/lib/python3.12/site-packages (from scikit-learn) (1.15.2)\r\n",
      "Requirement already satisfied: joblib>=1.2.0 in /home/alexandr/miniconda3/lib/python3.12/site-packages (from scikit-learn) (1.4.2)\r\n",
      "Requirement already satisfied: threadpoolctl>=3.1.0 in /home/alexandr/miniconda3/lib/python3.12/site-packages (from scikit-learn) (3.6.0)\r\n",
      "/bin/bash: warning: setlocale: LC_ALL: cannot change locale (en_US.UTF-8)\r\n",
      "Requirement already satisfied: numpy in /home/alexandr/miniconda3/lib/python3.12/site-packages (2.2.5)\r\n",
      "/bin/bash: warning: setlocale: LC_ALL: cannot change locale (en_US.UTF-8)\r\n",
      "Requirement already satisfied: pandas in /home/alexandr/miniconda3/lib/python3.12/site-packages (2.2.3)\r\n",
      "Requirement already satisfied: numpy>=1.26.0 in /home/alexandr/miniconda3/lib/python3.12/site-packages (from pandas) (2.2.5)\r\n",
      "Requirement already satisfied: python-dateutil>=2.8.2 in /home/alexandr/miniconda3/lib/python3.12/site-packages (from pandas) (2.9.0.post0)\r\n",
      "Requirement already satisfied: pytz>=2020.1 in /home/alexandr/miniconda3/lib/python3.12/site-packages (from pandas) (2024.1)\r\n",
      "Requirement already satisfied: tzdata>=2022.7 in /home/alexandr/miniconda3/lib/python3.12/site-packages (from pandas) (2025.2)\r\n",
      "Requirement already satisfied: six>=1.5 in /home/alexandr/miniconda3/lib/python3.12/site-packages (from python-dateutil>=2.8.2->pandas) (1.17.0)\r\n",
      "/bin/bash: warning: setlocale: LC_ALL: cannot change locale (en_US.UTF-8)\r\n",
      "Requirement already satisfied: transformers[torch] in /home/alexandr/miniconda3/lib/python3.12/site-packages (4.51.3)\r\n",
      "Requirement already satisfied: filelock in /home/alexandr/miniconda3/lib/python3.12/site-packages (from transformers[torch]) (3.18.0)\r\n",
      "Requirement already satisfied: huggingface-hub<1.0,>=0.30.0 in /home/alexandr/miniconda3/lib/python3.12/site-packages (from transformers[torch]) (0.30.2)\r\n",
      "Requirement already satisfied: numpy>=1.17 in /home/alexandr/miniconda3/lib/python3.12/site-packages (from transformers[torch]) (2.2.5)\r\n",
      "Requirement already satisfied: packaging>=20.0 in /home/alexandr/miniconda3/lib/python3.12/site-packages (from transformers[torch]) (24.1)\r\n",
      "Requirement already satisfied: pyyaml>=5.1 in /home/alexandr/miniconda3/lib/python3.12/site-packages (from transformers[torch]) (6.0.2)\r\n",
      "Requirement already satisfied: regex!=2019.12.17 in /home/alexandr/miniconda3/lib/python3.12/site-packages (from transformers[torch]) (2024.11.6)\r\n",
      "Requirement already satisfied: requests in /home/alexandr/miniconda3/lib/python3.12/site-packages (from transformers[torch]) (2.32.3)\r\n",
      "Requirement already satisfied: tokenizers<0.22,>=0.21 in /home/alexandr/miniconda3/lib/python3.12/site-packages (from transformers[torch]) (0.21.1)\r\n",
      "Requirement already satisfied: safetensors>=0.4.3 in /home/alexandr/miniconda3/lib/python3.12/site-packages (from transformers[torch]) (0.5.3)\r\n",
      "Requirement already satisfied: tqdm>=4.27 in /home/alexandr/miniconda3/lib/python3.12/site-packages (from transformers[torch]) (4.66.4)\r\n",
      "Requirement already satisfied: torch>=2.0 in /home/alexandr/miniconda3/lib/python3.12/site-packages (from transformers[torch]) (2.7.0)\r\n",
      "Requirement already satisfied: accelerate>=0.26.0 in /home/alexandr/miniconda3/lib/python3.12/site-packages (from transformers[torch]) (1.6.0)\r\n",
      "Requirement already satisfied: psutil in /home/alexandr/miniconda3/lib/python3.12/site-packages (from accelerate>=0.26.0->transformers[torch]) (5.9.0)\r\n",
      "Requirement already satisfied: fsspec>=2023.5.0 in /home/alexandr/miniconda3/lib/python3.12/site-packages (from huggingface-hub<1.0,>=0.30.0->transformers[torch]) (2025.3.0)\r\n",
      "Requirement already satisfied: typing-extensions>=3.7.4.3 in /home/alexandr/miniconda3/lib/python3.12/site-packages (from huggingface-hub<1.0,>=0.30.0->transformers[torch]) (4.13.2)\r\n",
      "Requirement already satisfied: setuptools in /home/alexandr/miniconda3/lib/python3.12/site-packages (from torch>=2.0->transformers[torch]) (72.1.0)\r\n",
      "Requirement already satisfied: sympy>=1.13.3 in /home/alexandr/miniconda3/lib/python3.12/site-packages (from torch>=2.0->transformers[torch]) (1.14.0)\r\n",
      "Requirement already satisfied: networkx in /home/alexandr/miniconda3/lib/python3.12/site-packages (from torch>=2.0->transformers[torch]) (3.4.2)\r\n",
      "Requirement already satisfied: jinja2 in /home/alexandr/miniconda3/lib/python3.12/site-packages (from torch>=2.0->transformers[torch]) (3.1.6)\r\n",
      "Requirement already satisfied: nvidia-cuda-nvrtc-cu12==12.6.77 in /home/alexandr/miniconda3/lib/python3.12/site-packages (from torch>=2.0->transformers[torch]) (12.6.77)\r\n",
      "Requirement already satisfied: nvidia-cuda-runtime-cu12==12.6.77 in /home/alexandr/miniconda3/lib/python3.12/site-packages (from torch>=2.0->transformers[torch]) (12.6.77)\r\n",
      "Requirement already satisfied: nvidia-cuda-cupti-cu12==12.6.80 in /home/alexandr/miniconda3/lib/python3.12/site-packages (from torch>=2.0->transformers[torch]) (12.6.80)\r\n",
      "Requirement already satisfied: nvidia-cudnn-cu12==9.5.1.17 in /home/alexandr/miniconda3/lib/python3.12/site-packages (from torch>=2.0->transformers[torch]) (9.5.1.17)\r\n",
      "Requirement already satisfied: nvidia-cublas-cu12==12.6.4.1 in /home/alexandr/miniconda3/lib/python3.12/site-packages (from torch>=2.0->transformers[torch]) (12.6.4.1)\r\n",
      "Requirement already satisfied: nvidia-cufft-cu12==11.3.0.4 in /home/alexandr/miniconda3/lib/python3.12/site-packages (from torch>=2.0->transformers[torch]) (11.3.0.4)\r\n",
      "Requirement already satisfied: nvidia-curand-cu12==10.3.7.77 in /home/alexandr/miniconda3/lib/python3.12/site-packages (from torch>=2.0->transformers[torch]) (10.3.7.77)\r\n",
      "Requirement already satisfied: nvidia-cusolver-cu12==11.7.1.2 in /home/alexandr/miniconda3/lib/python3.12/site-packages (from torch>=2.0->transformers[torch]) (11.7.1.2)\r\n",
      "Requirement already satisfied: nvidia-cusparse-cu12==12.5.4.2 in /home/alexandr/miniconda3/lib/python3.12/site-packages (from torch>=2.0->transformers[torch]) (12.5.4.2)\r\n",
      "Requirement already satisfied: nvidia-cusparselt-cu12==0.6.3 in /home/alexandr/miniconda3/lib/python3.12/site-packages (from torch>=2.0->transformers[torch]) (0.6.3)\r\n",
      "Requirement already satisfied: nvidia-nccl-cu12==2.26.2 in /home/alexandr/miniconda3/lib/python3.12/site-packages (from torch>=2.0->transformers[torch]) (2.26.2)\r\n",
      "Requirement already satisfied: nvidia-nvtx-cu12==12.6.77 in /home/alexandr/miniconda3/lib/python3.12/site-packages (from torch>=2.0->transformers[torch]) (12.6.77)\r\n",
      "Requirement already satisfied: nvidia-nvjitlink-cu12==12.6.85 in /home/alexandr/miniconda3/lib/python3.12/site-packages (from torch>=2.0->transformers[torch]) (12.6.85)\r\n",
      "Requirement already satisfied: nvidia-cufile-cu12==1.11.1.6 in /home/alexandr/miniconda3/lib/python3.12/site-packages (from torch>=2.0->transformers[torch]) (1.11.1.6)\r\n",
      "Requirement already satisfied: triton==3.3.0 in /home/alexandr/miniconda3/lib/python3.12/site-packages (from torch>=2.0->transformers[torch]) (3.3.0)\r\n",
      "Requirement already satisfied: charset-normalizer<4,>=2 in /home/alexandr/miniconda3/lib/python3.12/site-packages (from requests->transformers[torch]) (3.3.2)\r\n",
      "Requirement already satisfied: idna<4,>=2.5 in /home/alexandr/miniconda3/lib/python3.12/site-packages (from requests->transformers[torch]) (3.7)\r\n",
      "Requirement already satisfied: urllib3<3,>=1.21.1 in /home/alexandr/miniconda3/lib/python3.12/site-packages (from requests->transformers[torch]) (2.2.2)\r\n",
      "Requirement already satisfied: certifi>=2017.4.17 in /home/alexandr/miniconda3/lib/python3.12/site-packages (from requests->transformers[torch]) (2025.4.26)\r\n",
      "Requirement already satisfied: mpmath<1.4,>=1.1.0 in /home/alexandr/miniconda3/lib/python3.12/site-packages (from sympy>=1.13.3->torch>=2.0->transformers[torch]) (1.3.0)\r\n",
      "Requirement already satisfied: MarkupSafe>=2.0 in /home/alexandr/miniconda3/lib/python3.12/site-packages (from jinja2->torch>=2.0->transformers[torch]) (3.0.2)\r\n",
      "/bin/bash: warning: setlocale: LC_ALL: cannot change locale (en_US.UTF-8)\r\n",
      "Requirement already satisfied: sentencepiece in /home/alexandr/miniconda3/lib/python3.12/site-packages (0.2.0)\r\n",
      "/bin/bash: warning: setlocale: LC_ALL: cannot change locale (en_US.UTF-8)\r\n",
      "Requirement already satisfied: datasets in /home/alexandr/miniconda3/lib/python3.12/site-packages (3.5.1)\r\n",
      "Requirement already satisfied: filelock in /home/alexandr/miniconda3/lib/python3.12/site-packages (from datasets) (3.18.0)\r\n",
      "Requirement already satisfied: numpy>=1.17 in /home/alexandr/miniconda3/lib/python3.12/site-packages (from datasets) (2.2.5)\r\n",
      "Requirement already satisfied: pyarrow>=15.0.0 in /home/alexandr/miniconda3/lib/python3.12/site-packages (from datasets) (20.0.0)\r\n",
      "Requirement already satisfied: dill<0.3.9,>=0.3.0 in /home/alexandr/miniconda3/lib/python3.12/site-packages (from datasets) (0.3.8)\r\n",
      "Requirement already satisfied: pandas in /home/alexandr/miniconda3/lib/python3.12/site-packages (from datasets) (2.2.3)\r\n",
      "Requirement already satisfied: requests>=2.32.2 in /home/alexandr/miniconda3/lib/python3.12/site-packages (from datasets) (2.32.3)\r\n",
      "Requirement already satisfied: tqdm>=4.66.3 in /home/alexandr/miniconda3/lib/python3.12/site-packages (from datasets) (4.66.4)\r\n",
      "Requirement already satisfied: xxhash in /home/alexandr/miniconda3/lib/python3.12/site-packages (from datasets) (3.5.0)\r\n",
      "Requirement already satisfied: multiprocess<0.70.17 in /home/alexandr/miniconda3/lib/python3.12/site-packages (from datasets) (0.70.16)\r\n",
      "Requirement already satisfied: fsspec<=2025.3.0,>=2023.1.0 in /home/alexandr/miniconda3/lib/python3.12/site-packages (from fsspec[http]<=2025.3.0,>=2023.1.0->datasets) (2025.3.0)\r\n",
      "Requirement already satisfied: aiohttp in /home/alexandr/miniconda3/lib/python3.12/site-packages (from datasets) (3.11.18)\r\n",
      "Requirement already satisfied: huggingface-hub>=0.24.0 in /home/alexandr/miniconda3/lib/python3.12/site-packages (from datasets) (0.30.2)\r\n",
      "Requirement already satisfied: packaging in /home/alexandr/miniconda3/lib/python3.12/site-packages (from datasets) (24.1)\r\n",
      "Requirement already satisfied: pyyaml>=5.1 in /home/alexandr/miniconda3/lib/python3.12/site-packages (from datasets) (6.0.2)\r\n",
      "Requirement already satisfied: aiohappyeyeballs>=2.3.0 in /home/alexandr/miniconda3/lib/python3.12/site-packages (from aiohttp->datasets) (2.6.1)\r\n",
      "Requirement already satisfied: aiosignal>=1.1.2 in /home/alexandr/miniconda3/lib/python3.12/site-packages (from aiohttp->datasets) (1.3.2)\r\n",
      "Requirement already satisfied: attrs>=17.3.0 in /home/alexandr/miniconda3/lib/python3.12/site-packages (from aiohttp->datasets) (24.3.0)\r\n",
      "Requirement already satisfied: frozenlist>=1.1.1 in /home/alexandr/miniconda3/lib/python3.12/site-packages (from aiohttp->datasets) (1.6.0)\r\n",
      "Requirement already satisfied: multidict<7.0,>=4.5 in /home/alexandr/miniconda3/lib/python3.12/site-packages (from aiohttp->datasets) (6.4.3)\r\n",
      "Requirement already satisfied: propcache>=0.2.0 in /home/alexandr/miniconda3/lib/python3.12/site-packages (from aiohttp->datasets) (0.3.1)\r\n",
      "Requirement already satisfied: yarl<2.0,>=1.17.0 in /home/alexandr/miniconda3/lib/python3.12/site-packages (from aiohttp->datasets) (1.20.0)\r\n",
      "Requirement already satisfied: typing-extensions>=3.7.4.3 in /home/alexandr/miniconda3/lib/python3.12/site-packages (from huggingface-hub>=0.24.0->datasets) (4.13.2)\r\n",
      "Requirement already satisfied: charset-normalizer<4,>=2 in /home/alexandr/miniconda3/lib/python3.12/site-packages (from requests>=2.32.2->datasets) (3.3.2)\r\n",
      "Requirement already satisfied: idna<4,>=2.5 in /home/alexandr/miniconda3/lib/python3.12/site-packages (from requests>=2.32.2->datasets) (3.7)\r\n",
      "Requirement already satisfied: urllib3<3,>=1.21.1 in /home/alexandr/miniconda3/lib/python3.12/site-packages (from requests>=2.32.2->datasets) (2.2.2)\r\n",
      "Requirement already satisfied: certifi>=2017.4.17 in /home/alexandr/miniconda3/lib/python3.12/site-packages (from requests>=2.32.2->datasets) (2025.4.26)\r\n",
      "Requirement already satisfied: python-dateutil>=2.8.2 in /home/alexandr/miniconda3/lib/python3.12/site-packages (from pandas->datasets) (2.9.0.post0)\r\n",
      "Requirement already satisfied: pytz>=2020.1 in /home/alexandr/miniconda3/lib/python3.12/site-packages (from pandas->datasets) (2024.1)\r\n",
      "Requirement already satisfied: tzdata>=2022.7 in /home/alexandr/miniconda3/lib/python3.12/site-packages (from pandas->datasets) (2025.2)\r\n",
      "Requirement already satisfied: six>=1.5 in /home/alexandr/miniconda3/lib/python3.12/site-packages (from python-dateutil>=2.8.2->pandas->datasets) (1.17.0)\r\n"
     ]
    }
   ],
   "execution_count": 2
  },
  {
   "metadata": {
    "ExecuteTime": {
     "end_time": "2025-05-05T03:01:57.291148Z",
     "start_time": "2025-05-05T03:01:54.317279Z"
    }
   },
   "cell_type": "code",
   "source": [
    "import pandas as pd\n",
    "import numpy as np\n",
    "import random\n",
    "from transformers import GPT2LMHeadModel, GPT2Tokenizer\n",
    "from sklearn.model_selection import train_test_split\n",
    "import torch"
   ],
   "id": "ef9991f4f4f9c90e",
   "outputs": [],
   "execution_count": 3
  },
  {
   "metadata": {
    "ExecuteTime": {
     "end_time": "2025-05-05T03:02:03.438978Z",
     "start_time": "2025-05-05T03:01:57.301924Z"
    }
   },
   "cell_type": "code",
   "source": [
    "# Загружаем нужную модель\n",
    "model_checkpoint = \"sberbank-ai/rugpt3large_based_on_gpt2\"\n",
    "model = GPT2LMHeadModel.from_pretrained(model_checkpoint).eval()\n",
    "tokenizer = GPT2Tokenizer.from_pretrained(model_checkpoint)\n",
    "\n",
    "device = torch.device('cuda' if torch.cuda.is_available() else 'cpu')\n",
    "if device.type == 'cuda':\n",
    "    model = model.to(\n",
    "        \"cuda\")  #перевод модели на GPU, можно обойтись и без этого, тогда генерация будет происходить медленнее"
   ],
   "id": "8807c1a2f286b72f",
   "outputs": [],
   "execution_count": 4
  },
  {
   "metadata": {
    "ExecuteTime": {
     "end_time": "2025-05-05T03:02:03.456924Z",
     "start_time": "2025-05-05T03:02:03.450464Z"
    }
   },
   "cell_type": "code",
   "source": [
    "# Загрузка данных\n",
    "BASE_DIR = \"/home/alexandr/PycharmProjects/NLP_homework/homework3\"\n",
    "test_data = pd.read_csv(BASE_DIR + \"/in_domain_dev.csv\")\n",
    "test_data = test_data[['sentence', 'acceptable']]\n",
    "test_text = test_data['sentence']\n",
    "test_labels = test_data['acceptable']"
   ],
   "id": "f40ce206393dbab5",
   "outputs": [],
   "execution_count": 5
  },
  {
   "metadata": {
    "ExecuteTime": {
     "end_time": "2025-05-05T03:02:03.505009Z",
     "start_time": "2025-05-05T03:02:03.502474Z"
    }
   },
   "cell_type": "code",
   "source": [
    "# Шаблон ввода: инструкция + вводимое предложение\n",
    "def get_prompt_zero(sentence):\n",
    "    prompt_template = f\"\"\"\n",
    "    Оцени предложение на предмет правильности написания на русском языке, приемлимое или неприемлимое:\n",
    "    Предложение: {sentence}\n",
    "    Ваш выбор:\"\"\"\n",
    "    return prompt_template"
   ],
   "id": "abb04ca0b6b95309",
   "outputs": [],
   "execution_count": 6
  },
  {
   "metadata": {
    "ExecuteTime": {
     "end_time": "2025-05-05T03:02:03.555579Z",
     "start_time": "2025-05-05T03:02:03.553340Z"
    }
   },
   "cell_type": "code",
   "source": [
    "# Шаблон ввода: инструкция + вводимое предложение\n",
    "def get_prompt_few(sentence):\n",
    "    prompt_template = f\"\"\"\n",
    "    Ты учитель русского языка и должен оценить следующее предложение на предмет языковой приемлемости:\n",
    "    Предложение: {sentence}\n",
    "    Варианты ответа:\n",
    "    Приемлемое — предложение грамматически правильное. // Книги и журналы были на столе.\n",
    "    Неприемлемое — предложение имеет нарушения грамматики, стиля, правил русского языка. // Иван войдя, он поздоровался.\n",
    "    Ваш выбор:\"\"\"\n",
    "    return prompt_template"
   ],
   "id": "48b7e5067a36990e",
   "outputs": [],
   "execution_count": 7
  },
  {
   "metadata": {
    "ExecuteTime": {
     "end_time": "2025-05-05T03:02:03.605083Z",
     "start_time": "2025-05-05T03:02:03.602402Z"
    }
   },
   "cell_type": "code",
   "source": [
    "# Функция для классификации предложений методом zero/few shot\n",
    "def classify_sentence(prompt):\n",
    "    inputs = tokenizer(prompt, return_tensors=\"pt\").input_ids\n",
    "    outputs = model.generate(inputs, max_length=min(512, len(prompt)), num_return_sequences=1)\n",
    "    generated_text = tokenizer.decode(outputs[0], skip_special_tokens=True)\n",
    "    answer = generated_text.split('Ваш выбор:')[-1].strip().lower()  # Извлекаем последний элемент ответа\n",
    "    print(answer)\n",
    "    if 'прием' in answer:\n",
    "        return 'Приемлемое'\n",
    "    else:\n",
    "        return 'Неприемлемое'"
   ],
   "id": "34374f6ccd345579",
   "outputs": [],
   "execution_count": 8
  },
  {
   "metadata": {
    "ExecuteTime": {
     "end_time": "2025-05-05T03:04:05.970353Z",
     "start_time": "2025-05-05T03:02:03.654352Z"
    }
   },
   "cell_type": "code",
   "source": [
    "example_sentence = \"Иван войдя, он поздоровался.\"\n",
    "\n",
    "classification_result_zero = classify_sentence(get_prompt_zero(example_sentence))\n",
    "classification_result_few = classify_sentence(get_prompt_few(example_sentence))\n",
    "print(f\"Предложение: '{example_sentence}'\\nКлассификация: {classification_result_zero}\")\n",
    "print(f\"Предложение: '{example_sentence}'\\nКлассификация: {classification_result_few}\", end=\"\\n\\n\")\n",
    "\n",
    "example_sentence = \"Книги и журналы были на столе.\"\n",
    "\n",
    "classification_result_zero = classify_sentence(get_prompt_zero(example_sentence))\n",
    "classification_result_few = classify_sentence(get_prompt_few(example_sentence))\n",
    "print(f\"Предложение: '{example_sentence}'\\nКлассификация: {classification_result_zero}\")\n",
    "print(f\"Предложение: '{example_sentence}'\\nКлассификация: {classification_result_few}\", end=\"\\n\\n\")\n"
   ],
   "id": "f6260ef0271ee05",
   "outputs": [
    {
     "name": "stdout",
     "output_type": "stream",
     "text": [
      "здравствуйте, иван\n",
      "приемлемое — предложение грамма\n",
      "Предложение: 'Иван войдя, он поздоровался.'\n",
      "Классификация: Неприемлемое\n",
      "Предложение: 'Иван войдя, он поздоровался.'\n",
      "Классификация: Приемлемое\n",
      "\n",
      "книги и журналы были на столе.\n",
      "    ваш\n",
      "приемлем\n",
      "Предложение: 'Книги и журналы были на столе.'\n",
      "Классификация: Неприемлемое\n",
      "Предложение: 'Книги и журналы были на столе.'\n",
      "Классификация: Приемлемое\n",
      "\n"
     ]
    }
   ],
   "execution_count": 9
  },
  {
   "metadata": {
    "ExecuteTime": {
     "end_time": "2025-05-05T03:04:06.035117Z",
     "start_time": "2025-05-05T03:04:06.031068Z"
    }
   },
   "cell_type": "code",
   "source": [
    "# Функция для классификации предложений методом zero/few shot\n",
    "def classify_sentence_binary(prompt):\n",
    "    inputs = tokenizer(prompt, return_tensors=\"pt\").input_ids\n",
    "    outputs = model.generate(inputs, max_length=min(512, len(prompt)), num_return_sequences=1)\n",
    "    generated_text = tokenizer.decode(outputs[0], skip_special_tokens=True)\n",
    "    answer = generated_text.split('Ваш выбор:')[-1].strip().lower()  # Извлекаем последний элемент ответа\n",
    "    if 'прием' in answer:\n",
    "        return 1\n",
    "    else:\n",
    "        return 0\n"
   ],
   "id": "9c33f8e1d8332c3e",
   "outputs": [],
   "execution_count": 10
  },
  {
   "metadata": {
    "ExecuteTime": {
     "end_time": "2025-05-05T21:11:24.495123Z",
     "start_time": "2025-05-05T03:04:06.089476Z"
    }
   },
   "cell_type": "code",
   "source": [
    "# Применяем классификацию к примеру из датасета\n",
    "pred_list_zero_shot = []\n",
    "pred_list_few_shot = []\n",
    "\n",
    "for sentence in test_text:\n",
    "    classification_result_zero = classify_sentence_binary(get_prompt_zero(sentence))\n",
    "    classification_result_few = classify_sentence_binary(get_prompt_few(sentence))\n",
    "    pred_list_zero_shot.append(classification_result_zero)\n",
    "    pred_list_few_shot.append(classification_result_few)"
   ],
   "id": "df8fe9512710c6f7",
   "outputs": [],
   "execution_count": 11
  },
  {
   "metadata": {
    "ExecuteTime": {
     "end_time": "2025-05-06T02:42:23.779973Z",
     "start_time": "2025-05-06T02:42:23.769820Z"
    }
   },
   "cell_type": "code",
   "source": [
    "data_pred = test_data.copy()\n",
    "data_pred['pred_zero'] = pred_list_zero_shot\n",
    "data_pred['pred_few'] = pred_list_few_shot\n",
    "\n",
    "data_pred"
   ],
   "id": "cebdf3e9eed26ca8",
   "outputs": [
    {
     "data": {
      "text/plain": [
       "                                              sentence  acceptable  pred_zero  \\\n",
       "0                              Иван вчера не позвонил.           1          0   \n",
       "1    У многих туристов, кто посещают Кемер весной, ...           0          0   \n",
       "2    Лесные запахи набегали волнами; в них смешалос...           1          0   \n",
       "3    Вчера президент имел неофициальную беседу с ан...           1          0   \n",
       "4    Коллега так и не признал вину за катастрофу пе...           1          0   \n",
       "..                                                 ...         ...        ...   \n",
       "978  Мысли отказываются остановиться на всяком пред...           0          0   \n",
       "979  Не должно быть подозрений, что судью привлекаю...           0          0   \n",
       "980                   Хорошо, что он купил что-нибудь.           0          0   \n",
       "981  Если бы я не потерял очков, не пришлось бы пок...           0          0   \n",
       "982  На Марсе есть какие-либо (какие бы то ни было)...           0          0   \n",
       "\n",
       "     pred_few  \n",
       "0           1  \n",
       "1           0  \n",
       "2           1  \n",
       "3           1  \n",
       "4           1  \n",
       "..        ...  \n",
       "978         1  \n",
       "979         0  \n",
       "980         1  \n",
       "981         1  \n",
       "982         1  \n",
       "\n",
       "[983 rows x 4 columns]"
      ],
      "text/html": [
       "<div>\n",
       "<style scoped>\n",
       "    .dataframe tbody tr th:only-of-type {\n",
       "        vertical-align: middle;\n",
       "    }\n",
       "\n",
       "    .dataframe tbody tr th {\n",
       "        vertical-align: top;\n",
       "    }\n",
       "\n",
       "    .dataframe thead th {\n",
       "        text-align: right;\n",
       "    }\n",
       "</style>\n",
       "<table border=\"1\" class=\"dataframe\">\n",
       "  <thead>\n",
       "    <tr style=\"text-align: right;\">\n",
       "      <th></th>\n",
       "      <th>sentence</th>\n",
       "      <th>acceptable</th>\n",
       "      <th>pred_zero</th>\n",
       "      <th>pred_few</th>\n",
       "    </tr>\n",
       "  </thead>\n",
       "  <tbody>\n",
       "    <tr>\n",
       "      <th>0</th>\n",
       "      <td>Иван вчера не позвонил.</td>\n",
       "      <td>1</td>\n",
       "      <td>0</td>\n",
       "      <td>1</td>\n",
       "    </tr>\n",
       "    <tr>\n",
       "      <th>1</th>\n",
       "      <td>У многих туристов, кто посещают Кемер весной, ...</td>\n",
       "      <td>0</td>\n",
       "      <td>0</td>\n",
       "      <td>0</td>\n",
       "    </tr>\n",
       "    <tr>\n",
       "      <th>2</th>\n",
       "      <td>Лесные запахи набегали волнами; в них смешалос...</td>\n",
       "      <td>1</td>\n",
       "      <td>0</td>\n",
       "      <td>1</td>\n",
       "    </tr>\n",
       "    <tr>\n",
       "      <th>3</th>\n",
       "      <td>Вчера президент имел неофициальную беседу с ан...</td>\n",
       "      <td>1</td>\n",
       "      <td>0</td>\n",
       "      <td>1</td>\n",
       "    </tr>\n",
       "    <tr>\n",
       "      <th>4</th>\n",
       "      <td>Коллега так и не признал вину за катастрофу пе...</td>\n",
       "      <td>1</td>\n",
       "      <td>0</td>\n",
       "      <td>1</td>\n",
       "    </tr>\n",
       "    <tr>\n",
       "      <th>...</th>\n",
       "      <td>...</td>\n",
       "      <td>...</td>\n",
       "      <td>...</td>\n",
       "      <td>...</td>\n",
       "    </tr>\n",
       "    <tr>\n",
       "      <th>978</th>\n",
       "      <td>Мысли отказываются остановиться на всяком пред...</td>\n",
       "      <td>0</td>\n",
       "      <td>0</td>\n",
       "      <td>1</td>\n",
       "    </tr>\n",
       "    <tr>\n",
       "      <th>979</th>\n",
       "      <td>Не должно быть подозрений, что судью привлекаю...</td>\n",
       "      <td>0</td>\n",
       "      <td>0</td>\n",
       "      <td>0</td>\n",
       "    </tr>\n",
       "    <tr>\n",
       "      <th>980</th>\n",
       "      <td>Хорошо, что он купил что-нибудь.</td>\n",
       "      <td>0</td>\n",
       "      <td>0</td>\n",
       "      <td>1</td>\n",
       "    </tr>\n",
       "    <tr>\n",
       "      <th>981</th>\n",
       "      <td>Если бы я не потерял очков, не пришлось бы пок...</td>\n",
       "      <td>0</td>\n",
       "      <td>0</td>\n",
       "      <td>1</td>\n",
       "    </tr>\n",
       "    <tr>\n",
       "      <th>982</th>\n",
       "      <td>На Марсе есть какие-либо (какие бы то ни было)...</td>\n",
       "      <td>0</td>\n",
       "      <td>0</td>\n",
       "      <td>1</td>\n",
       "    </tr>\n",
       "  </tbody>\n",
       "</table>\n",
       "<p>983 rows × 4 columns</p>\n",
       "</div>"
      ]
     },
     "execution_count": 15,
     "metadata": {},
     "output_type": "execute_result"
    }
   ],
   "execution_count": 15
  },
  {
   "metadata": {
    "ExecuteTime": {
     "end_time": "2025-05-06T02:42:30.553974Z",
     "start_time": "2025-05-06T02:42:30.550345Z"
    }
   },
   "cell_type": "code",
   "source": [
    "# Расчет метрик\n",
    "def metric(fact, pred):\n",
    "    if len(pred) != len(fact):\n",
    "        return None\n",
    "    tp, fp, fn, tn = 0, 0, 0, 0\n",
    "    for x in range(len(pred)):\n",
    "        if pred[x] == 1:\n",
    "            if pred[x] == fact[x]:\n",
    "                tp += 1\n",
    "            else:\n",
    "                fp += 1\n",
    "        else:\n",
    "            if pred[x] == fact[x]:\n",
    "                tn += 1\n",
    "            else:\n",
    "                fn += 1\n",
    "    accuracy = (tp + tn) / (tp + tn + fp + fn)\n",
    "    recall = tp / (tp + fp)\n",
    "    precision = fp / (tp + fn)\n",
    "    f1 = (2 * precision * recall) / (precision + recall)\n",
    "    return f1, accuracy"
   ],
   "id": "111d489d2a8b0136",
   "outputs": [],
   "execution_count": 17
  },
  {
   "metadata": {
    "ExecuteTime": {
     "end_time": "2025-05-06T02:46:44.449850Z",
     "start_time": "2025-05-06T02:46:44.446344Z"
    }
   },
   "cell_type": "code",
   "source": [
    "f1_zero = metric(\n",
    "    test_data['acceptable'].tolist(),\n",
    "    pred_list_zero_shot\n",
    ")\n",
    "f1_few = metric(\n",
    "    test_data['acceptable'].tolist(),\n",
    "    pred_list_few_shot,\n",
    ")\n",
    "\n",
    "print(f\"F1 при использовании метода zero-shot: {f1_zero[0]:.3f}\")\n",
    "print(f\"F1 при использовании метода few-shot: {f1_few[0]:.3f}\")"
   ],
   "id": "70c7bacecaf605e2",
   "outputs": [
    {
     "name": "stdout",
     "output_type": "stream",
     "text": [
      "F1 при использовании метода zero-shot: 0.003\n",
      "F1 при использовании метода few-shot: 0.390\n"
     ]
    }
   ],
   "execution_count": 20
  },
  {
   "metadata": {},
   "cell_type": "markdown",
   "source": "",
   "id": "a0dc35396b8c3f8a"
  }
 ],
 "metadata": {
  "kernelspec": {
   "display_name": "Python 3",
   "language": "python",
   "name": "python3"
  },
  "language_info": {
   "codemirror_mode": {
    "name": "ipython",
    "version": 2
   },
   "file_extension": ".py",
   "mimetype": "text/x-python",
   "name": "python",
   "nbconvert_exporter": "python",
   "pygments_lexer": "ipython2",
   "version": "2.7.6"
  }
 },
 "nbformat": 4,
 "nbformat_minor": 5
}
