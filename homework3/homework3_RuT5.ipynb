{
 "cells": [
  {
   "metadata": {
    "id": "kSIGLID31Cr7",
    "executionInfo": {
     "status": "ok",
     "timestamp": 1746446531908,
     "user_tz": -180,
     "elapsed": 44,
     "user": {
      "displayName": "Александр Горбенко",
      "userId": "06688681954453153232"
     }
    },
    "ExecuteTime": {
     "end_time": "2025-05-07T19:04:03.028440Z",
     "start_time": "2025-05-07T19:04:03.026523Z"
    }
   },
   "cell_type": "code",
   "source": [
    "import warnings\n",
    "\n",
    "warnings.filterwarnings(\"ignore\", category=UserWarning)"
   ],
   "outputs": [],
   "execution_count": 1
  },
  {
   "metadata": {
    "id": "uBk5uQ4k1CsG",
    "outputId": "554d7918-6709-4a19-a08d-e62cff682a48",
    "colab": {
     "base_uri": "https://localhost:8080/"
    },
    "executionInfo": {
     "status": "ok",
     "timestamp": 1746446699698,
     "user_tz": -180,
     "elapsed": 155279,
     "user": {
      "displayName": "Александр Горбенко",
      "userId": "06688681954453153232"
     }
    },
    "ExecuteTime": {
     "end_time": "2025-05-07T19:04:07.790626Z",
     "start_time": "2025-05-07T19:04:03.089208Z"
    }
   },
   "cell_type": "code",
   "source": [
    "# Установка необходимых библиотек:\n",
    "!pip install scikit-learn\n",
    "!pip install numpy\n",
    "!pip install datasets\n",
    "!pip install pandas\n",
    "!pip install transformers[torch]\n",
    "!pip install razdel\n",
    "!pip install evaluate"
   ],
   "outputs": [
    {
     "name": "stdout",
     "output_type": "stream",
     "text": [
      "/bin/bash: warning: setlocale: LC_ALL: cannot change locale (en_US.UTF-8)\r\n",
      "Requirement already satisfied: scikit-learn in /home/alexandr/miniconda3/lib/python3.12/site-packages (1.6.1)\r\n",
      "Requirement already satisfied: numpy>=1.19.5 in /home/alexandr/miniconda3/lib/python3.12/site-packages (from scikit-learn) (2.2.5)\r\n",
      "Requirement already satisfied: scipy>=1.6.0 in /home/alexandr/miniconda3/lib/python3.12/site-packages (from scikit-learn) (1.15.2)\r\n",
      "Requirement already satisfied: joblib>=1.2.0 in /home/alexandr/miniconda3/lib/python3.12/site-packages (from scikit-learn) (1.4.2)\r\n",
      "Requirement already satisfied: threadpoolctl>=3.1.0 in /home/alexandr/miniconda3/lib/python3.12/site-packages (from scikit-learn) (3.6.0)\r\n",
      "/bin/bash: warning: setlocale: LC_ALL: cannot change locale (en_US.UTF-8)\r\n",
      "Requirement already satisfied: numpy in /home/alexandr/miniconda3/lib/python3.12/site-packages (2.2.5)\r\n",
      "/bin/bash: warning: setlocale: LC_ALL: cannot change locale (en_US.UTF-8)\r\n",
      "Requirement already satisfied: datasets in /home/alexandr/miniconda3/lib/python3.12/site-packages (3.5.1)\r\n",
      "Requirement already satisfied: filelock in /home/alexandr/miniconda3/lib/python3.12/site-packages (from datasets) (3.18.0)\r\n",
      "Requirement already satisfied: numpy>=1.17 in /home/alexandr/miniconda3/lib/python3.12/site-packages (from datasets) (2.2.5)\r\n",
      "Requirement already satisfied: pyarrow>=15.0.0 in /home/alexandr/miniconda3/lib/python3.12/site-packages (from datasets) (20.0.0)\r\n",
      "Requirement already satisfied: dill<0.3.9,>=0.3.0 in /home/alexandr/miniconda3/lib/python3.12/site-packages (from datasets) (0.3.8)\r\n",
      "Requirement already satisfied: pandas in /home/alexandr/miniconda3/lib/python3.12/site-packages (from datasets) (2.2.3)\r\n",
      "Requirement already satisfied: requests>=2.32.2 in /home/alexandr/miniconda3/lib/python3.12/site-packages (from datasets) (2.32.3)\r\n",
      "Requirement already satisfied: tqdm>=4.66.3 in /home/alexandr/miniconda3/lib/python3.12/site-packages (from datasets) (4.66.4)\r\n",
      "Requirement already satisfied: xxhash in /home/alexandr/miniconda3/lib/python3.12/site-packages (from datasets) (3.5.0)\r\n",
      "Requirement already satisfied: multiprocess<0.70.17 in /home/alexandr/miniconda3/lib/python3.12/site-packages (from datasets) (0.70.16)\r\n",
      "Requirement already satisfied: fsspec<=2025.3.0,>=2023.1.0 in /home/alexandr/miniconda3/lib/python3.12/site-packages (from fsspec[http]<=2025.3.0,>=2023.1.0->datasets) (2025.3.0)\r\n",
      "Requirement already satisfied: aiohttp in /home/alexandr/miniconda3/lib/python3.12/site-packages (from datasets) (3.11.18)\r\n",
      "Requirement already satisfied: huggingface-hub>=0.24.0 in /home/alexandr/miniconda3/lib/python3.12/site-packages (from datasets) (0.30.2)\r\n",
      "Requirement already satisfied: packaging in /home/alexandr/miniconda3/lib/python3.12/site-packages (from datasets) (24.1)\r\n",
      "Requirement already satisfied: pyyaml>=5.1 in /home/alexandr/miniconda3/lib/python3.12/site-packages (from datasets) (6.0.2)\r\n",
      "Requirement already satisfied: aiohappyeyeballs>=2.3.0 in /home/alexandr/miniconda3/lib/python3.12/site-packages (from aiohttp->datasets) (2.6.1)\r\n",
      "Requirement already satisfied: aiosignal>=1.1.2 in /home/alexandr/miniconda3/lib/python3.12/site-packages (from aiohttp->datasets) (1.3.2)\r\n",
      "Requirement already satisfied: attrs>=17.3.0 in /home/alexandr/miniconda3/lib/python3.12/site-packages (from aiohttp->datasets) (24.3.0)\r\n",
      "Requirement already satisfied: frozenlist>=1.1.1 in /home/alexandr/miniconda3/lib/python3.12/site-packages (from aiohttp->datasets) (1.6.0)\r\n",
      "Requirement already satisfied: multidict<7.0,>=4.5 in /home/alexandr/miniconda3/lib/python3.12/site-packages (from aiohttp->datasets) (6.4.3)\r\n",
      "Requirement already satisfied: propcache>=0.2.0 in /home/alexandr/miniconda3/lib/python3.12/site-packages (from aiohttp->datasets) (0.3.1)\r\n",
      "Requirement already satisfied: yarl<2.0,>=1.17.0 in /home/alexandr/miniconda3/lib/python3.12/site-packages (from aiohttp->datasets) (1.20.0)\r\n",
      "Requirement already satisfied: typing-extensions>=3.7.4.3 in /home/alexandr/miniconda3/lib/python3.12/site-packages (from huggingface-hub>=0.24.0->datasets) (4.13.2)\r\n",
      "Requirement already satisfied: charset-normalizer<4,>=2 in /home/alexandr/miniconda3/lib/python3.12/site-packages (from requests>=2.32.2->datasets) (3.3.2)\r\n",
      "Requirement already satisfied: idna<4,>=2.5 in /home/alexandr/miniconda3/lib/python3.12/site-packages (from requests>=2.32.2->datasets) (3.7)\r\n",
      "Requirement already satisfied: urllib3<3,>=1.21.1 in /home/alexandr/miniconda3/lib/python3.12/site-packages (from requests>=2.32.2->datasets) (2.2.2)\r\n",
      "Requirement already satisfied: certifi>=2017.4.17 in /home/alexandr/miniconda3/lib/python3.12/site-packages (from requests>=2.32.2->datasets) (2025.4.26)\r\n",
      "Requirement already satisfied: python-dateutil>=2.8.2 in /home/alexandr/miniconda3/lib/python3.12/site-packages (from pandas->datasets) (2.9.0.post0)\r\n",
      "Requirement already satisfied: pytz>=2020.1 in /home/alexandr/miniconda3/lib/python3.12/site-packages (from pandas->datasets) (2024.1)\r\n",
      "Requirement already satisfied: tzdata>=2022.7 in /home/alexandr/miniconda3/lib/python3.12/site-packages (from pandas->datasets) (2025.2)\r\n",
      "Requirement already satisfied: six>=1.5 in /home/alexandr/miniconda3/lib/python3.12/site-packages (from python-dateutil>=2.8.2->pandas->datasets) (1.17.0)\r\n",
      "/bin/bash: warning: setlocale: LC_ALL: cannot change locale (en_US.UTF-8)\r\n",
      "Requirement already satisfied: pandas in /home/alexandr/miniconda3/lib/python3.12/site-packages (2.2.3)\r\n",
      "Requirement already satisfied: numpy>=1.26.0 in /home/alexandr/miniconda3/lib/python3.12/site-packages (from pandas) (2.2.5)\r\n",
      "Requirement already satisfied: python-dateutil>=2.8.2 in /home/alexandr/miniconda3/lib/python3.12/site-packages (from pandas) (2.9.0.post0)\r\n",
      "Requirement already satisfied: pytz>=2020.1 in /home/alexandr/miniconda3/lib/python3.12/site-packages (from pandas) (2024.1)\r\n",
      "Requirement already satisfied: tzdata>=2022.7 in /home/alexandr/miniconda3/lib/python3.12/site-packages (from pandas) (2025.2)\r\n",
      "Requirement already satisfied: six>=1.5 in /home/alexandr/miniconda3/lib/python3.12/site-packages (from python-dateutil>=2.8.2->pandas) (1.17.0)\r\n",
      "/bin/bash: warning: setlocale: LC_ALL: cannot change locale (en_US.UTF-8)\r\n",
      "Requirement already satisfied: transformers[torch] in /home/alexandr/miniconda3/lib/python3.12/site-packages (4.51.3)\r\n",
      "Requirement already satisfied: filelock in /home/alexandr/miniconda3/lib/python3.12/site-packages (from transformers[torch]) (3.18.0)\r\n",
      "Requirement already satisfied: huggingface-hub<1.0,>=0.30.0 in /home/alexandr/miniconda3/lib/python3.12/site-packages (from transformers[torch]) (0.30.2)\r\n",
      "Requirement already satisfied: numpy>=1.17 in /home/alexandr/miniconda3/lib/python3.12/site-packages (from transformers[torch]) (2.2.5)\r\n",
      "Requirement already satisfied: packaging>=20.0 in /home/alexandr/miniconda3/lib/python3.12/site-packages (from transformers[torch]) (24.1)\r\n",
      "Requirement already satisfied: pyyaml>=5.1 in /home/alexandr/miniconda3/lib/python3.12/site-packages (from transformers[torch]) (6.0.2)\r\n",
      "Requirement already satisfied: regex!=2019.12.17 in /home/alexandr/miniconda3/lib/python3.12/site-packages (from transformers[torch]) (2024.11.6)\r\n",
      "Requirement already satisfied: requests in /home/alexandr/miniconda3/lib/python3.12/site-packages (from transformers[torch]) (2.32.3)\r\n",
      "Requirement already satisfied: tokenizers<0.22,>=0.21 in /home/alexandr/miniconda3/lib/python3.12/site-packages (from transformers[torch]) (0.21.1)\r\n",
      "Requirement already satisfied: safetensors>=0.4.3 in /home/alexandr/miniconda3/lib/python3.12/site-packages (from transformers[torch]) (0.5.3)\r\n",
      "Requirement already satisfied: tqdm>=4.27 in /home/alexandr/miniconda3/lib/python3.12/site-packages (from transformers[torch]) (4.66.4)\r\n",
      "Requirement already satisfied: torch>=2.0 in /home/alexandr/miniconda3/lib/python3.12/site-packages (from transformers[torch]) (2.7.0)\r\n",
      "Requirement already satisfied: accelerate>=0.26.0 in /home/alexandr/miniconda3/lib/python3.12/site-packages (from transformers[torch]) (1.6.0)\r\n",
      "Requirement already satisfied: psutil in /home/alexandr/miniconda3/lib/python3.12/site-packages (from accelerate>=0.26.0->transformers[torch]) (5.9.0)\r\n",
      "Requirement already satisfied: fsspec>=2023.5.0 in /home/alexandr/miniconda3/lib/python3.12/site-packages (from huggingface-hub<1.0,>=0.30.0->transformers[torch]) (2025.3.0)\r\n",
      "Requirement already satisfied: typing-extensions>=3.7.4.3 in /home/alexandr/miniconda3/lib/python3.12/site-packages (from huggingface-hub<1.0,>=0.30.0->transformers[torch]) (4.13.2)\r\n",
      "Requirement already satisfied: setuptools in /home/alexandr/miniconda3/lib/python3.12/site-packages (from torch>=2.0->transformers[torch]) (72.1.0)\r\n",
      "Requirement already satisfied: sympy>=1.13.3 in /home/alexandr/miniconda3/lib/python3.12/site-packages (from torch>=2.0->transformers[torch]) (1.14.0)\r\n",
      "Requirement already satisfied: networkx in /home/alexandr/miniconda3/lib/python3.12/site-packages (from torch>=2.0->transformers[torch]) (3.4.2)\r\n",
      "Requirement already satisfied: jinja2 in /home/alexandr/miniconda3/lib/python3.12/site-packages (from torch>=2.0->transformers[torch]) (3.1.6)\r\n",
      "Requirement already satisfied: nvidia-cuda-nvrtc-cu12==12.6.77 in /home/alexandr/miniconda3/lib/python3.12/site-packages (from torch>=2.0->transformers[torch]) (12.6.77)\r\n",
      "Requirement already satisfied: nvidia-cuda-runtime-cu12==12.6.77 in /home/alexandr/miniconda3/lib/python3.12/site-packages (from torch>=2.0->transformers[torch]) (12.6.77)\r\n",
      "Requirement already satisfied: nvidia-cuda-cupti-cu12==12.6.80 in /home/alexandr/miniconda3/lib/python3.12/site-packages (from torch>=2.0->transformers[torch]) (12.6.80)\r\n",
      "Requirement already satisfied: nvidia-cudnn-cu12==9.5.1.17 in /home/alexandr/miniconda3/lib/python3.12/site-packages (from torch>=2.0->transformers[torch]) (9.5.1.17)\r\n",
      "Requirement already satisfied: nvidia-cublas-cu12==12.6.4.1 in /home/alexandr/miniconda3/lib/python3.12/site-packages (from torch>=2.0->transformers[torch]) (12.6.4.1)\r\n",
      "Requirement already satisfied: nvidia-cufft-cu12==11.3.0.4 in /home/alexandr/miniconda3/lib/python3.12/site-packages (from torch>=2.0->transformers[torch]) (11.3.0.4)\r\n",
      "Requirement already satisfied: nvidia-curand-cu12==10.3.7.77 in /home/alexandr/miniconda3/lib/python3.12/site-packages (from torch>=2.0->transformers[torch]) (10.3.7.77)\r\n",
      "Requirement already satisfied: nvidia-cusolver-cu12==11.7.1.2 in /home/alexandr/miniconda3/lib/python3.12/site-packages (from torch>=2.0->transformers[torch]) (11.7.1.2)\r\n",
      "Requirement already satisfied: nvidia-cusparse-cu12==12.5.4.2 in /home/alexandr/miniconda3/lib/python3.12/site-packages (from torch>=2.0->transformers[torch]) (12.5.4.2)\r\n",
      "Requirement already satisfied: nvidia-cusparselt-cu12==0.6.3 in /home/alexandr/miniconda3/lib/python3.12/site-packages (from torch>=2.0->transformers[torch]) (0.6.3)\r\n",
      "Requirement already satisfied: nvidia-nccl-cu12==2.26.2 in /home/alexandr/miniconda3/lib/python3.12/site-packages (from torch>=2.0->transformers[torch]) (2.26.2)\r\n",
      "Requirement already satisfied: nvidia-nvtx-cu12==12.6.77 in /home/alexandr/miniconda3/lib/python3.12/site-packages (from torch>=2.0->transformers[torch]) (12.6.77)\r\n",
      "Requirement already satisfied: nvidia-nvjitlink-cu12==12.6.85 in /home/alexandr/miniconda3/lib/python3.12/site-packages (from torch>=2.0->transformers[torch]) (12.6.85)\r\n",
      "Requirement already satisfied: nvidia-cufile-cu12==1.11.1.6 in /home/alexandr/miniconda3/lib/python3.12/site-packages (from torch>=2.0->transformers[torch]) (1.11.1.6)\r\n",
      "Requirement already satisfied: triton==3.3.0 in /home/alexandr/miniconda3/lib/python3.12/site-packages (from torch>=2.0->transformers[torch]) (3.3.0)\r\n",
      "Requirement already satisfied: charset-normalizer<4,>=2 in /home/alexandr/miniconda3/lib/python3.12/site-packages (from requests->transformers[torch]) (3.3.2)\r\n",
      "Requirement already satisfied: idna<4,>=2.5 in /home/alexandr/miniconda3/lib/python3.12/site-packages (from requests->transformers[torch]) (3.7)\r\n",
      "Requirement already satisfied: urllib3<3,>=1.21.1 in /home/alexandr/miniconda3/lib/python3.12/site-packages (from requests->transformers[torch]) (2.2.2)\r\n",
      "Requirement already satisfied: certifi>=2017.4.17 in /home/alexandr/miniconda3/lib/python3.12/site-packages (from requests->transformers[torch]) (2025.4.26)\r\n",
      "Requirement already satisfied: mpmath<1.4,>=1.1.0 in /home/alexandr/miniconda3/lib/python3.12/site-packages (from sympy>=1.13.3->torch>=2.0->transformers[torch]) (1.3.0)\r\n",
      "Requirement already satisfied: MarkupSafe>=2.0 in /home/alexandr/miniconda3/lib/python3.12/site-packages (from jinja2->torch>=2.0->transformers[torch]) (3.0.2)\r\n",
      "/bin/bash: warning: setlocale: LC_ALL: cannot change locale (en_US.UTF-8)\r\n",
      "Requirement already satisfied: razdel in /home/alexandr/miniconda3/lib/python3.12/site-packages (0.5.0)\r\n",
      "/bin/bash: warning: setlocale: LC_ALL: cannot change locale (en_US.UTF-8)\r\n",
      "Requirement already satisfied: evaluate in /home/alexandr/miniconda3/lib/python3.12/site-packages (0.4.3)\r\n",
      "Requirement already satisfied: datasets>=2.0.0 in /home/alexandr/miniconda3/lib/python3.12/site-packages (from evaluate) (3.5.1)\r\n",
      "Requirement already satisfied: numpy>=1.17 in /home/alexandr/miniconda3/lib/python3.12/site-packages (from evaluate) (2.2.5)\r\n",
      "Requirement already satisfied: dill in /home/alexandr/miniconda3/lib/python3.12/site-packages (from evaluate) (0.3.8)\r\n",
      "Requirement already satisfied: pandas in /home/alexandr/miniconda3/lib/python3.12/site-packages (from evaluate) (2.2.3)\r\n",
      "Requirement already satisfied: requests>=2.19.0 in /home/alexandr/miniconda3/lib/python3.12/site-packages (from evaluate) (2.32.3)\r\n",
      "Requirement already satisfied: tqdm>=4.62.1 in /home/alexandr/miniconda3/lib/python3.12/site-packages (from evaluate) (4.66.4)\r\n",
      "Requirement already satisfied: xxhash in /home/alexandr/miniconda3/lib/python3.12/site-packages (from evaluate) (3.5.0)\r\n",
      "Requirement already satisfied: multiprocess in /home/alexandr/miniconda3/lib/python3.12/site-packages (from evaluate) (0.70.16)\r\n",
      "Requirement already satisfied: fsspec>=2021.05.0 in /home/alexandr/miniconda3/lib/python3.12/site-packages (from fsspec[http]>=2021.05.0->evaluate) (2025.3.0)\r\n",
      "Requirement already satisfied: huggingface-hub>=0.7.0 in /home/alexandr/miniconda3/lib/python3.12/site-packages (from evaluate) (0.30.2)\r\n",
      "Requirement already satisfied: packaging in /home/alexandr/miniconda3/lib/python3.12/site-packages (from evaluate) (24.1)\r\n",
      "Requirement already satisfied: filelock in /home/alexandr/miniconda3/lib/python3.12/site-packages (from datasets>=2.0.0->evaluate) (3.18.0)\r\n",
      "Requirement already satisfied: pyarrow>=15.0.0 in /home/alexandr/miniconda3/lib/python3.12/site-packages (from datasets>=2.0.0->evaluate) (20.0.0)\r\n",
      "Requirement already satisfied: aiohttp in /home/alexandr/miniconda3/lib/python3.12/site-packages (from datasets>=2.0.0->evaluate) (3.11.18)\r\n",
      "Requirement already satisfied: pyyaml>=5.1 in /home/alexandr/miniconda3/lib/python3.12/site-packages (from datasets>=2.0.0->evaluate) (6.0.2)\r\n",
      "Requirement already satisfied: typing-extensions>=3.7.4.3 in /home/alexandr/miniconda3/lib/python3.12/site-packages (from huggingface-hub>=0.7.0->evaluate) (4.13.2)\r\n",
      "Requirement already satisfied: charset-normalizer<4,>=2 in /home/alexandr/miniconda3/lib/python3.12/site-packages (from requests>=2.19.0->evaluate) (3.3.2)\r\n",
      "Requirement already satisfied: idna<4,>=2.5 in /home/alexandr/miniconda3/lib/python3.12/site-packages (from requests>=2.19.0->evaluate) (3.7)\r\n",
      "Requirement already satisfied: urllib3<3,>=1.21.1 in /home/alexandr/miniconda3/lib/python3.12/site-packages (from requests>=2.19.0->evaluate) (2.2.2)\r\n",
      "Requirement already satisfied: certifi>=2017.4.17 in /home/alexandr/miniconda3/lib/python3.12/site-packages (from requests>=2.19.0->evaluate) (2025.4.26)\r\n",
      "Requirement already satisfied: python-dateutil>=2.8.2 in /home/alexandr/miniconda3/lib/python3.12/site-packages (from pandas->evaluate) (2.9.0.post0)\r\n",
      "Requirement already satisfied: pytz>=2020.1 in /home/alexandr/miniconda3/lib/python3.12/site-packages (from pandas->evaluate) (2024.1)\r\n",
      "Requirement already satisfied: tzdata>=2022.7 in /home/alexandr/miniconda3/lib/python3.12/site-packages (from pandas->evaluate) (2025.2)\r\n",
      "Requirement already satisfied: aiohappyeyeballs>=2.3.0 in /home/alexandr/miniconda3/lib/python3.12/site-packages (from aiohttp->datasets>=2.0.0->evaluate) (2.6.1)\r\n",
      "Requirement already satisfied: aiosignal>=1.1.2 in /home/alexandr/miniconda3/lib/python3.12/site-packages (from aiohttp->datasets>=2.0.0->evaluate) (1.3.2)\r\n",
      "Requirement already satisfied: attrs>=17.3.0 in /home/alexandr/miniconda3/lib/python3.12/site-packages (from aiohttp->datasets>=2.0.0->evaluate) (24.3.0)\r\n",
      "Requirement already satisfied: frozenlist>=1.1.1 in /home/alexandr/miniconda3/lib/python3.12/site-packages (from aiohttp->datasets>=2.0.0->evaluate) (1.6.0)\r\n",
      "Requirement already satisfied: multidict<7.0,>=4.5 in /home/alexandr/miniconda3/lib/python3.12/site-packages (from aiohttp->datasets>=2.0.0->evaluate) (6.4.3)\r\n",
      "Requirement already satisfied: propcache>=0.2.0 in /home/alexandr/miniconda3/lib/python3.12/site-packages (from aiohttp->datasets>=2.0.0->evaluate) (0.3.1)\r\n",
      "Requirement already satisfied: yarl<2.0,>=1.17.0 in /home/alexandr/miniconda3/lib/python3.12/site-packages (from aiohttp->datasets>=2.0.0->evaluate) (1.20.0)\r\n",
      "Requirement already satisfied: six>=1.5 in /home/alexandr/miniconda3/lib/python3.12/site-packages (from python-dateutil>=2.8.2->pandas->evaluate) (1.17.0)\r\n"
     ]
    }
   ],
   "execution_count": 2
  },
  {
   "cell_type": "code",
   "metadata": {
    "id": "jZ271nOXVU9v",
    "executionInfo": {
     "status": "ok",
     "timestamp": 1746447127175,
     "user_tz": -180,
     "elapsed": 38,
     "user": {
      "displayName": "Александр Горбенко",
      "userId": "06688681954453153232"
     }
    },
    "ExecuteTime": {
     "end_time": "2025-05-07T19:04:11.716575Z",
     "start_time": "2025-05-07T19:04:07.873936Z"
    }
   },
   "source": [
    "import pandas as pd\n",
    "import numpy as np\n",
    "import random\n",
    "from datasets import Dataset, DatasetDict\n",
    "from evaluate import load\n",
    "from transformers import (\n",
    "    Seq2SeqTrainingArguments,\n",
    "    Seq2SeqTrainer,\n",
    "    T5Tokenizer,\n",
    "    T5ForConditionalGeneration,\n",
    "    DataCollatorForSeq2Seq)\n",
    "from sklearn.model_selection import train_test_split\n",
    "from sklearn.metrics import accuracy_score, recall_score, precision_score, f1_score, classification_report\n",
    "import torch\n",
    "from functools import partial\n",
    "from razdel import tokenize"
   ],
   "outputs": [],
   "execution_count": 3
  },
  {
   "cell_type": "code",
   "source": [
    "# Фиксирование рандома, чтобы результат был более менее воспроизводим\n",
    "def seed_all(seed_value):\n",
    "    random.seed(seed_value)\n",
    "    np.random.seed(seed_value)\n",
    "    torch.manual_seed(seed_value)\n",
    "    if torch.cuda.is_available():\n",
    "        torch.cuda.manual_seed(seed_value)\n",
    "        torch.cuda.manual_seed_all(seed_value)\n",
    "        torch.backends.cudnn.benchmark = True\n",
    "        torch.backends.cudnn.deterministic = False\n",
    "\n",
    "\n",
    "seed_all(1234)"
   ],
   "metadata": {
    "id": "PMzk9PxOMqHs",
    "executionInfo": {
     "status": "ok",
     "timestamp": 1746446790305,
     "user_tz": -180,
     "elapsed": 101,
     "user": {
      "displayName": "Александр Горбенко",
      "userId": "06688681954453153232"
     }
    },
    "ExecuteTime": {
     "end_time": "2025-05-07T19:04:11.735681Z",
     "start_time": "2025-05-07T19:04:11.727404Z"
    }
   },
   "outputs": [],
   "execution_count": 4
  },
  {
   "metadata": {
    "ExecuteTime": {
     "end_time": "2025-05-07T19:04:11.805578Z",
     "start_time": "2025-05-07T19:04:11.776079Z"
    }
   },
   "cell_type": "code",
   "source": [
    "# Загрузка данных\n",
    "data = pd.read_csv(\"in_domain_train.csv\", usecols=['sentence', 'acceptable'])\n",
    "test_data = pd.read_csv(\"in_domain_dev.csv\")\n",
    "test_data = test_data[['sentence', 'acceptable']]\n",
    "\n",
    "train_data, val_data = train_test_split(data, test_size=0.2)\n",
    "train_data = train_data.reset_index()[['sentence', 'acceptable']]\n",
    "val_data = val_data.reset_index()[['sentence', 'acceptable']]"
   ],
   "outputs": [],
   "execution_count": 5
  },
  {
   "metadata": {
    "ExecuteTime": {
     "end_time": "2025-05-07T19:04:11.844569Z",
     "start_time": "2025-05-07T19:04:11.833831Z"
    }
   },
   "cell_type": "code",
   "source": "train_data",
   "outputs": [
    {
     "data": {
      "text/plain": [
       "                                            sentence  acceptable\n",
       "0            Приближался нечеловеческие рев и топот.           0\n",
       "1  В котором часу завтра утром начинается конфере...           1\n",
       "2                Она сидела на диване рядом с мужем.           1\n",
       "3  Это были студенты, сами сведущие в эскимосском...           1\n",
       "4  При всем том я оптимист и думаю, что мой конфл...           1\n",
       "5  По окончанию института Григорий отправился на ...           0\n",
       "6              Геологической партии не было на базе.           1\n",
       "7  Спортсмены, приехавшие на чемпионат, надеялись...           0\n",
       "8             Между ними началось нечто неожиданное.           1\n",
       "9  В случае если не оказать своевременно медицинс...           1"
      ],
      "text/html": [
       "<div>\n",
       "<style scoped>\n",
       "    .dataframe tbody tr th:only-of-type {\n",
       "        vertical-align: middle;\n",
       "    }\n",
       "\n",
       "    .dataframe tbody tr th {\n",
       "        vertical-align: top;\n",
       "    }\n",
       "\n",
       "    .dataframe thead th {\n",
       "        text-align: right;\n",
       "    }\n",
       "</style>\n",
       "<table border=\"1\" class=\"dataframe\">\n",
       "  <thead>\n",
       "    <tr style=\"text-align: right;\">\n",
       "      <th></th>\n",
       "      <th>sentence</th>\n",
       "      <th>acceptable</th>\n",
       "    </tr>\n",
       "  </thead>\n",
       "  <tbody>\n",
       "    <tr>\n",
       "      <th>0</th>\n",
       "      <td>Приближался нечеловеческие рев и топот.</td>\n",
       "      <td>0</td>\n",
       "    </tr>\n",
       "    <tr>\n",
       "      <th>1</th>\n",
       "      <td>В котором часу завтра утром начинается конфере...</td>\n",
       "      <td>1</td>\n",
       "    </tr>\n",
       "    <tr>\n",
       "      <th>2</th>\n",
       "      <td>Она сидела на диване рядом с мужем.</td>\n",
       "      <td>1</td>\n",
       "    </tr>\n",
       "    <tr>\n",
       "      <th>3</th>\n",
       "      <td>Это были студенты, сами сведущие в эскимосском...</td>\n",
       "      <td>1</td>\n",
       "    </tr>\n",
       "    <tr>\n",
       "      <th>4</th>\n",
       "      <td>При всем том я оптимист и думаю, что мой конфл...</td>\n",
       "      <td>1</td>\n",
       "    </tr>\n",
       "    <tr>\n",
       "      <th>5</th>\n",
       "      <td>По окончанию института Григорий отправился на ...</td>\n",
       "      <td>0</td>\n",
       "    </tr>\n",
       "    <tr>\n",
       "      <th>6</th>\n",
       "      <td>Геологической партии не было на базе.</td>\n",
       "      <td>1</td>\n",
       "    </tr>\n",
       "    <tr>\n",
       "      <th>7</th>\n",
       "      <td>Спортсмены, приехавшие на чемпионат, надеялись...</td>\n",
       "      <td>0</td>\n",
       "    </tr>\n",
       "    <tr>\n",
       "      <th>8</th>\n",
       "      <td>Между ними началось нечто неожиданное.</td>\n",
       "      <td>1</td>\n",
       "    </tr>\n",
       "    <tr>\n",
       "      <th>9</th>\n",
       "      <td>В случае если не оказать своевременно медицинс...</td>\n",
       "      <td>1</td>\n",
       "    </tr>\n",
       "  </tbody>\n",
       "</table>\n",
       "</div>"
      ]
     },
     "execution_count": 6,
     "metadata": {},
     "output_type": "execute_result"
    }
   ],
   "execution_count": 6
  },
  {
   "metadata": {
    "ExecuteTime": {
     "end_time": "2025-05-07T19:04:18.489472Z",
     "start_time": "2025-05-07T19:04:11.898887Z"
    }
   },
   "cell_type": "code",
   "source": [
    "# Загружаем нужную модель\n",
    "model_checkpoint = \"sberbank-ai/ruT5-large\"\n",
    "model = T5ForConditionalGeneration.from_pretrained(model_checkpoint)\n",
    "tokenizer = T5Tokenizer.from_pretrained(model_checkpoint)\n",
    "\n",
    "device = torch.device('cuda' if torch.cuda.is_available() else 'cpu')\n",
    "if device.type == 'cuda':\n",
    "    model = model.to(\"cuda\")"
   ],
   "outputs": [
    {
     "name": "stderr",
     "output_type": "stream",
     "text": [
      "You are using the default legacy behaviour of the <class 'transformers.models.t5.tokenization_t5.T5Tokenizer'>. This is expected, and simply means that the `legacy` (previous) behavior will be used so nothing changes for you. If you want to use the new behaviour, set `legacy=False`. This should only be set if you understand what it means, and thoroughly read the reason why this was added as explained in https://github.com/huggingface/transformers/pull/24565\n"
     ]
    }
   ],
   "execution_count": 7
  },
  {
   "metadata": {
    "ExecuteTime": {
     "end_time": "2025-05-07T19:22:30.175158Z",
     "start_time": "2025-05-07T19:22:30.169361Z"
    }
   },
   "cell_type": "code",
   "source": [
    "POS_LABEL = \"yes\"\n",
    "NEG_LABEL = \"no\"\n",
    "\n",
    "def preprocess_examples(examples, tokenizer):\n",
    "    result = tokenizer(examples[\"sentence\"], padding=False)\n",
    "\n",
    "    if \"acceptable\" in examples:\n",
    "        label_sequences = []\n",
    "        for label in examples[\"acceptable\"]:\n",
    "            if label == 1:\n",
    "                target_sequence = POS_LABEL\n",
    "            elif label == 0:\n",
    "                target_sequence = NEG_LABEL\n",
    "            else:\n",
    "                raise ValueError(\"Unknown class label\")\n",
    "            label_sequences.append(target_sequence)\n",
    "\n",
    "    else:\n",
    "        # a hack to avoid the \"You have to specify either decoder_input_ids or decoder_inputs_embeds\" error\n",
    "        # for test data\n",
    "        label_sequences = [\"\" for _ in examples[\"sentence\"]]\n",
    "\n",
    "    result[\"labels\"] = tokenizer(label_sequences, padding=False)[\"input_ids\"]\n",
    "    result[\"length\"] = [len(list(tokenize(sentence))) for sentence in examples[\"sentence\"]]\n",
    "    return result"
   ],
   "outputs": [],
   "execution_count": 47
  },
  {
   "metadata": {
    "ExecuteTime": {
     "end_time": "2025-05-07T19:22:54.150547Z",
     "start_time": "2025-05-07T19:22:49.054209Z"
    }
   },
   "cell_type": "code",
   "source": [
    "ACCURACY = load(\"accuracy\", keep_in_memory=True)\n",
    "MCC = load(\"matthews_correlation\", keep_in_memory=True)\n",
    "\n",
    "\n",
    "def compute_metrics(p, tokenizer):\n",
    "    string_preds = tokenizer.batch_decode(p.predictions, skip_special_tokens=True)\n",
    "    int_preds = [1 if prediction == POS_LABEL else 0 for prediction in string_preds]\n",
    "\n",
    "    labels = np.where(p.label_ids != -100, p.label_ids, tokenizer.pad_token_id)\n",
    "    string_labels = tokenizer.batch_decode(labels, skip_special_tokens=True)\n",
    "    int_labels = []\n",
    "\n",
    "    for string_label in string_labels:\n",
    "        if string_label == POS_LABEL:\n",
    "            int_labels.append(1)\n",
    "        elif string_label == NEG_LABEL or string_label == \"\":  # second case accounts for test data\n",
    "            int_labels.append(0)\n",
    "        else:\n",
    "            raise ValueError()\n",
    "\n",
    "    acc_result = ACCURACY.compute(predictions=int_preds, references=int_labels)\n",
    "    mcc_result = MCC.compute(predictions=int_preds, references=int_labels)\n",
    "\n",
    "    result = {\"accuracy\": acc_result[\"accuracy\"], \"mcc\": mcc_result[\"matthews_correlation\"]}\n",
    "\n",
    "    return result\n"
   ],
   "outputs": [],
   "execution_count": 50
  },
  {
   "metadata": {
    "ExecuteTime": {
     "end_time": "2025-05-07T19:22:54.223233Z",
     "start_time": "2025-05-07T19:22:54.168468Z"
    }
   },
   "cell_type": "code",
   "source": [
    "train, val, test = map(Dataset.from_pandas, (train_data, val_data, test_data))\n",
    "data = DatasetDict(train=train, val=val, test=test)\n",
    "\n",
    "tokenized_dataset = data.map(\n",
    "    partial(preprocess_examples, tokenizer=tokenizer),\n",
    "    batched=True,\n",
    "    remove_columns=[\"sentence\"],\n",
    ")"
   ],
   "outputs": [
    {
     "data": {
      "text/plain": [
       "Map:   0%|          | 0/10 [00:00<?, ? examples/s]"
      ],
      "application/vnd.jupyter.widget-view+json": {
       "version_major": 2,
       "version_minor": 0,
       "model_id": "267f075aed8f4495b6344bda1d4a28ac"
      }
     },
     "metadata": {},
     "output_type": "display_data"
    },
    {
     "data": {
      "text/plain": [
       "Map:   0%|          | 0/10 [00:00<?, ? examples/s]"
      ],
      "application/vnd.jupyter.widget-view+json": {
       "version_major": 2,
       "version_minor": 0,
       "model_id": "93bc0a0c5a6c4b8aaaccafa1ac6ed4dc"
      }
     },
     "metadata": {},
     "output_type": "display_data"
    },
    {
     "data": {
      "text/plain": [
       "Map:   0%|          | 0/10 [00:00<?, ? examples/s]"
      ],
      "application/vnd.jupyter.widget-view+json": {
       "version_major": 2,
       "version_minor": 0,
       "model_id": "a35ab19d0eec424c9873e004a4c3a396"
      }
     },
     "metadata": {},
     "output_type": "display_data"
    }
   ],
   "execution_count": 51
  },
  {
   "metadata": {
    "ExecuteTime": {
     "end_time": "2025-05-07T19:22:59.440005Z",
     "start_time": "2025-05-07T19:22:59.432542Z"
    }
   },
   "cell_type": "code",
   "source": [
    "# Параметры, которые будут использоваться для обучения\n",
    "training_args = Seq2SeqTrainingArguments(\n",
    "    output_dir='./fine-tuning_RuT5_results',  #Выходной каталог\n",
    "    overwrite_output_dir=True,\n",
    "    eval_strategy=\"epoch\",\n",
    "    per_device_train_batch_size=4,\n",
    "    per_device_eval_batch_size=4,\n",
    "    learning_rate=1e-3,\n",
    "    weight_decay=1e-4,\n",
    "    num_train_epochs=3,\n",
    "    lr_scheduler_type=\"constant\",\n",
    "    save_strategy=\"epoch\",\n",
    "    save_total_limit=1,\n",
    "    seed=10,\n",
    "    fp16=True,\n",
    "    dataloader_num_workers=4,\n",
    "    group_by_length=True,\n",
    "    report_to=\"none\",\n",
    "    load_best_model_at_end=True,\n",
    "    metric_for_best_model=\"eval_mcc\",\n",
    "    optim=\"adafactor\",\n",
    "    predict_with_generate=True,\n",
    "\n",
    ")"
   ],
   "outputs": [],
   "execution_count": 52
  },
  {
   "metadata": {
    "id": "lTK7n-BT1Csu",
    "executionInfo": {
     "status": "ok",
     "timestamp": 1746447331337,
     "user_tz": -180,
     "elapsed": 4805,
     "user": {
      "displayName": "Александр Горбенко",
      "userId": "06688681954453153232"
     }
    },
    "ExecuteTime": {
     "end_time": "2025-05-07T19:23:01.640706Z",
     "start_time": "2025-05-07T19:23:01.624671Z"
    }
   },
   "cell_type": "code",
   "source": [
    "data_collator = DataCollatorForSeq2Seq(tokenizer=tokenizer)\n",
    "\n",
    "trainer = Seq2SeqTrainer(model=model,\n",
    "                         args=training_args,\n",
    "                         train_dataset=tokenized_dataset['train'],\n",
    "                         eval_dataset=tokenized_dataset['val'],\n",
    "                         compute_metrics=partial(compute_metrics, tokenizer=tokenizer),\n",
    "                         data_collator=data_collator,\n",
    "                         )"
   ],
   "outputs": [],
   "execution_count": 53
  },
  {
   "metadata": {
    "id": "2N31peiR1Csw",
    "outputId": "6ea616ae-eeec-4d77-d57d-e51a4e2624bb",
    "colab": {
     "base_uri": "https://localhost:8080/",
     "height": 211
    },
    "executionInfo": {
     "status": "error",
     "timestamp": 1746447706903,
     "user_tz": -180,
     "elapsed": 128,
     "user": {
      "displayName": "Александр Горбенко",
      "userId": "06688681954453153232"
     }
    },
    "ExecuteTime": {
     "end_time": "2025-05-07T19:24:20.962410Z",
     "start_time": "2025-05-07T19:23:14.524017Z"
    }
   },
   "cell_type": "code",
   "source": "train_result = trainer.train()",
   "outputs": [
    {
     "data": {
      "text/plain": [
       "<IPython.core.display.HTML object>"
      ],
      "text/html": [
       "\n",
       "    <div>\n",
       "      \n",
       "      <progress value='9' max='9' style='width:300px; height:20px; vertical-align: middle;'></progress>\n",
       "      [9/9 01:00, Epoch 3/3]\n",
       "    </div>\n",
       "    <table border=\"1\" class=\"dataframe\">\n",
       "  <thead>\n",
       " <tr style=\"text-align: left;\">\n",
       "      <th>Epoch</th>\n",
       "      <th>Training Loss</th>\n",
       "      <th>Validation Loss</th>\n",
       "      <th>Accuracy</th>\n",
       "      <th>Mcc</th>\n",
       "    </tr>\n",
       "  </thead>\n",
       "  <tbody>\n",
       "    <tr>\n",
       "      <td>1</td>\n",
       "      <td>No log</td>\n",
       "      <td>1.123655</td>\n",
       "      <td>0.200000</td>\n",
       "      <td>0.000000</td>\n",
       "    </tr>\n",
       "    <tr>\n",
       "      <td>2</td>\n",
       "      <td>No log</td>\n",
       "      <td>0.775712</td>\n",
       "      <td>0.800000</td>\n",
       "      <td>0.000000</td>\n",
       "    </tr>\n",
       "    <tr>\n",
       "      <td>3</td>\n",
       "      <td>No log</td>\n",
       "      <td>1.058987</td>\n",
       "      <td>0.200000</td>\n",
       "      <td>0.000000</td>\n",
       "    </tr>\n",
       "  </tbody>\n",
       "</table><p>"
      ]
     },
     "metadata": {},
     "output_type": "display_data"
    },
    {
     "name": "stderr",
     "output_type": "stream",
     "text": [
      "There were missing keys in the checkpoint model loaded: ['encoder.embed_tokens.weight', 'decoder.embed_tokens.weight', 'lm_head.weight'].\n"
     ]
    }
   ],
   "execution_count": 54
  },
  {
   "metadata": {
    "ExecuteTime": {
     "end_time": "2025-05-07T19:24:25.143690Z",
     "start_time": "2025-05-07T19:24:25.138595Z"
    }
   },
   "cell_type": "code",
   "source": [
    "# Проверяем метрики\n",
    "print(\"train\", train_result.metrics)"
   ],
   "outputs": [
    {
     "name": "stdout",
     "output_type": "stream",
     "text": [
      "train {'train_runtime': 65.9786, 'train_samples_per_second': 0.455, 'train_steps_per_second': 0.136, 'total_flos': 2562536448000.0, 'train_loss': 3.0727820926242404, 'epoch': 3.0}\n"
     ]
    }
   ],
   "execution_count": 55
  },
  {
   "metadata": {
    "ExecuteTime": {
     "end_time": "2025-05-07T19:24:29.855530Z",
     "start_time": "2025-05-07T19:24:27.148044Z"
    }
   },
   "cell_type": "code",
   "source": [
    "val_predictions = trainer.predict(\n",
    "    test_dataset=trainer.eval_dataset,\n",
    "    metric_key_prefix=\"test\",\n",
    "    max_length=10\n",
    ")\n",
    "print(\"val\", val_predictions.metrics)\n"
   ],
   "outputs": [
    {
     "data": {
      "text/plain": [
       "<IPython.core.display.HTML object>"
      ],
      "text/html": []
     },
     "metadata": {},
     "output_type": "display_data"
    },
    {
     "name": "stdout",
     "output_type": "stream",
     "text": [
      "val {'test_loss': 1.3397712707519531, 'test_accuracy': 0.2, 'test_mcc': 0.0, 'test_runtime': 2.7002, 'test_samples_per_second': 3.703, 'test_steps_per_second': 1.111}\n"
     ]
    }
   ],
   "execution_count": 56
  },
  {
   "metadata": {},
   "cell_type": "code",
   "outputs": [
    {
     "data": {
      "text/plain": [
       "('./fine-tune-RuT5/tokenizer_config.json',\n",
       " './fine-tune-RuT5/special_tokens_map.json',\n",
       " './fine-tune-RuT5/spiece.model',\n",
       " './fine-tune-RuT5/added_tokens.json')"
      ]
     },
     "execution_count": 14,
     "metadata": {},
     "output_type": "execute_result"
    }
   ],
   "execution_count": 14,
   "source": [
    "# Сохранение обученной модели\n",
    "model_path = './fine-tune-RuT5'\n",
    "model.save_pretrained(model_path)\n",
    "tokenizer.save_pretrained(model_path)"
   ]
  },
  {
   "metadata": {
    "ExecuteTime": {
     "end_time": "2025-05-07T19:25:53.429672Z",
     "start_time": "2025-05-07T19:25:50.183862Z"
    }
   },
   "cell_type": "code",
   "source": [
    "# Написание функции для получения предикта\n",
    "def get_prediction():\n",
    "    test_pred = trainer.predict(tokenized_dataset['test'])\n",
    "    labels = np.argmax(test_pred.predictions, axis=-1)\n",
    "    return labels\n",
    "\n",
    "pred = get_prediction()"
   ],
   "outputs": [
    {
     "data": {
      "text/plain": [
       "<IPython.core.display.HTML object>"
      ],
      "text/html": []
     },
     "metadata": {},
     "output_type": "display_data"
    }
   ],
   "execution_count": 60
  },
  {
   "metadata": {
    "ExecuteTime": {
     "end_time": "2025-05-07T19:26:04.157252Z",
     "start_time": "2025-05-07T19:26:04.144043Z"
    }
   },
   "cell_type": "code",
   "source": [
    "# Проверка полученного результата\n",
    "print(classification_report(test['acceptable'], pred))\n",
    "print(f1_score(test['acceptable'], pred))\n"
   ],
   "outputs": [
    {
     "name": "stdout",
     "output_type": "stream",
     "text": [
      "              precision    recall  f1-score   support\n",
      "\n",
      "           0       0.00      0.00      0.00         1\n",
      "           1       0.90      1.00      0.95         9\n",
      "\n",
      "    accuracy                           0.90        10\n",
      "   macro avg       0.45      0.50      0.47        10\n",
      "weighted avg       0.81      0.90      0.85        10\n",
      "\n",
      "0.9473684210526315\n"
     ]
    },
    {
     "data": {
      "text/plain": [
       "[1, 0, 1, 1, 1, 1, 1, 1, 1, 1]"
      ]
     },
     "execution_count": 61,
     "metadata": {},
     "output_type": "execute_result"
    }
   ],
   "execution_count": 61
  },
  {
   "metadata": {
    "id": "S8uEiju01Cs9"
   },
   "cell_type": "markdown",
   "source": ""
  }
 ],
 "metadata": {
  "colab": {
   "provenance": [
    {
     "file_id": "1eIEblWTtVI_inFFzUJgWIJ2-LWDLYj6a",
     "timestamp": 1746441578625
    },
    {
     "file_id": "https://github.com/AlexandrGor13/nlp_homework/blob/master/homework3/homework3_RuBERT.ipynb",
     "timestamp": 1746421450629
    }
   ],
   "gpuType": "T4"
  },
  "kernelspec": {
   "display_name": "Python 3",
   "name": "python3"
  },
  "language_info": {
   "name": "python"
  },
  "accelerator": "GPU",
  "widgets": {
   "application/vnd.jupyter.widget-state+json": {
    "5145169b4dea4e288768f1734de4ed64": {
     "model_module": "@jupyter-widgets/controls",
     "model_name": "HBoxModel",
     "model_module_version": "1.5.0",
     "state": {
      "_dom_classes": [],
      "_model_module": "@jupyter-widgets/controls",
      "_model_module_version": "1.5.0",
      "_model_name": "HBoxModel",
      "_view_count": null,
      "_view_module": "@jupyter-widgets/controls",
      "_view_module_version": "1.5.0",
      "_view_name": "HBoxView",
      "box_style": "",
      "children": [
       "IPY_MODEL_b0a7d3f569e84773926c00f0a7909720",
       "IPY_MODEL_06fe444b7b8c474fa7eb19bea866d499",
       "IPY_MODEL_b84536dfd02449409c4177c90baa59e0"
      ],
      "layout": "IPY_MODEL_edf219077c5b45dca3ed970e5a85225e"
     }
    },
    "b0a7d3f569e84773926c00f0a7909720": {
     "model_module": "@jupyter-widgets/controls",
     "model_name": "HTMLModel",
     "model_module_version": "1.5.0",
     "state": {
      "_dom_classes": [],
      "_model_module": "@jupyter-widgets/controls",
      "_model_module_version": "1.5.0",
      "_model_name": "HTMLModel",
      "_view_count": null,
      "_view_module": "@jupyter-widgets/controls",
      "_view_module_version": "1.5.0",
      "_view_name": "HTMLView",
      "description": "",
      "description_tooltip": null,
      "layout": "IPY_MODEL_1a257615ec5c4ce4b57db9b87c3cf16c",
      "placeholder": "​",
      "style": "IPY_MODEL_d993f8fa5dea42f6b5b25a18ece0f377",
      "value": "Map: 100%"
     }
    },
    "06fe444b7b8c474fa7eb19bea866d499": {
     "model_module": "@jupyter-widgets/controls",
     "model_name": "FloatProgressModel",
     "model_module_version": "1.5.0",
     "state": {
      "_dom_classes": [],
      "_model_module": "@jupyter-widgets/controls",
      "_model_module_version": "1.5.0",
      "_model_name": "FloatProgressModel",
      "_view_count": null,
      "_view_module": "@jupyter-widgets/controls",
      "_view_module_version": "1.5.0",
      "_view_name": "ProgressView",
      "bar_style": "success",
      "description": "",
      "description_tooltip": null,
      "layout": "IPY_MODEL_7c433e32fe5a4cd792a219404c26a9a3",
      "max": 6295,
      "min": 0,
      "orientation": "horizontal",
      "style": "IPY_MODEL_d7ac4a47bcba4dfab8cb897da243774f",
      "value": 6295
     }
    },
    "b84536dfd02449409c4177c90baa59e0": {
     "model_module": "@jupyter-widgets/controls",
     "model_name": "HTMLModel",
     "model_module_version": "1.5.0",
     "state": {
      "_dom_classes": [],
      "_model_module": "@jupyter-widgets/controls",
      "_model_module_version": "1.5.0",
      "_model_name": "HTMLModel",
      "_view_count": null,
      "_view_module": "@jupyter-widgets/controls",
      "_view_module_version": "1.5.0",
      "_view_name": "HTMLView",
      "description": "",
      "description_tooltip": null,
      "layout": "IPY_MODEL_e8364a257e72432c80ba052eb2528c67",
      "placeholder": "​",
      "style": "IPY_MODEL_ebcd53f4ab814261a9c6fd7cc56eeeca",
      "value": " 6295/6295 [00:01&lt;00:00, 4368.36 examples/s]"
     }
    },
    "edf219077c5b45dca3ed970e5a85225e": {
     "model_module": "@jupyter-widgets/base",
     "model_name": "LayoutModel",
     "model_module_version": "1.2.0",
     "state": {
      "_model_module": "@jupyter-widgets/base",
      "_model_module_version": "1.2.0",
      "_model_name": "LayoutModel",
      "_view_count": null,
      "_view_module": "@jupyter-widgets/base",
      "_view_module_version": "1.2.0",
      "_view_name": "LayoutView",
      "align_content": null,
      "align_items": null,
      "align_self": null,
      "border": null,
      "bottom": null,
      "display": null,
      "flex": null,
      "flex_flow": null,
      "grid_area": null,
      "grid_auto_columns": null,
      "grid_auto_flow": null,
      "grid_auto_rows": null,
      "grid_column": null,
      "grid_gap": null,
      "grid_row": null,
      "grid_template_areas": null,
      "grid_template_columns": null,
      "grid_template_rows": null,
      "height": null,
      "justify_content": null,
      "justify_items": null,
      "left": null,
      "margin": null,
      "max_height": null,
      "max_width": null,
      "min_height": null,
      "min_width": null,
      "object_fit": null,
      "object_position": null,
      "order": null,
      "overflow": null,
      "overflow_x": null,
      "overflow_y": null,
      "padding": null,
      "right": null,
      "top": null,
      "visibility": null,
      "width": null
     }
    },
    "1a257615ec5c4ce4b57db9b87c3cf16c": {
     "model_module": "@jupyter-widgets/base",
     "model_name": "LayoutModel",
     "model_module_version": "1.2.0",
     "state": {
      "_model_module": "@jupyter-widgets/base",
      "_model_module_version": "1.2.0",
      "_model_name": "LayoutModel",
      "_view_count": null,
      "_view_module": "@jupyter-widgets/base",
      "_view_module_version": "1.2.0",
      "_view_name": "LayoutView",
      "align_content": null,
      "align_items": null,
      "align_self": null,
      "border": null,
      "bottom": null,
      "display": null,
      "flex": null,
      "flex_flow": null,
      "grid_area": null,
      "grid_auto_columns": null,
      "grid_auto_flow": null,
      "grid_auto_rows": null,
      "grid_column": null,
      "grid_gap": null,
      "grid_row": null,
      "grid_template_areas": null,
      "grid_template_columns": null,
      "grid_template_rows": null,
      "height": null,
      "justify_content": null,
      "justify_items": null,
      "left": null,
      "margin": null,
      "max_height": null,
      "max_width": null,
      "min_height": null,
      "min_width": null,
      "object_fit": null,
      "object_position": null,
      "order": null,
      "overflow": null,
      "overflow_x": null,
      "overflow_y": null,
      "padding": null,
      "right": null,
      "top": null,
      "visibility": null,
      "width": null
     }
    },
    "d993f8fa5dea42f6b5b25a18ece0f377": {
     "model_module": "@jupyter-widgets/controls",
     "model_name": "DescriptionStyleModel",
     "model_module_version": "1.5.0",
     "state": {
      "_model_module": "@jupyter-widgets/controls",
      "_model_module_version": "1.5.0",
      "_model_name": "DescriptionStyleModel",
      "_view_count": null,
      "_view_module": "@jupyter-widgets/base",
      "_view_module_version": "1.2.0",
      "_view_name": "StyleView",
      "description_width": ""
     }
    },
    "7c433e32fe5a4cd792a219404c26a9a3": {
     "model_module": "@jupyter-widgets/base",
     "model_name": "LayoutModel",
     "model_module_version": "1.2.0",
     "state": {
      "_model_module": "@jupyter-widgets/base",
      "_model_module_version": "1.2.0",
      "_model_name": "LayoutModel",
      "_view_count": null,
      "_view_module": "@jupyter-widgets/base",
      "_view_module_version": "1.2.0",
      "_view_name": "LayoutView",
      "align_content": null,
      "align_items": null,
      "align_self": null,
      "border": null,
      "bottom": null,
      "display": null,
      "flex": null,
      "flex_flow": null,
      "grid_area": null,
      "grid_auto_columns": null,
      "grid_auto_flow": null,
      "grid_auto_rows": null,
      "grid_column": null,
      "grid_gap": null,
      "grid_row": null,
      "grid_template_areas": null,
      "grid_template_columns": null,
      "grid_template_rows": null,
      "height": null,
      "justify_content": null,
      "justify_items": null,
      "left": null,
      "margin": null,
      "max_height": null,
      "max_width": null,
      "min_height": null,
      "min_width": null,
      "object_fit": null,
      "object_position": null,
      "order": null,
      "overflow": null,
      "overflow_x": null,
      "overflow_y": null,
      "padding": null,
      "right": null,
      "top": null,
      "visibility": null,
      "width": null
     }
    },
    "d7ac4a47bcba4dfab8cb897da243774f": {
     "model_module": "@jupyter-widgets/controls",
     "model_name": "ProgressStyleModel",
     "model_module_version": "1.5.0",
     "state": {
      "_model_module": "@jupyter-widgets/controls",
      "_model_module_version": "1.5.0",
      "_model_name": "ProgressStyleModel",
      "_view_count": null,
      "_view_module": "@jupyter-widgets/base",
      "_view_module_version": "1.2.0",
      "_view_name": "StyleView",
      "bar_color": null,
      "description_width": ""
     }
    },
    "e8364a257e72432c80ba052eb2528c67": {
     "model_module": "@jupyter-widgets/base",
     "model_name": "LayoutModel",
     "model_module_version": "1.2.0",
     "state": {
      "_model_module": "@jupyter-widgets/base",
      "_model_module_version": "1.2.0",
      "_model_name": "LayoutModel",
      "_view_count": null,
      "_view_module": "@jupyter-widgets/base",
      "_view_module_version": "1.2.0",
      "_view_name": "LayoutView",
      "align_content": null,
      "align_items": null,
      "align_self": null,
      "border": null,
      "bottom": null,
      "display": null,
      "flex": null,
      "flex_flow": null,
      "grid_area": null,
      "grid_auto_columns": null,
      "grid_auto_flow": null,
      "grid_auto_rows": null,
      "grid_column": null,
      "grid_gap": null,
      "grid_row": null,
      "grid_template_areas": null,
      "grid_template_columns": null,
      "grid_template_rows": null,
      "height": null,
      "justify_content": null,
      "justify_items": null,
      "left": null,
      "margin": null,
      "max_height": null,
      "max_width": null,
      "min_height": null,
      "min_width": null,
      "object_fit": null,
      "object_position": null,
      "order": null,
      "overflow": null,
      "overflow_x": null,
      "overflow_y": null,
      "padding": null,
      "right": null,
      "top": null,
      "visibility": null,
      "width": null
     }
    },
    "ebcd53f4ab814261a9c6fd7cc56eeeca": {
     "model_module": "@jupyter-widgets/controls",
     "model_name": "DescriptionStyleModel",
     "model_module_version": "1.5.0",
     "state": {
      "_model_module": "@jupyter-widgets/controls",
      "_model_module_version": "1.5.0",
      "_model_name": "DescriptionStyleModel",
      "_view_count": null,
      "_view_module": "@jupyter-widgets/base",
      "_view_module_version": "1.2.0",
      "_view_name": "StyleView",
      "description_width": ""
     }
    },
    "bb78fe3296554aa3852491cc538e40c4": {
     "model_module": "@jupyter-widgets/controls",
     "model_name": "HBoxModel",
     "model_module_version": "1.5.0",
     "state": {
      "_dom_classes": [],
      "_model_module": "@jupyter-widgets/controls",
      "_model_module_version": "1.5.0",
      "_model_name": "HBoxModel",
      "_view_count": null,
      "_view_module": "@jupyter-widgets/controls",
      "_view_module_version": "1.5.0",
      "_view_name": "HBoxView",
      "box_style": "",
      "children": [
       "IPY_MODEL_fbb27a27918049d98dddb7e89944a2ab",
       "IPY_MODEL_7bce20acefb343899893cbb6f9279a08",
       "IPY_MODEL_09ffb6acf8f64c04a4606b36ec9e8dac"
      ],
      "layout": "IPY_MODEL_0d9ce94250c34d37a7e6428f4291084b"
     }
    },
    "fbb27a27918049d98dddb7e89944a2ab": {
     "model_module": "@jupyter-widgets/controls",
     "model_name": "HTMLModel",
     "model_module_version": "1.5.0",
     "state": {
      "_dom_classes": [],
      "_model_module": "@jupyter-widgets/controls",
      "_model_module_version": "1.5.0",
      "_model_name": "HTMLModel",
      "_view_count": null,
      "_view_module": "@jupyter-widgets/controls",
      "_view_module_version": "1.5.0",
      "_view_name": "HTMLView",
      "description": "",
      "description_tooltip": null,
      "layout": "IPY_MODEL_22db009dc58845f88e62599dd5134b86",
      "placeholder": "​",
      "style": "IPY_MODEL_0c166149796741ddb8a281d47a5ef242",
      "value": "Map: 100%"
     }
    },
    "7bce20acefb343899893cbb6f9279a08": {
     "model_module": "@jupyter-widgets/controls",
     "model_name": "FloatProgressModel",
     "model_module_version": "1.5.0",
     "state": {
      "_dom_classes": [],
      "_model_module": "@jupyter-widgets/controls",
      "_model_module_version": "1.5.0",
      "_model_name": "FloatProgressModel",
      "_view_count": null,
      "_view_module": "@jupyter-widgets/controls",
      "_view_module_version": "1.5.0",
      "_view_name": "ProgressView",
      "bar_style": "success",
      "description": "",
      "description_tooltip": null,
      "layout": "IPY_MODEL_717939ee14794130a3631f7806479ce9",
      "max": 1574,
      "min": 0,
      "orientation": "horizontal",
      "style": "IPY_MODEL_389822ab292e407f97bf77dfaa1fc82f",
      "value": 1574
     }
    },
    "09ffb6acf8f64c04a4606b36ec9e8dac": {
     "model_module": "@jupyter-widgets/controls",
     "model_name": "HTMLModel",
     "model_module_version": "1.5.0",
     "state": {
      "_dom_classes": [],
      "_model_module": "@jupyter-widgets/controls",
      "_model_module_version": "1.5.0",
      "_model_name": "HTMLModel",
      "_view_count": null,
      "_view_module": "@jupyter-widgets/controls",
      "_view_module_version": "1.5.0",
      "_view_name": "HTMLView",
      "description": "",
      "description_tooltip": null,
      "layout": "IPY_MODEL_8feeab83c76e4cdc8f03e7ca3241c74e",
      "placeholder": "​",
      "style": "IPY_MODEL_c26629a7160946cfb13b67fe5356b9a6",
      "value": " 1574/1574 [00:00&lt;00:00, 4102.00 examples/s]"
     }
    },
    "0d9ce94250c34d37a7e6428f4291084b": {
     "model_module": "@jupyter-widgets/base",
     "model_name": "LayoutModel",
     "model_module_version": "1.2.0",
     "state": {
      "_model_module": "@jupyter-widgets/base",
      "_model_module_version": "1.2.0",
      "_model_name": "LayoutModel",
      "_view_count": null,
      "_view_module": "@jupyter-widgets/base",
      "_view_module_version": "1.2.0",
      "_view_name": "LayoutView",
      "align_content": null,
      "align_items": null,
      "align_self": null,
      "border": null,
      "bottom": null,
      "display": null,
      "flex": null,
      "flex_flow": null,
      "grid_area": null,
      "grid_auto_columns": null,
      "grid_auto_flow": null,
      "grid_auto_rows": null,
      "grid_column": null,
      "grid_gap": null,
      "grid_row": null,
      "grid_template_areas": null,
      "grid_template_columns": null,
      "grid_template_rows": null,
      "height": null,
      "justify_content": null,
      "justify_items": null,
      "left": null,
      "margin": null,
      "max_height": null,
      "max_width": null,
      "min_height": null,
      "min_width": null,
      "object_fit": null,
      "object_position": null,
      "order": null,
      "overflow": null,
      "overflow_x": null,
      "overflow_y": null,
      "padding": null,
      "right": null,
      "top": null,
      "visibility": null,
      "width": null
     }
    },
    "22db009dc58845f88e62599dd5134b86": {
     "model_module": "@jupyter-widgets/base",
     "model_name": "LayoutModel",
     "model_module_version": "1.2.0",
     "state": {
      "_model_module": "@jupyter-widgets/base",
      "_model_module_version": "1.2.0",
      "_model_name": "LayoutModel",
      "_view_count": null,
      "_view_module": "@jupyter-widgets/base",
      "_view_module_version": "1.2.0",
      "_view_name": "LayoutView",
      "align_content": null,
      "align_items": null,
      "align_self": null,
      "border": null,
      "bottom": null,
      "display": null,
      "flex": null,
      "flex_flow": null,
      "grid_area": null,
      "grid_auto_columns": null,
      "grid_auto_flow": null,
      "grid_auto_rows": null,
      "grid_column": null,
      "grid_gap": null,
      "grid_row": null,
      "grid_template_areas": null,
      "grid_template_columns": null,
      "grid_template_rows": null,
      "height": null,
      "justify_content": null,
      "justify_items": null,
      "left": null,
      "margin": null,
      "max_height": null,
      "max_width": null,
      "min_height": null,
      "min_width": null,
      "object_fit": null,
      "object_position": null,
      "order": null,
      "overflow": null,
      "overflow_x": null,
      "overflow_y": null,
      "padding": null,
      "right": null,
      "top": null,
      "visibility": null,
      "width": null
     }
    },
    "0c166149796741ddb8a281d47a5ef242": {
     "model_module": "@jupyter-widgets/controls",
     "model_name": "DescriptionStyleModel",
     "model_module_version": "1.5.0",
     "state": {
      "_model_module": "@jupyter-widgets/controls",
      "_model_module_version": "1.5.0",
      "_model_name": "DescriptionStyleModel",
      "_view_count": null,
      "_view_module": "@jupyter-widgets/base",
      "_view_module_version": "1.2.0",
      "_view_name": "StyleView",
      "description_width": ""
     }
    },
    "717939ee14794130a3631f7806479ce9": {
     "model_module": "@jupyter-widgets/base",
     "model_name": "LayoutModel",
     "model_module_version": "1.2.0",
     "state": {
      "_model_module": "@jupyter-widgets/base",
      "_model_module_version": "1.2.0",
      "_model_name": "LayoutModel",
      "_view_count": null,
      "_view_module": "@jupyter-widgets/base",
      "_view_module_version": "1.2.0",
      "_view_name": "LayoutView",
      "align_content": null,
      "align_items": null,
      "align_self": null,
      "border": null,
      "bottom": null,
      "display": null,
      "flex": null,
      "flex_flow": null,
      "grid_area": null,
      "grid_auto_columns": null,
      "grid_auto_flow": null,
      "grid_auto_rows": null,
      "grid_column": null,
      "grid_gap": null,
      "grid_row": null,
      "grid_template_areas": null,
      "grid_template_columns": null,
      "grid_template_rows": null,
      "height": null,
      "justify_content": null,
      "justify_items": null,
      "left": null,
      "margin": null,
      "max_height": null,
      "max_width": null,
      "min_height": null,
      "min_width": null,
      "object_fit": null,
      "object_position": null,
      "order": null,
      "overflow": null,
      "overflow_x": null,
      "overflow_y": null,
      "padding": null,
      "right": null,
      "top": null,
      "visibility": null,
      "width": null
     }
    },
    "389822ab292e407f97bf77dfaa1fc82f": {
     "model_module": "@jupyter-widgets/controls",
     "model_name": "ProgressStyleModel",
     "model_module_version": "1.5.0",
     "state": {
      "_model_module": "@jupyter-widgets/controls",
      "_model_module_version": "1.5.0",
      "_model_name": "ProgressStyleModel",
      "_view_count": null,
      "_view_module": "@jupyter-widgets/base",
      "_view_module_version": "1.2.0",
      "_view_name": "StyleView",
      "bar_color": null,
      "description_width": ""
     }
    },
    "8feeab83c76e4cdc8f03e7ca3241c74e": {
     "model_module": "@jupyter-widgets/base",
     "model_name": "LayoutModel",
     "model_module_version": "1.2.0",
     "state": {
      "_model_module": "@jupyter-widgets/base",
      "_model_module_version": "1.2.0",
      "_model_name": "LayoutModel",
      "_view_count": null,
      "_view_module": "@jupyter-widgets/base",
      "_view_module_version": "1.2.0",
      "_view_name": "LayoutView",
      "align_content": null,
      "align_items": null,
      "align_self": null,
      "border": null,
      "bottom": null,
      "display": null,
      "flex": null,
      "flex_flow": null,
      "grid_area": null,
      "grid_auto_columns": null,
      "grid_auto_flow": null,
      "grid_auto_rows": null,
      "grid_column": null,
      "grid_gap": null,
      "grid_row": null,
      "grid_template_areas": null,
      "grid_template_columns": null,
      "grid_template_rows": null,
      "height": null,
      "justify_content": null,
      "justify_items": null,
      "left": null,
      "margin": null,
      "max_height": null,
      "max_width": null,
      "min_height": null,
      "min_width": null,
      "object_fit": null,
      "object_position": null,
      "order": null,
      "overflow": null,
      "overflow_x": null,
      "overflow_y": null,
      "padding": null,
      "right": null,
      "top": null,
      "visibility": null,
      "width": null
     }
    },
    "c26629a7160946cfb13b67fe5356b9a6": {
     "model_module": "@jupyter-widgets/controls",
     "model_name": "DescriptionStyleModel",
     "model_module_version": "1.5.0",
     "state": {
      "_model_module": "@jupyter-widgets/controls",
      "_model_module_version": "1.5.0",
      "_model_name": "DescriptionStyleModel",
      "_view_count": null,
      "_view_module": "@jupyter-widgets/base",
      "_view_module_version": "1.2.0",
      "_view_name": "StyleView",
      "description_width": ""
     }
    },
    "39c2e70f46914e0d80d2c5f7b4db149c": {
     "model_module": "@jupyter-widgets/controls",
     "model_name": "HBoxModel",
     "model_module_version": "1.5.0",
     "state": {
      "_dom_classes": [],
      "_model_module": "@jupyter-widgets/controls",
      "_model_module_version": "1.5.0",
      "_model_name": "HBoxModel",
      "_view_count": null,
      "_view_module": "@jupyter-widgets/controls",
      "_view_module_version": "1.5.0",
      "_view_name": "HBoxView",
      "box_style": "",
      "children": [
       "IPY_MODEL_a6c0825659254364bf33055f48ce80b7",
       "IPY_MODEL_e774ea85cb534a7b9f9e12bcd54efd56",
       "IPY_MODEL_41838afe34444d21b803cc9b903acf99"
      ],
      "layout": "IPY_MODEL_7a46842553624888a41313cb05cca0a6"
     }
    },
    "a6c0825659254364bf33055f48ce80b7": {
     "model_module": "@jupyter-widgets/controls",
     "model_name": "HTMLModel",
     "model_module_version": "1.5.0",
     "state": {
      "_dom_classes": [],
      "_model_module": "@jupyter-widgets/controls",
      "_model_module_version": "1.5.0",
      "_model_name": "HTMLModel",
      "_view_count": null,
      "_view_module": "@jupyter-widgets/controls",
      "_view_module_version": "1.5.0",
      "_view_name": "HTMLView",
      "description": "",
      "description_tooltip": null,
      "layout": "IPY_MODEL_0f3c652c5c1a41fd96c2d41d2f273b74",
      "placeholder": "​",
      "style": "IPY_MODEL_08a3ac5214824cd5838749ed0ea79c9f",
      "value": "Map: 100%"
     }
    },
    "e774ea85cb534a7b9f9e12bcd54efd56": {
     "model_module": "@jupyter-widgets/controls",
     "model_name": "FloatProgressModel",
     "model_module_version": "1.5.0",
     "state": {
      "_dom_classes": [],
      "_model_module": "@jupyter-widgets/controls",
      "_model_module_version": "1.5.0",
      "_model_name": "FloatProgressModel",
      "_view_count": null,
      "_view_module": "@jupyter-widgets/controls",
      "_view_module_version": "1.5.0",
      "_view_name": "ProgressView",
      "bar_style": "success",
      "description": "",
      "description_tooltip": null,
      "layout": "IPY_MODEL_6c9ef60d41a04a12b3f7cb1a1c4e05c7",
      "max": 983,
      "min": 0,
      "orientation": "horizontal",
      "style": "IPY_MODEL_24b1c88ee3b7414cb1362189c7a80af8",
      "value": 983
     }
    },
    "41838afe34444d21b803cc9b903acf99": {
     "model_module": "@jupyter-widgets/controls",
     "model_name": "HTMLModel",
     "model_module_version": "1.5.0",
     "state": {
      "_dom_classes": [],
      "_model_module": "@jupyter-widgets/controls",
      "_model_module_version": "1.5.0",
      "_model_name": "HTMLModel",
      "_view_count": null,
      "_view_module": "@jupyter-widgets/controls",
      "_view_module_version": "1.5.0",
      "_view_name": "HTMLView",
      "description": "",
      "description_tooltip": null,
      "layout": "IPY_MODEL_c3ef5939a9ed46c7b8e48d77a08844ee",
      "placeholder": "​",
      "style": "IPY_MODEL_8aabea2129a74e379ab9a4e5975dfead",
      "value": " 983/983 [00:00&lt;00:00, 3971.14 examples/s]"
     }
    },
    "7a46842553624888a41313cb05cca0a6": {
     "model_module": "@jupyter-widgets/base",
     "model_name": "LayoutModel",
     "model_module_version": "1.2.0",
     "state": {
      "_model_module": "@jupyter-widgets/base",
      "_model_module_version": "1.2.0",
      "_model_name": "LayoutModel",
      "_view_count": null,
      "_view_module": "@jupyter-widgets/base",
      "_view_module_version": "1.2.0",
      "_view_name": "LayoutView",
      "align_content": null,
      "align_items": null,
      "align_self": null,
      "border": null,
      "bottom": null,
      "display": null,
      "flex": null,
      "flex_flow": null,
      "grid_area": null,
      "grid_auto_columns": null,
      "grid_auto_flow": null,
      "grid_auto_rows": null,
      "grid_column": null,
      "grid_gap": null,
      "grid_row": null,
      "grid_template_areas": null,
      "grid_template_columns": null,
      "grid_template_rows": null,
      "height": null,
      "justify_content": null,
      "justify_items": null,
      "left": null,
      "margin": null,
      "max_height": null,
      "max_width": null,
      "min_height": null,
      "min_width": null,
      "object_fit": null,
      "object_position": null,
      "order": null,
      "overflow": null,
      "overflow_x": null,
      "overflow_y": null,
      "padding": null,
      "right": null,
      "top": null,
      "visibility": null,
      "width": null
     }
    },
    "0f3c652c5c1a41fd96c2d41d2f273b74": {
     "model_module": "@jupyter-widgets/base",
     "model_name": "LayoutModel",
     "model_module_version": "1.2.0",
     "state": {
      "_model_module": "@jupyter-widgets/base",
      "_model_module_version": "1.2.0",
      "_model_name": "LayoutModel",
      "_view_count": null,
      "_view_module": "@jupyter-widgets/base",
      "_view_module_version": "1.2.0",
      "_view_name": "LayoutView",
      "align_content": null,
      "align_items": null,
      "align_self": null,
      "border": null,
      "bottom": null,
      "display": null,
      "flex": null,
      "flex_flow": null,
      "grid_area": null,
      "grid_auto_columns": null,
      "grid_auto_flow": null,
      "grid_auto_rows": null,
      "grid_column": null,
      "grid_gap": null,
      "grid_row": null,
      "grid_template_areas": null,
      "grid_template_columns": null,
      "grid_template_rows": null,
      "height": null,
      "justify_content": null,
      "justify_items": null,
      "left": null,
      "margin": null,
      "max_height": null,
      "max_width": null,
      "min_height": null,
      "min_width": null,
      "object_fit": null,
      "object_position": null,
      "order": null,
      "overflow": null,
      "overflow_x": null,
      "overflow_y": null,
      "padding": null,
      "right": null,
      "top": null,
      "visibility": null,
      "width": null
     }
    },
    "08a3ac5214824cd5838749ed0ea79c9f": {
     "model_module": "@jupyter-widgets/controls",
     "model_name": "DescriptionStyleModel",
     "model_module_version": "1.5.0",
     "state": {
      "_model_module": "@jupyter-widgets/controls",
      "_model_module_version": "1.5.0",
      "_model_name": "DescriptionStyleModel",
      "_view_count": null,
      "_view_module": "@jupyter-widgets/base",
      "_view_module_version": "1.2.0",
      "_view_name": "StyleView",
      "description_width": ""
     }
    },
    "6c9ef60d41a04a12b3f7cb1a1c4e05c7": {
     "model_module": "@jupyter-widgets/base",
     "model_name": "LayoutModel",
     "model_module_version": "1.2.0",
     "state": {
      "_model_module": "@jupyter-widgets/base",
      "_model_module_version": "1.2.0",
      "_model_name": "LayoutModel",
      "_view_count": null,
      "_view_module": "@jupyter-widgets/base",
      "_view_module_version": "1.2.0",
      "_view_name": "LayoutView",
      "align_content": null,
      "align_items": null,
      "align_self": null,
      "border": null,
      "bottom": null,
      "display": null,
      "flex": null,
      "flex_flow": null,
      "grid_area": null,
      "grid_auto_columns": null,
      "grid_auto_flow": null,
      "grid_auto_rows": null,
      "grid_column": null,
      "grid_gap": null,
      "grid_row": null,
      "grid_template_areas": null,
      "grid_template_columns": null,
      "grid_template_rows": null,
      "height": null,
      "justify_content": null,
      "justify_items": null,
      "left": null,
      "margin": null,
      "max_height": null,
      "max_width": null,
      "min_height": null,
      "min_width": null,
      "object_fit": null,
      "object_position": null,
      "order": null,
      "overflow": null,
      "overflow_x": null,
      "overflow_y": null,
      "padding": null,
      "right": null,
      "top": null,
      "visibility": null,
      "width": null
     }
    },
    "24b1c88ee3b7414cb1362189c7a80af8": {
     "model_module": "@jupyter-widgets/controls",
     "model_name": "ProgressStyleModel",
     "model_module_version": "1.5.0",
     "state": {
      "_model_module": "@jupyter-widgets/controls",
      "_model_module_version": "1.5.0",
      "_model_name": "ProgressStyleModel",
      "_view_count": null,
      "_view_module": "@jupyter-widgets/base",
      "_view_module_version": "1.2.0",
      "_view_name": "StyleView",
      "bar_color": null,
      "description_width": ""
     }
    },
    "c3ef5939a9ed46c7b8e48d77a08844ee": {
     "model_module": "@jupyter-widgets/base",
     "model_name": "LayoutModel",
     "model_module_version": "1.2.0",
     "state": {
      "_model_module": "@jupyter-widgets/base",
      "_model_module_version": "1.2.0",
      "_model_name": "LayoutModel",
      "_view_count": null,
      "_view_module": "@jupyter-widgets/base",
      "_view_module_version": "1.2.0",
      "_view_name": "LayoutView",
      "align_content": null,
      "align_items": null,
      "align_self": null,
      "border": null,
      "bottom": null,
      "display": null,
      "flex": null,
      "flex_flow": null,
      "grid_area": null,
      "grid_auto_columns": null,
      "grid_auto_flow": null,
      "grid_auto_rows": null,
      "grid_column": null,
      "grid_gap": null,
      "grid_row": null,
      "grid_template_areas": null,
      "grid_template_columns": null,
      "grid_template_rows": null,
      "height": null,
      "justify_content": null,
      "justify_items": null,
      "left": null,
      "margin": null,
      "max_height": null,
      "max_width": null,
      "min_height": null,
      "min_width": null,
      "object_fit": null,
      "object_position": null,
      "order": null,
      "overflow": null,
      "overflow_x": null,
      "overflow_y": null,
      "padding": null,
      "right": null,
      "top": null,
      "visibility": null,
      "width": null
     }
    },
    "8aabea2129a74e379ab9a4e5975dfead": {
     "model_module": "@jupyter-widgets/controls",
     "model_name": "DescriptionStyleModel",
     "model_module_version": "1.5.0",
     "state": {
      "_model_module": "@jupyter-widgets/controls",
      "_model_module_version": "1.5.0",
      "_model_name": "DescriptionStyleModel",
      "_view_count": null,
      "_view_module": "@jupyter-widgets/base",
      "_view_module_version": "1.2.0",
      "_view_name": "StyleView",
      "description_width": ""
     }
    }
   }
  }
 },
 "nbformat": 4,
 "nbformat_minor": 0
}
