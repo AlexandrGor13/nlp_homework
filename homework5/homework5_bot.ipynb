{
 "cells": [
  {
   "metadata": {
    "ExecuteTime": {
     "end_time": "2025-06-01T20:01:42.665469Z",
     "start_time": "2025-06-01T20:01:41.605217Z"
    }
   },
   "cell_type": "code",
   "source": "!pip install telebot",
   "id": "93f86e6d29d6f963",
   "outputs": [
    {
     "name": "stdout",
     "output_type": "stream",
     "text": [
      "/bin/bash: warning: setlocale: LC_ALL: cannot change locale (en_US.UTF-8)\r\n",
      "Requirement already satisfied: telebot in /home/alexandr/miniconda3/envs/NLP_homework/lib/python3.12/site-packages (0.0.5)\r\n",
      "Requirement already satisfied: pyTelegramBotAPI in /home/alexandr/miniconda3/envs/NLP_homework/lib/python3.12/site-packages (from telebot) (4.27.0)\r\n",
      "Requirement already satisfied: requests in /home/alexandr/miniconda3/envs/NLP_homework/lib/python3.12/site-packages (from telebot) (2.32.3)\r\n",
      "Requirement already satisfied: charset-normalizer<4,>=2 in /home/alexandr/miniconda3/envs/NLP_homework/lib/python3.12/site-packages (from requests->telebot) (3.3.2)\r\n",
      "Requirement already satisfied: idna<4,>=2.5 in /home/alexandr/miniconda3/envs/NLP_homework/lib/python3.12/site-packages (from requests->telebot) (3.7)\r\n",
      "Requirement already satisfied: urllib3<3,>=1.21.1 in /home/alexandr/miniconda3/envs/NLP_homework/lib/python3.12/site-packages (from requests->telebot) (2.3.0)\r\n",
      "Requirement already satisfied: certifi>=2017.4.17 in /home/alexandr/miniconda3/envs/NLP_homework/lib/python3.12/site-packages (from requests->telebot) (2025.4.26)\r\n"
     ]
    }
   ],
   "execution_count": 1
  },
  {
   "metadata": {
    "ExecuteTime": {
     "end_time": "2025-06-01T20:01:46.405131Z",
     "start_time": "2025-06-01T20:01:42.766970Z"
    }
   },
   "cell_type": "code",
   "source": [
    "import random\n",
    "import json\n",
    "import numpy as np\n",
    "from transformers import BertTokenizerFast, BertForSequenceClassification\n",
    "from datasets import load_dataset\n",
    "import telebot\n",
    "from telebot import types\n",
    "import torch\n",
    "from torch.nn.functional import softmax"
   ],
   "id": "initial_id",
   "outputs": [],
   "execution_count": 2
  },
  {
   "metadata": {
    "ExecuteTime": {
     "end_time": "2025-06-01T20:01:47.387553Z",
     "start_time": "2025-06-01T20:01:46.412827Z"
    }
   },
   "cell_type": "code",
   "source": [
    "# Загружаем предобученную модель\n",
    "saved_model_path = \"./rubert_finetuned_DaNetQA/final_model\"\n",
    "model_name = \"DeepPavlov/rubert-base-cased-conversational\"\n",
    "# Загрузить модель из сохранённого каталога:\n",
    "loaded_model = BertForSequenceClassification.from_pretrained(saved_model_path, num_labels=2)\n",
    "# Также загрузить токенизатор из сохранённого каталога:\n",
    "tokenizer = BertTokenizerFast.from_pretrained(model_name)"
   ],
   "id": "99990d5d592000cf",
   "outputs": [],
   "execution_count": 3
  },
  {
   "metadata": {
    "ExecuteTime": {
     "end_time": "2025-06-01T20:01:47.403114Z",
     "start_time": "2025-06-01T20:01:47.400649Z"
    }
   },
   "cell_type": "code",
   "source": [
    "# Функция подготовки выборок для multiple choice task\n",
    "def prepare_features(example):\n",
    "    # Конструируем prompt для каждого варианта выбора\n",
    "    inputs_data = example['question'] + '[SEP]' + example['passage']\n",
    "    # Токенизируем с сохранением связи индексов\n",
    "    inputs = tokenizer(inputs_data,\n",
    "                       truncation=True,\n",
    "                       max_length=512,\n",
    "                       padding=\"max_length\"\n",
    "                       )\n",
    "    label = example.get('label')\n",
    "    if label is not None:\n",
    "        inputs['labels'] = int(label)\n",
    "    return inputs"
   ],
   "id": "de8c43418ebbe46d",
   "outputs": [],
   "execution_count": 4
  },
  {
   "metadata": {
    "ExecuteTime": {
     "end_time": "2025-06-01T20:01:47.509311Z",
     "start_time": "2025-06-01T20:01:47.455421Z"
    }
   },
   "cell_type": "code",
   "source": [
    "# Обрабатываем датасеты\n",
    "ds = load_dataset(\"DaNetQA\")\n",
    "ds_val_str = ds['validation']\n",
    "length_val = len(ds_val_str)\n",
    "ds_val_str"
   ],
   "id": "e4cc771968a70925",
   "outputs": [
    {
     "data": {
      "text/plain": [
       "Dataset({\n",
       "    features: ['question', 'passage', 'label', 'idx'],\n",
       "    num_rows: 821\n",
       "})"
      ]
     },
     "execution_count": 5,
     "metadata": {},
     "output_type": "execute_result"
    }
   ],
   "execution_count": 5
  },
  {
   "metadata": {
    "ExecuteTime": {
     "end_time": "2025-06-01T20:01:47.543838Z",
     "start_time": "2025-06-01T20:01:47.541540Z"
    }
   },
   "cell_type": "code",
   "source": [
    "with open('bot_token.txt') as f:\n",
    "    TOKEN = f.read().strip()"
   ],
   "id": "68144e476da44846",
   "outputs": [],
   "execution_count": 6
  },
  {
   "metadata": {
    "ExecuteTime": {
     "end_time": "2025-06-01T20:02:59.675079Z",
     "start_time": "2025-06-01T20:01:47.602804Z"
    }
   },
   "cell_type": "code",
   "source": [
    "bot = telebot.TeleBot(TOKEN)\n",
    "status = False\n",
    "loaded_model.eval()\n",
    "ds_val_str = ds_val_str.shuffle()\n",
    "\n",
    "@bot.message_handler(commands=['start'])\n",
    "def start(message):\n",
    "    if not status:\n",
    "        markup = types.InlineKeyboardMarkup(row_width=2)\n",
    "        bt_true = types.InlineKeyboardButton(text=\"Да\", callback_data=\"begin\")\n",
    "        bt_false = types.InlineKeyboardButton(text=\"Нет\", callback_data=\"end\")\n",
    "        markup.add(bt_true, bt_false)\n",
    "        bot.send_message(message.chat.id, f'Бот будет задавать вопросы, ваша задача выбрать правильный ответ. Да/Нет.' + \\\n",
    "                         '\\nГотовы начать?', reply_markup=markup)\n",
    "\n",
    "@bot.message_handler(func=lambda x: x in [\"Да\", \"Нет\", \"Не отвечать на вопросы\"])\n",
    "def start_game(message):\n",
    "    if status:\n",
    "        ind = random.randrange(length_val)\n",
    "        question = ds_val_str[ind][\"question\"]\n",
    "        passage = ds_val_str[ind][\"passage\"]\n",
    "        callback_data_yes = json.dumps({\"action\": \"Да\", \"ind\": ind})\n",
    "        callback_data_no = json.dumps({\"action\": \"Нет\", \"ind\": ind})\n",
    "        markup = types.InlineKeyboardMarkup(row_width=2)\n",
    "        bt_true = types.InlineKeyboardButton(text=\"Да\", callback_data=callback_data_yes)\n",
    "        bt_false = types.InlineKeyboardButton(text=\"Нет\", callback_data=callback_data_no)\n",
    "        bt_cancel = types.InlineKeyboardButton(text=\"Закончить игру\", callback_data=\"cancel\")\n",
    "        markup.add(bt_true, bt_false, bt_cancel)\n",
    "        bot.send_message(message.chat.id, f'Прочитайте текс: \\n\"{passage}\"\\n\\nОтветьте на вопрос: \\n{question}',\n",
    "                         reply_markup=markup)\n",
    "\n",
    "\n",
    "@bot.callback_query_handler(func=lambda x: x.data)\n",
    "def start_message(callback):\n",
    "    global status\n",
    "    if callback.data.find(\"action\") > 0:\n",
    "        data = json.loads(callback.data)\n",
    "        ind = data.get(\"ind\")\n",
    "        answer_user = data.get(\"action\")\n",
    "        predictions = get_prediction(ind)\n",
    "        answer_model = \"Да\" if predictions == 1 else \"Нет\"\n",
    "        answer_true = \"Да\" if ds_val_str[ind] == \"True\" else \"Нет\"\n",
    "        bot.send_message(\n",
    "            callback.message.chat.id,\n",
    "            text=f\"Ваш ответ: {answer_user}.\\n\" +\n",
    "            f\"Нейросеть говорит {answer_model}.\\n\" +\n",
    "            f\"Правильный ответ: {answer_true}.\\n\"\n",
    "        )\n",
    "        start_game(callback.message)\n",
    "    else:\n",
    "        if callback.data == \"cancel\":\n",
    "            status = False\n",
    "        elif callback.data == \"begin\":\n",
    "            status = True\n",
    "            start_game(callback.message)\n",
    "        elif callback.data == \"end\":\n",
    "            status = False\n",
    "    if not status:\n",
    "        bot.send_message(callback.message.chat.id, text=\"До свидания.\")\n",
    "\n",
    "\n",
    "\n",
    "def get_prediction(ind):\n",
    "    data = ds_val_str[ind]\n",
    "    inputs_data = data['question'] + '[SEP]' + data['passage']\n",
    "    inputs = tokenizer(inputs_data, return_tensors=\"pt\", padding=True, truncation=True, max_length=512)\n",
    "    with torch.no_grad():\n",
    "        outputs = loaded_model(**inputs)\n",
    "    predictions = outputs.logits.argmax().item()\n",
    "    return predictions\n",
    "\n",
    "\n",
    "\n",
    "bot.infinity_polling()"
   ],
   "id": "d26d9d489e6dd4ac",
   "outputs": [
    {
     "name": "stderr",
     "output_type": "stream",
     "text": [
      "2025-06-01 23:02:59,672 (__init__.py:1121 MainThread) ERROR - TeleBot: \"Infinity polling: polling exited\"\n",
      "2025-06-01 23:02:59,673 (__init__.py:1123 MainThread) ERROR - TeleBot: \"Break infinity polling\"\n"
     ]
    }
   ],
   "execution_count": 7
  },
  {
   "metadata": {},
   "cell_type": "markdown",
   "source": [
    "![title](img/picture1.png)\n",
    "![title](img/picture2.png)\n"
   ],
   "id": "2414fc72ecdf2194"
  }
 ],
 "metadata": {
  "kernelspec": {
   "display_name": "Python 3",
   "language": "python",
   "name": "python3"
  },
  "language_info": {
   "codemirror_mode": {
    "name": "ipython",
    "version": 2
   },
   "file_extension": ".py",
   "mimetype": "text/x-python",
   "name": "python",
   "nbconvert_exporter": "python",
   "pygments_lexer": "ipython2",
   "version": "2.7.6"
  }
 },
 "nbformat": 4,
 "nbformat_minor": 5
}
