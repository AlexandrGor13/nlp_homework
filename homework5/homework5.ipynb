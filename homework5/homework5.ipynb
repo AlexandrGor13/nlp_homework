{
 "cells": [
  {
   "metadata": {
    "ExecuteTime": {
     "end_time": "2025-05-30T16:32:57.037115Z",
     "start_time": "2025-05-30T16:32:57.034178Z"
    }
   },
   "cell_type": "code",
   "source": [
    "import warnings\n",
    "import os\n",
    "\n",
    "os.environ[\"TOKENIZERS_PARALLELISM\"] = \"false\"\n",
    "\n",
    "warnings.filterwarnings(\"ignore\", category=UserWarning)"
   ],
   "id": "c40d44c8b3f0beba",
   "outputs": [],
   "execution_count": 365
  },
  {
   "metadata": {
    "ExecuteTime": {
     "end_time": "2025-05-30T16:32:57.122309Z",
     "start_time": "2025-05-30T16:32:57.120485Z"
    }
   },
   "cell_type": "code",
   "source": [
    "import torch\n",
    "import numpy as np\n",
    "from transformers import BertTokenizerFast, BertForMultipleChoice, Trainer, TrainingArguments\n",
    "from datasets import load_dataset\n"
   ],
   "id": "initial_id",
   "outputs": [],
   "execution_count": 366
  },
  {
   "metadata": {
    "ExecuteTime": {
     "end_time": "2025-05-30T16:32:59.969706Z",
     "start_time": "2025-05-30T16:32:57.199882Z"
    }
   },
   "cell_type": "code",
   "source": [
    "# Загружаем предварительно подготовленный датасет\n",
    "ds = load_dataset(\"PARus\")\n",
    "\n",
    "model_name = \"DeepPavlov/rubert-base-cased\"\n",
    "# Загружаем предобученную модель\n",
    "model = BertForMultipleChoice.from_pretrained(model_name)\n",
    "device = torch.device('cuda' if torch.cuda.is_available() else 'cpu')\n",
    "if device.type == 'cuda':\n",
    "    model = model.to(\"cuda\")\n",
    "# Подготавливаем токенизатор\n",
    "tokenizer = BertTokenizerFast.from_pretrained(model_name)\n",
    "\n",
    "max_length_choice1 = max([len(dict(i).get('choice1')) for i in ds['train']])\n",
    "max_length_choice2 = max([len(dict(i).get('choice2')) for i in ds['train']])\n",
    "max_length = max(max_length_choice1, max_length_choice2)\n",
    "max_length"
   ],
   "id": "d06cce2845d8ce27",
   "outputs": [
    {
     "name": "stderr",
     "output_type": "stream",
     "text": [
      "Some weights of BertForMultipleChoice were not initialized from the model checkpoint at DeepPavlov/rubert-base-cased and are newly initialized: ['classifier.bias', 'classifier.weight']\n",
      "You should probably TRAIN this model on a down-stream task to be able to use it for predictions and inference.\n"
     ]
    },
    {
     "data": {
      "text/plain": [
       "64"
      ]
     },
     "execution_count": 367,
     "metadata": {},
     "output_type": "execute_result"
    }
   ],
   "execution_count": 367
  },
  {
   "metadata": {
    "ExecuteTime": {
     "end_time": "2025-05-30T16:33:00.009275Z",
     "start_time": "2025-05-30T16:33:00.006420Z"
    }
   },
   "cell_type": "code",
   "source": [
    "# Функция подготовки выборок для multiple choice task\n",
    "def prepare_features(batch):\n",
    "    # Конструируем prompt для каждого варианта выбора\n",
    "    choices = [batch['choice1'], batch['choice2']]\n",
    "    first_sentences = [batch['premise']] * len(choices)\n",
    "    second_sentences = [f\"{batch['question']} {choice}\" for choice in choices]\n",
    "\n",
    "    # Токенизируем с сохранением связи индексов\n",
    "    inputs = tokenizer(first_sentences,\n",
    "                       second_sentences,\n",
    "                       truncation=\"only_second\",\n",
    "                       max_length=max_length,\n",
    "                       padding=\"max_length\"\n",
    "                       )\n",
    "\n",
    "    # Добавляем метку правильного ответа\n",
    "    label = batch.get('label')  # Если label отсутствует, значит тестовая выборка\n",
    "    if label is not None:\n",
    "        inputs['labels'] = label\n",
    "    return inputs"
   ],
   "id": "25eb093c229ee97c",
   "outputs": [],
   "execution_count": 368
  },
  {
   "metadata": {
    "ExecuteTime": {
     "end_time": "2025-05-30T16:33:00.120212Z",
     "start_time": "2025-05-30T16:33:00.073846Z"
    }
   },
   "cell_type": "code",
   "source": [
    "# Обрабатываем датасеты\n",
    "for split_name in ['train', 'validation']:\n",
    "    ds[split_name] = ds[split_name].map(\n",
    "        prepare_features,\n",
    "        batched=False,\n",
    "        remove_columns=['premise', 'choice1', 'choice2', 'question', 'label']\n",
    "    )\n",
    "\n",
    "ds[\"validation\"] = ds[\"validation\"].shuffle()\n",
    "ds[\"train\"] = ds[\"train\"].shuffle()"
   ],
   "id": "4b64012e54141209",
   "outputs": [],
   "execution_count": 369
  },
  {
   "metadata": {
    "ExecuteTime": {
     "end_time": "2025-05-30T16:33:00.153144Z",
     "start_time": "2025-05-30T16:33:00.149434Z"
    }
   },
   "cell_type": "code",
   "source": [
    "# Преобразуем объект в PyTorch TensorDataset\n",
    "ds[\"train\"].set_format(type='torch', columns=['input_ids', 'attention_mask', 'token_type_ids', 'labels'])\n",
    "ds[\"validation\"].set_format(type='torch', columns=['input_ids', 'attention_mask', 'token_type_ids', 'labels'])\n",
    "\n",
    "ds[\"train\"]"
   ],
   "id": "3f33b5c77bc54ae0",
   "outputs": [
    {
     "data": {
      "text/plain": [
       "Dataset({\n",
       "    features: ['idx', 'input_ids', 'token_type_ids', 'attention_mask', 'labels'],\n",
       "    num_rows: 400\n",
       "})"
      ]
     },
     "execution_count": 370,
     "metadata": {},
     "output_type": "execute_result"
    }
   ],
   "execution_count": 370
  },
  {
   "metadata": {
    "ExecuteTime": {
     "end_time": "2025-05-30T16:33:00.290747Z",
     "start_time": "2025-05-30T16:33:00.288702Z"
    }
   },
   "cell_type": "code",
   "source": [
    "# Определение метрик точности (accuracy)\n",
    "from sklearn.metrics import accuracy_score\n",
    "\n",
    "\n",
    "def compute_metrics(eval_preds):\n",
    "    logits, labels = eval_preds\n",
    "    predictions = np.argmax(logits, axis=1)\n",
    "    return {\"accuracy\": accuracy_score(labels, predictions)}"
   ],
   "id": "8dfd303cbb1eb939",
   "outputs": [],
   "execution_count": 371
  },
  {
   "metadata": {
    "ExecuteTime": {
     "end_time": "2025-05-30T16:33:00.360108Z",
     "start_time": "2025-05-30T16:33:00.352525Z"
    }
   },
   "cell_type": "code",
   "source": [
    "# Аргументы обучения\n",
    "training_args = TrainingArguments(\n",
    "    output_dir='./rubert_finetuned_PARus',\n",
    "    eval_strategy=\"epoch\",\n",
    "    save_strategy='epoch',\n",
    "    per_device_train_batch_size=16,\n",
    "    per_device_eval_batch_size=4,\n",
    "    learning_rate=1e-5,\n",
    "    num_train_epochs=5,\n",
    "    weight_decay=0.01,\n",
    "    greater_is_better=True,\n",
    "    load_best_model_at_end=True,\n",
    "    metric_for_best_model=\"accuracy\",\n",
    ")\n",
    "\n",
    "# Создаем тренера\n",
    "trainer = Trainer(\n",
    "    model=model,\n",
    "    args=training_args,\n",
    "    train_dataset=ds['train'],\n",
    "    eval_dataset=ds['validation'],\n",
    "    compute_metrics=compute_metrics,\n",
    ")"
   ],
   "id": "5a0b70861dc93c18",
   "outputs": [],
   "execution_count": 372
  },
  {
   "metadata": {
    "ExecuteTime": {
     "end_time": "2025-05-30T16:56:28.767226Z",
     "start_time": "2025-05-30T16:33:00.415504Z"
    }
   },
   "cell_type": "code",
   "source": [
    "# Начинаем обучение\n",
    "trainer.train()\n"
   ],
   "id": "7b3d207a28bff047",
   "outputs": [
    {
     "data": {
      "text/plain": [
       "<IPython.core.display.HTML object>"
      ],
      "text/html": [
       "\n",
       "    <div>\n",
       "      \n",
       "      <progress value='125' max='125' style='width:300px; height:20px; vertical-align: middle;'></progress>\n",
       "      [125/125 23:21, Epoch 5/5]\n",
       "    </div>\n",
       "    <table border=\"1\" class=\"dataframe\">\n",
       "  <thead>\n",
       " <tr style=\"text-align: left;\">\n",
       "      <th>Epoch</th>\n",
       "      <th>Training Loss</th>\n",
       "      <th>Validation Loss</th>\n",
       "      <th>Accuracy</th>\n",
       "    </tr>\n",
       "  </thead>\n",
       "  <tbody>\n",
       "    <tr>\n",
       "      <td>1</td>\n",
       "      <td>No log</td>\n",
       "      <td>0.691794</td>\n",
       "      <td>0.580000</td>\n",
       "    </tr>\n",
       "    <tr>\n",
       "      <td>2</td>\n",
       "      <td>No log</td>\n",
       "      <td>0.691098</td>\n",
       "      <td>0.600000</td>\n",
       "    </tr>\n",
       "    <tr>\n",
       "      <td>3</td>\n",
       "      <td>No log</td>\n",
       "      <td>0.688724</td>\n",
       "      <td>0.600000</td>\n",
       "    </tr>\n",
       "    <tr>\n",
       "      <td>4</td>\n",
       "      <td>No log</td>\n",
       "      <td>0.686179</td>\n",
       "      <td>0.620000</td>\n",
       "    </tr>\n",
       "    <tr>\n",
       "      <td>5</td>\n",
       "      <td>No log</td>\n",
       "      <td>0.685087</td>\n",
       "      <td>0.610000</td>\n",
       "    </tr>\n",
       "  </tbody>\n",
       "</table><p>"
      ]
     },
     "metadata": {},
     "output_type": "display_data"
    },
    {
     "data": {
      "text/plain": [
       "TrainOutput(global_step=125, training_loss=0.6868722534179688, metrics={'train_runtime': 1408.0339, 'train_samples_per_second': 1.42, 'train_steps_per_second': 0.089, 'total_flos': 131554346496000.0, 'train_loss': 0.6868722534179688, 'epoch': 5.0})"
      ]
     },
     "execution_count": 373,
     "metadata": {},
     "output_type": "execute_result"
    }
   ],
   "execution_count": 373
  },
  {
   "metadata": {
    "ExecuteTime": {
     "end_time": "2025-05-30T16:56:51.121416Z",
     "start_time": "2025-05-30T16:56:28.845897Z"
    }
   },
   "cell_type": "code",
   "source": [
    "# Оцениваем модель на валидирующем наборе\n",
    "eval_results = trainer.evaluate()\n",
    "print(f'Точность в наборе для проверки: {eval_results[\"eval_accuracy\"]:.3f}')\n"
   ],
   "id": "d652f9aa34e48003",
   "outputs": [
    {
     "data": {
      "text/plain": [
       "<IPython.core.display.HTML object>"
      ],
      "text/html": [
       "\n",
       "    <div>\n",
       "      \n",
       "      <progress value='25' max='25' style='width:300px; height:20px; vertical-align: middle;'></progress>\n",
       "      [25/25 00:21]\n",
       "    </div>\n",
       "    "
      ]
     },
     "metadata": {},
     "output_type": "display_data"
    },
    {
     "name": "stdout",
     "output_type": "stream",
     "text": [
      "Точность в наборе для проверки: 0.620\n"
     ]
    }
   ],
   "execution_count": 374
  },
  {
   "metadata": {
    "ExecuteTime": {
     "end_time": "2025-05-30T16:56:51.880539Z",
     "start_time": "2025-05-30T16:56:51.188921Z"
    }
   },
   "cell_type": "code",
   "source": [
    "# Сохранение финальной модели\n",
    "trainer.save_model(\"./rubert_finetuned_PARus/final_model\")"
   ],
   "id": "8667442317a1c5b5",
   "outputs": [],
   "execution_count": 375
  }
 ],
 "metadata": {
  "kernelspec": {
   "display_name": "Python 3",
   "language": "python",
   "name": "python3"
  },
  "language_info": {
   "codemirror_mode": {
    "name": "ipython",
    "version": 2
   },
   "file_extension": ".py",
   "mimetype": "text/x-python",
   "name": "python",
   "nbconvert_exporter": "python",
   "pygments_lexer": "ipython2",
   "version": "2.7.6"
  }
 },
 "nbformat": 4,
 "nbformat_minor": 5
}
