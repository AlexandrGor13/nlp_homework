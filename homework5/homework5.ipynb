{
 "cells": [
  {
   "metadata": {
    "ExecuteTime": {
     "end_time": "2025-05-27T20:46:19.534481Z",
     "start_time": "2025-05-27T20:46:19.531549Z"
    }
   },
   "cell_type": "code",
   "source": [
    "import warnings\n",
    "import os\n",
    "\n",
    "os.environ[\"TOKENIZERS_PARALLELISM\"] = \"false\"\n",
    "\n",
    "warnings.filterwarnings(\"ignore\", category=UserWarning)"
   ],
   "id": "c40d44c8b3f0beba",
   "outputs": [],
   "execution_count": 85
  },
  {
   "metadata": {
    "ExecuteTime": {
     "end_time": "2025-05-27T20:46:19.597590Z",
     "start_time": "2025-05-27T20:46:19.595012Z"
    }
   },
   "cell_type": "code",
   "source": [
    "import torch\n",
    "from transformers import BertTokenizerFast, BertForMultipleChoice, Trainer, TrainingArguments\n",
    "from datasets import load_dataset\n"
   ],
   "id": "initial_id",
   "outputs": [],
   "execution_count": 86
  },
  {
   "metadata": {
    "ExecuteTime": {
     "end_time": "2025-05-27T20:46:19.661208Z",
     "start_time": "2025-05-27T20:46:19.658844Z"
    }
   },
   "cell_type": "code",
   "source": [
    "# Функция подготовки выборок для multiple choice task\n",
    "def prepare_features(batch):\n",
    "    # Конструируем prompt для каждого варианта выбора\n",
    "    choices = [batch['choice1'], batch['choice2']]\n",
    "    premise = [batch['premise']] * len(choices)\n",
    "\n",
    "    question_with_choices = [\n",
    "        f\"{batch['question']} {choice}\" for choice in choices\n",
    "    ]\n",
    "\n",
    "    # Токенизируем с сохранением связи индексов\n",
    "    inputs = tokenizer(premise, question_with_choices, truncation=True, max_length=128, padding=\"max_length\")\n",
    "\n",
    "    # Добавляем метку правильного ответа\n",
    "    label = batch.get('label')  # Если label отсутствует, значит тестовая выборка\n",
    "    if label is not None:\n",
    "        inputs['labels'] = label\n",
    "    return inputs"
   ],
   "id": "25eb093c229ee97c",
   "outputs": [],
   "execution_count": 87
  },
  {
   "metadata": {
    "ExecuteTime": {
     "end_time": "2025-05-27T20:46:22.256938Z",
     "start_time": "2025-05-27T20:46:19.718056Z"
    }
   },
   "cell_type": "code",
   "source": [
    "# Загружаем предварительно подготовленный датасет\n",
    "ds = load_dataset(\"PARus\")\n",
    "\n",
    "model_name = \"DeepPavlov/rubert-base-cased\"\n",
    "# Загружаем предобученную модель\n",
    "model = BertForMultipleChoice.from_pretrained(model_name)\n",
    "device = torch.device('cuda' if torch.cuda.is_available() else 'cpu')\n",
    "if device.type == 'cuda':\n",
    "    model = model.to(\"cuda\")\n",
    "# Подготавливаем токенизатор\n",
    "tokenizer = BertTokenizerFast.from_pretrained(model_name)\n",
    "\n",
    "# # Обрабатываем датасеты\n",
    "for split_name in ['train', 'validation']:\n",
    "    ds[split_name] = ds[split_name].map(prepare_features,\n",
    "                                        batched=False,\n",
    "                                        remove_columns=['premise', 'choice1', 'choice2', 'question', 'label']\n",
    "                                        )\n"
   ],
   "id": "d06cce2845d8ce27",
   "outputs": [
    {
     "name": "stderr",
     "output_type": "stream",
     "text": [
      "Some weights of BertForMultipleChoice were not initialized from the model checkpoint at DeepPavlov/rubert-base-cased and are newly initialized: ['classifier.bias', 'classifier.weight']\n",
      "You should probably TRAIN this model on a down-stream task to be able to use it for predictions and inference.\n",
      "Map: 100%|██████████| 400/400 [00:00<00:00, 3348.08 examples/s]\n",
      "Map: 100%|██████████| 100/100 [00:00<00:00, 3293.63 examples/s]\n"
     ]
    }
   ],
   "execution_count": 88
  },
  {
   "metadata": {
    "ExecuteTime": {
     "end_time": "2025-05-27T20:46:22.283222Z",
     "start_time": "2025-05-27T20:46:22.279575Z"
    }
   },
   "cell_type": "code",
   "source": [
    "# Преобразуем объект в PyTorch TensorDataset\n",
    "ds[\"train\"].set_format(type='torch', columns=['input_ids', 'attention_mask', 'token_type_ids', 'labels'])\n",
    "ds[\"validation\"].set_format(type='torch', columns=['input_ids', 'attention_mask', 'token_type_ids', 'labels'])\n",
    "\n",
    "ds[\"train\"]"
   ],
   "id": "3f33b5c77bc54ae0",
   "outputs": [
    {
     "data": {
      "text/plain": [
       "Dataset({\n",
       "    features: ['idx', 'input_ids', 'token_type_ids', 'attention_mask', 'labels'],\n",
       "    num_rows: 400\n",
       "})"
      ]
     },
     "execution_count": 89,
     "metadata": {},
     "output_type": "execute_result"
    }
   ],
   "execution_count": 89
  },
  {
   "metadata": {
    "ExecuteTime": {
     "end_time": "2025-05-27T20:46:22.374118Z",
     "start_time": "2025-05-27T20:46:22.371448Z"
    }
   },
   "cell_type": "code",
   "source": [
    "# Определение метрик точности (accuracy)\n",
    "from sklearn.metrics import accuracy_score\n",
    "\n",
    "\n",
    "def compute_metrics(eval_preds):\n",
    "    logits, labels = eval_preds\n",
    "    predictions = logits.argmax(axis=-1)\n",
    "    return {\"accuracy\": accuracy_score(labels, predictions)}"
   ],
   "id": "8dfd303cbb1eb939",
   "outputs": [],
   "execution_count": 90
  },
  {
   "metadata": {
    "ExecuteTime": {
     "end_time": "2025-05-27T20:46:22.491939Z",
     "start_time": "2025-05-27T20:46:22.457435Z"
    }
   },
   "cell_type": "code",
   "source": [
    "# Аргументы обучения\n",
    "training_args = TrainingArguments(\n",
    "    output_dir='./rubert_finetuned_PARus',\n",
    "    eval_strategy=\"epoch\",\n",
    "    save_strategy='epoch',\n",
    "    per_device_train_batch_size=8,\n",
    "    gradient_accumulation_steps=1,\n",
    "    learning_rate=2e-5,\n",
    "    num_train_epochs=10,\n",
    "    warmup_ratio=0.1,\n",
    "    weight_decay=0.01,\n",
    "    save_total_limit=1,\n",
    "    greater_is_better=True,\n",
    "    disable_tqdm=False,\n",
    "    load_best_model_at_end=True,\n",
    ")\n",
    "\n",
    "# Создаем тренера\n",
    "trainer = Trainer(\n",
    "    model=model,\n",
    "    args=training_args,\n",
    "    train_dataset=ds['train'],\n",
    "    eval_dataset=ds['validation'],\n",
    "    compute_metrics=compute_metrics\n",
    ")\n",
    "\n"
   ],
   "id": "5a0b70861dc93c18",
   "outputs": [],
   "execution_count": 91
  },
  {
   "metadata": {
    "ExecuteTime": {
     "end_time": "2025-05-27T21:56:35.514208Z",
     "start_time": "2025-05-27T20:46:22.526747Z"
    }
   },
   "cell_type": "code",
   "source": [
    "# Начинаем обучение\n",
    "trainer.train()\n"
   ],
   "id": "7b3d207a28bff047",
   "outputs": [
    {
     "data": {
      "text/plain": [
       "<IPython.core.display.HTML object>"
      ],
      "text/html": [
       "\n",
       "    <div>\n",
       "      \n",
       "      <progress value='500' max='500' style='width:300px; height:20px; vertical-align: middle;'></progress>\n",
       "      [500/500 1:10:07, Epoch 10/10]\n",
       "    </div>\n",
       "    <table border=\"1\" class=\"dataframe\">\n",
       "  <thead>\n",
       " <tr style=\"text-align: left;\">\n",
       "      <th>Epoch</th>\n",
       "      <th>Training Loss</th>\n",
       "      <th>Validation Loss</th>\n",
       "      <th>Accuracy</th>\n",
       "    </tr>\n",
       "  </thead>\n",
       "  <tbody>\n",
       "    <tr>\n",
       "      <td>1</td>\n",
       "      <td>No log</td>\n",
       "      <td>0.689627</td>\n",
       "      <td>0.510000</td>\n",
       "    </tr>\n",
       "    <tr>\n",
       "      <td>2</td>\n",
       "      <td>No log</td>\n",
       "      <td>0.679980</td>\n",
       "      <td>0.580000</td>\n",
       "    </tr>\n",
       "    <tr>\n",
       "      <td>3</td>\n",
       "      <td>No log</td>\n",
       "      <td>0.648276</td>\n",
       "      <td>0.600000</td>\n",
       "    </tr>\n",
       "    <tr>\n",
       "      <td>4</td>\n",
       "      <td>No log</td>\n",
       "      <td>0.685157</td>\n",
       "      <td>0.650000</td>\n",
       "    </tr>\n",
       "    <tr>\n",
       "      <td>5</td>\n",
       "      <td>No log</td>\n",
       "      <td>0.699222</td>\n",
       "      <td>0.640000</td>\n",
       "    </tr>\n",
       "    <tr>\n",
       "      <td>6</td>\n",
       "      <td>No log</td>\n",
       "      <td>0.731630</td>\n",
       "      <td>0.620000</td>\n",
       "    </tr>\n",
       "    <tr>\n",
       "      <td>7</td>\n",
       "      <td>No log</td>\n",
       "      <td>0.819332</td>\n",
       "      <td>0.650000</td>\n",
       "    </tr>\n",
       "    <tr>\n",
       "      <td>8</td>\n",
       "      <td>No log</td>\n",
       "      <td>0.875768</td>\n",
       "      <td>0.620000</td>\n",
       "    </tr>\n",
       "    <tr>\n",
       "      <td>9</td>\n",
       "      <td>No log</td>\n",
       "      <td>0.883407</td>\n",
       "      <td>0.650000</td>\n",
       "    </tr>\n",
       "    <tr>\n",
       "      <td>10</td>\n",
       "      <td>0.343200</td>\n",
       "      <td>0.922288</td>\n",
       "      <td>0.640000</td>\n",
       "    </tr>\n",
       "  </tbody>\n",
       "</table><p>"
      ]
     },
     "metadata": {},
     "output_type": "display_data"
    },
    {
     "data": {
      "text/plain": [
       "TrainOutput(global_step=500, training_loss=0.3431547546386719, metrics={'train_runtime': 4212.3607, 'train_samples_per_second': 0.95, 'train_steps_per_second': 0.119, 'total_flos': 526217385984000.0, 'train_loss': 0.3431547546386719, 'epoch': 10.0})"
      ]
     },
     "execution_count": 92,
     "metadata": {},
     "output_type": "execute_result"
    }
   ],
   "execution_count": 92
  },
  {
   "metadata": {
    "ExecuteTime": {
     "end_time": "2025-05-27T21:57:06.523441Z",
     "start_time": "2025-05-27T21:56:35.543517Z"
    }
   },
   "cell_type": "code",
   "source": [
    "# Оцениваем модель на валидирующем наборе\n",
    "trainer.evaluate()\n"
   ],
   "id": "d652f9aa34e48003",
   "outputs": [
    {
     "data": {
      "text/plain": [
       "<IPython.core.display.HTML object>"
      ],
      "text/html": [
       "\n",
       "    <div>\n",
       "      \n",
       "      <progress value='13' max='13' style='width:300px; height:20px; vertical-align: middle;'></progress>\n",
       "      [13/13 00:28]\n",
       "    </div>\n",
       "    "
      ]
     },
     "metadata": {},
     "output_type": "display_data"
    },
    {
     "data": {
      "text/plain": [
       "{'eval_loss': 0.9222877621650696,\n",
       " 'eval_accuracy': 0.64,\n",
       " 'eval_runtime': 30.9749,\n",
       " 'eval_samples_per_second': 3.228,\n",
       " 'eval_steps_per_second': 0.42,\n",
       " 'epoch': 10.0}"
      ]
     },
     "execution_count": 93,
     "metadata": {},
     "output_type": "execute_result"
    }
   ],
   "execution_count": 93
  },
  {
   "metadata": {
    "ExecuteTime": {
     "end_time": "2025-05-27T21:57:07.050267Z",
     "start_time": "2025-05-27T21:57:06.561791Z"
    }
   },
   "cell_type": "code",
   "source": [
    "# Сохранение финальной модели\n",
    "trainer.save_model(\"./final_model\")"
   ],
   "id": "8667442317a1c5b5",
   "outputs": [],
   "execution_count": 94
  }
 ],
 "metadata": {
  "kernelspec": {
   "display_name": "Python 3",
   "language": "python",
   "name": "python3"
  },
  "language_info": {
   "codemirror_mode": {
    "name": "ipython",
    "version": 2
   },
   "file_extension": ".py",
   "mimetype": "text/x-python",
   "name": "python",
   "nbconvert_exporter": "python",
   "pygments_lexer": "ipython2",
   "version": "2.7.6"
  }
 },
 "nbformat": 4,
 "nbformat_minor": 5
}
