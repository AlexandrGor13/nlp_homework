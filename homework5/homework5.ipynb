{
 "cells": [
  {
   "metadata": {
    "ExecuteTime": {
     "end_time": "2025-05-29T16:20:53.781764Z",
     "start_time": "2025-05-29T16:20:53.779405Z"
    }
   },
   "cell_type": "code",
   "source": [
    "import warnings\n",
    "import os\n",
    "\n",
    "os.environ[\"TOKENIZERS_PARALLELISM\"] = \"false\"\n",
    "\n",
    "warnings.filterwarnings(\"ignore\", category=UserWarning)"
   ],
   "id": "c40d44c8b3f0beba",
   "outputs": [],
   "execution_count": 11
  },
  {
   "metadata": {
    "ExecuteTime": {
     "end_time": "2025-05-29T16:20:53.841236Z",
     "start_time": "2025-05-29T16:20:53.838792Z"
    }
   },
   "cell_type": "code",
   "source": [
    "import torch\n",
    "from transformers import BertTokenizerFast, BertForMultipleChoice, Trainer, TrainingArguments\n",
    "from datasets import load_dataset\n"
   ],
   "id": "initial_id",
   "outputs": [],
   "execution_count": 12
  },
  {
   "metadata": {
    "ExecuteTime": {
     "end_time": "2025-05-29T16:20:53.900575Z",
     "start_time": "2025-05-29T16:20:53.897908Z"
    }
   },
   "cell_type": "code",
   "source": [
    "# Функция подготовки выборок для multiple choice task\n",
    "def prepare_features(batch):\n",
    "    # Конструируем prompt для каждого варианта выбора\n",
    "    choices = [batch['choice1'], batch['choice2']]\n",
    "    premise = [batch['premise'] + ' ' + batch['question']] * len(choices)\n",
    "\n",
    "    # Токенизируем с сохранением связи индексов\n",
    "    # inputs = tokenizer(premise, choices, truncation=True, max_length=128, padding=\"max_length\", return_tensors=\"pt\")\n",
    "    inputs = tokenizer(premise, choices, truncation=\"only_second\", max_length=64, padding=\"max_length\")\n",
    "\n",
    "    # Добавляем метку правильного ответа\n",
    "    label = batch.get('label')  # Если label отсутствует, значит тестовая выборка\n",
    "    if label is not None:\n",
    "        inputs['labels'] = label\n",
    "    return inputs"
   ],
   "id": "25eb093c229ee97c",
   "outputs": [],
   "execution_count": 13
  },
  {
   "metadata": {
    "ExecuteTime": {
     "end_time": "2025-05-29T16:20:56.290335Z",
     "start_time": "2025-05-29T16:20:53.966478Z"
    }
   },
   "cell_type": "code",
   "source": [
    "# Загружаем предварительно подготовленный датасет\n",
    "ds = load_dataset(\"PARus\")\n",
    "\n",
    "model_name = \"DeepPavlov/rubert-base-cased\"\n",
    "# Загружаем предобученную модель\n",
    "model = BertForMultipleChoice.from_pretrained(model_name)\n",
    "device = torch.device('cuda' if torch.cuda.is_available() else 'cpu')\n",
    "if device.type == 'cuda':\n",
    "    model = model.to(\"cuda\")\n",
    "# Подготавливаем токенизатор\n",
    "tokenizer = BertTokenizerFast.from_pretrained(model_name)\n",
    "\n",
    "# # Обрабатываем датасеты\n",
    "for split_name in ['train', 'validation']:\n",
    "    ds[split_name] = ds[split_name].map(\n",
    "        prepare_features,\n",
    "        batched=False,\n",
    "        remove_columns=['premise', 'choice1', 'choice2', 'question', 'label']\n",
    "        )\n"
   ],
   "id": "d06cce2845d8ce27",
   "outputs": [
    {
     "name": "stderr",
     "output_type": "stream",
     "text": [
      "Some weights of BertForMultipleChoice were not initialized from the model checkpoint at DeepPavlov/rubert-base-cased and are newly initialized: ['classifier.bias', 'classifier.weight']\n",
      "You should probably TRAIN this model on a down-stream task to be able to use it for predictions and inference.\n"
     ]
    },
    {
     "data": {
      "text/plain": [
       "Map:   0%|          | 0/100 [00:00<?, ? examples/s]"
      ],
      "application/vnd.jupyter.widget-view+json": {
       "version_major": 2,
       "version_minor": 0,
       "model_id": "8b58b98df5624667b77d2969dde5fa68"
      }
     },
     "metadata": {},
     "output_type": "display_data"
    }
   ],
   "execution_count": 14
  },
  {
   "metadata": {
    "ExecuteTime": {
     "end_time": "2025-05-29T16:20:56.311180Z",
     "start_time": "2025-05-29T16:20:56.308082Z"
    }
   },
   "cell_type": "code",
   "source": [
    "# Преобразуем объект в PyTorch TensorDataset\n",
    "ds[\"train\"].set_format(type='torch', columns=['input_ids', 'attention_mask', 'token_type_ids', 'labels'])\n",
    "ds[\"validation\"].set_format(type='torch', columns=['input_ids', 'attention_mask', 'token_type_ids', 'labels'])\n",
    "\n",
    "ds[\"train\"]"
   ],
   "id": "3f33b5c77bc54ae0",
   "outputs": [
    {
     "data": {
      "text/plain": [
       "Dataset({\n",
       "    features: ['idx', 'input_ids', 'token_type_ids', 'attention_mask', 'labels'],\n",
       "    num_rows: 400\n",
       "})"
      ]
     },
     "execution_count": 15,
     "metadata": {},
     "output_type": "execute_result"
    }
   ],
   "execution_count": 15
  },
  {
   "metadata": {
    "ExecuteTime": {
     "end_time": "2025-05-29T16:20:56.390858Z",
     "start_time": "2025-05-29T16:20:56.388661Z"
    }
   },
   "cell_type": "code",
   "source": [
    "# Определение метрик точности (accuracy)\n",
    "from sklearn.metrics import accuracy_score\n",
    "\n",
    "\n",
    "def compute_metrics(eval_preds):\n",
    "    logits, labels = eval_preds\n",
    "    predictions = logits.argmax(axis=-1)\n",
    "    return {\"accuracy\": accuracy_score(labels, predictions)}"
   ],
   "id": "8dfd303cbb1eb939",
   "outputs": [],
   "execution_count": 16
  },
  {
   "metadata": {
    "ExecuteTime": {
     "end_time": "2025-05-29T16:20:56.500530Z",
     "start_time": "2025-05-29T16:20:56.452664Z"
    }
   },
   "cell_type": "code",
   "source": [
    "# Аргументы обучения\n",
    "training_args = TrainingArguments(\n",
    "    output_dir='./rubert_finetuned_PARus',\n",
    "    eval_strategy=\"epoch\",\n",
    "    save_strategy='epoch',\n",
    "    per_device_train_batch_size=8,\n",
    "    per_device_eval_batch_size=8,\n",
    "    learning_rate=2e-5,\n",
    "    num_train_epochs=10,\n",
    "    warmup_ratio=0.1,\n",
    "    weight_decay=0.01,\n",
    "    save_total_limit=1,\n",
    "    greater_is_better=True,\n",
    "    load_best_model_at_end=True,\n",
    ")\n",
    "\n",
    "\n",
    "# Создаем тренера\n",
    "trainer = Trainer(\n",
    "    model=model,\n",
    "    args=training_args,\n",
    "    train_dataset=ds['train'],\n",
    "    eval_dataset=ds['validation'],\n",
    "    compute_metrics=compute_metrics,\n",
    ")\n",
    "\n"
   ],
   "id": "5a0b70861dc93c18",
   "outputs": [],
   "execution_count": 17
  },
  {
   "metadata": {
    "jupyter": {
     "is_executing": true
    },
    "ExecuteTime": {
     "start_time": "2025-05-29T16:20:56.532650Z"
    }
   },
   "cell_type": "code",
   "source": [
    "# Начинаем обучение\n",
    "trainer.train()\n"
   ],
   "id": "7b3d207a28bff047",
   "outputs": [
    {
     "data": {
      "text/plain": [
       "<IPython.core.display.HTML object>"
      ],
      "text/html": [
       "\n",
       "    <div>\n",
       "      \n",
       "      <progress value='57' max='500' style='width:300px; height:20px; vertical-align: middle;'></progress>\n",
       "      [ 57/500 05:37 < 45:18, 0.16 it/s, Epoch 1.12/10]\n",
       "    </div>\n",
       "    <table border=\"1\" class=\"dataframe\">\n",
       "  <thead>\n",
       " <tr style=\"text-align: left;\">\n",
       "      <th>Epoch</th>\n",
       "      <th>Training Loss</th>\n",
       "      <th>Validation Loss</th>\n",
       "      <th>Accuracy</th>\n",
       "    </tr>\n",
       "  </thead>\n",
       "  <tbody>\n",
       "    <tr>\n",
       "      <td>1</td>\n",
       "      <td>No log</td>\n",
       "      <td>0.683920</td>\n",
       "      <td>0.540000</td>\n",
       "    </tr>\n",
       "  </tbody>\n",
       "</table><p>"
      ]
     },
     "metadata": {},
     "output_type": "display_data"
    }
   ],
   "execution_count": null
  },
  {
   "metadata": {
    "ExecuteTime": {
     "end_time": "2025-05-29T16:11:16.421461Z",
     "start_time": "2025-05-29T16:11:00.057929Z"
    }
   },
   "cell_type": "code",
   "source": [
    "# Оцениваем модель на валидирующем наборе\n",
    "trainer.evaluate()\n"
   ],
   "id": "d652f9aa34e48003",
   "outputs": [
    {
     "data": {
      "text/plain": [
       "<IPython.core.display.HTML object>"
      ],
      "text/html": [
       "\n",
       "    <div>\n",
       "      \n",
       "      <progress value='13' max='13' style='width:300px; height:20px; vertical-align: middle;'></progress>\n",
       "      [13/13 00:15]\n",
       "    </div>\n",
       "    "
      ]
     },
     "metadata": {},
     "output_type": "display_data"
    },
    {
     "data": {
      "text/plain": [
       "{'eval_loss': 0.6938913464546204,\n",
       " 'eval_accuracy': 0.52,\n",
       " 'eval_runtime': 16.3547,\n",
       " 'eval_samples_per_second': 6.114,\n",
       " 'eval_steps_per_second': 0.795,\n",
       " 'epoch': 3.0}"
      ]
     },
     "execution_count": 9,
     "metadata": {},
     "output_type": "execute_result"
    }
   ],
   "execution_count": 9
  },
  {
   "metadata": {
    "ExecuteTime": {
     "end_time": "2025-05-29T16:11:17.424835Z",
     "start_time": "2025-05-29T16:11:16.459065Z"
    }
   },
   "cell_type": "code",
   "source": [
    "# Сохранение финальной модели\n",
    "trainer.save_model(\"./rubert_finetuned_PARus/final_model\")"
   ],
   "id": "8667442317a1c5b5",
   "outputs": [],
   "execution_count": 10
  }
 ],
 "metadata": {
  "kernelspec": {
   "display_name": "Python 3",
   "language": "python",
   "name": "python3"
  },
  "language_info": {
   "codemirror_mode": {
    "name": "ipython",
    "version": 2
   },
   "file_extension": ".py",
   "mimetype": "text/x-python",
   "name": "python",
   "nbconvert_exporter": "python",
   "pygments_lexer": "ipython2",
   "version": "2.7.6"
  }
 },
 "nbformat": 4,
 "nbformat_minor": 5
}
