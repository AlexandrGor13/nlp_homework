{
 "cells": [
  {
   "metadata": {
    "ExecuteTime": {
     "end_time": "2025-05-31T14:09:44.698780Z",
     "start_time": "2025-05-31T14:09:44.691151Z"
    }
   },
   "cell_type": "code",
   "source": [
    "import warnings\n",
    "import os\n",
    "\n",
    "from torch.utils.data import Dataset\n",
    "\n",
    "os.environ[\"TOKENIZERS_PARALLELISM\"] = \"false\"\n",
    "\n",
    "warnings.filterwarnings(\"ignore\", category=UserWarning)"
   ],
   "id": "c40d44c8b3f0beba",
   "outputs": [],
   "execution_count": 43
  },
  {
   "metadata": {
    "ExecuteTime": {
     "end_time": "2025-05-31T04:36:35.028329Z",
     "start_time": "2025-05-31T04:36:30.938627Z"
    }
   },
   "cell_type": "code",
   "source": [
    "import torch\n",
    "import numpy as np\n",
    "from transformers import BertTokenizerFast, BertForSequenceClassification, Trainer, TrainingArguments\n",
    "from datasets import load_dataset\n"
   ],
   "id": "initial_id",
   "outputs": [],
   "execution_count": 2
  },
  {
   "metadata": {
    "ExecuteTime": {
     "end_time": "2025-05-31T04:36:37.661798Z",
     "start_time": "2025-05-31T04:36:35.036263Z"
    }
   },
   "cell_type": "code",
   "source": [
    "# Загружаем предварительно подготовленный датасет\n",
    "ds = load_dataset(\"DaNetQA\")\n",
    "\n",
    "model_name = \"DeepPavlov/rubert-base-cased-conversational\"\n",
    "# Загружаем предобученную модель\n",
    "model = BertForSequenceClassification.from_pretrained(model_name, num_labels=2)\n",
    "device = torch.device('cuda' if torch.cuda.is_available() else 'cpu')\n",
    "if device.type == 'cuda':\n",
    "    model = model.to(\"cuda\")\n",
    "# Подготавливаем токенизатор\n",
    "tokenizer = BertTokenizerFast.from_pretrained(model_name)\n"
   ],
   "id": "d06cce2845d8ce27",
   "outputs": [
    {
     "name": "stderr",
     "output_type": "stream",
     "text": [
      "Some weights of BertForSequenceClassification were not initialized from the model checkpoint at DeepPavlov/rubert-base-cased-conversational and are newly initialized: ['classifier.bias', 'classifier.weight']\n",
      "You should probably TRAIN this model on a down-stream task to be able to use it for predictions and inference.\n"
     ]
    }
   ],
   "execution_count": 3
  },
  {
   "metadata": {
    "ExecuteTime": {
     "end_time": "2025-05-31T12:10:39.596050Z",
     "start_time": "2025-05-31T12:10:39.589260Z"
    }
   },
   "cell_type": "code",
   "source": [
    "# Функция подготовки выборок для multiple choice task\n",
    "def prepare_features(example):\n",
    "    # Конструируем prompt для каждого варианта выбора\n",
    "    inputs = example['question'] + '[SEP]' + example['passage']\n",
    "    # Токенизируем с сохранением связи индексов\n",
    "    inputs = tokenizer(inputs,\n",
    "                       truncation=True,\n",
    "                       max_length=512,\n",
    "                       padding=\"max_length\"\n",
    "                       )\n",
    "\n",
    "    # Добавляем метку правильного ответа\n",
    "    label = example.get('label')  # Если label отсутствует, значит тестовая выборка\n",
    "    if label is not None:\n",
    "        inputs['labels'] = int(label)\n",
    "    return inputs"
   ],
   "id": "25eb093c229ee97c",
   "outputs": [],
   "execution_count": 14
  },
  {
   "metadata": {
    "ExecuteTime": {
     "end_time": "2025-05-31T04:36:38.373348Z",
     "start_time": "2025-05-31T04:36:37.738307Z"
    }
   },
   "cell_type": "code",
   "source": [
    "# Обрабатываем датасеты\n",
    "for split_name in ['train', 'validation']:\n",
    "    ds[split_name] = ds[split_name].map(\n",
    "        prepare_features,\n",
    "        batched=False,\n",
    "        remove_columns=['passage', 'question', 'label']\n",
    "    )\n",
    "\n",
    "ds[\"validation\"] = ds[\"validation\"].shuffle().select(range(300))\n",
    "ds[\"train\"] = ds[\"train\"].shuffle().select(range(1000))"
   ],
   "id": "4b64012e54141209",
   "outputs": [
    {
     "data": {
      "text/plain": [
       "Map:   0%|          | 0/821 [00:00<?, ? examples/s]"
      ],
      "application/vnd.jupyter.widget-view+json": {
       "version_major": 2,
       "version_minor": 0,
       "model_id": "f88b4e65e96a4cfeb0401b15f2d3f563"
      }
     },
     "metadata": {},
     "output_type": "display_data"
    }
   ],
   "execution_count": 5
  },
  {
   "metadata": {
    "ExecuteTime": {
     "end_time": "2025-05-31T04:36:38.399991Z",
     "start_time": "2025-05-31T04:36:38.395891Z"
    }
   },
   "cell_type": "code",
   "source": [
    "# Преобразуем объект в PyTorch TensorDataset\n",
    "ds[\"train\"].set_format(type='torch', columns=['input_ids', 'attention_mask', 'token_type_ids', 'labels'])\n",
    "ds[\"validation\"].set_format(type='torch', columns=['input_ids', 'attention_mask', 'token_type_ids', 'labels'])\n",
    "\n",
    "ds[\"train\"]"
   ],
   "id": "3f33b5c77bc54ae0",
   "outputs": [
    {
     "data": {
      "text/plain": [
       "Dataset({\n",
       "    features: ['idx', 'input_ids', 'token_type_ids', 'attention_mask', 'labels'],\n",
       "    num_rows: 1000\n",
       "})"
      ]
     },
     "execution_count": 6,
     "metadata": {},
     "output_type": "execute_result"
    }
   ],
   "execution_count": 6
  },
  {
   "metadata": {
    "ExecuteTime": {
     "end_time": "2025-05-31T04:36:38.484708Z",
     "start_time": "2025-05-31T04:36:38.481955Z"
    }
   },
   "cell_type": "code",
   "source": [
    "# Определение метрик точности (accuracy)\n",
    "from sklearn.metrics import accuracy_score\n",
    "\n",
    "\n",
    "def compute_metrics(eval_preds):\n",
    "    logits, labels = eval_preds\n",
    "    predictions = np.argmax(logits, axis=1)\n",
    "    return {\"accuracy\": accuracy_score(labels, predictions)}"
   ],
   "id": "8dfd303cbb1eb939",
   "outputs": [],
   "execution_count": 7
  },
  {
   "metadata": {
    "ExecuteTime": {
     "end_time": "2025-05-31T04:36:38.622400Z",
     "start_time": "2025-05-31T04:36:38.570983Z"
    }
   },
   "cell_type": "code",
   "source": [
    "# Аргументы обучения\n",
    "training_args = TrainingArguments(\n",
    "    output_dir='./rubert_finetuned_DaNetQA',\n",
    "    eval_strategy=\"epoch\",\n",
    "    save_strategy='epoch',\n",
    "    per_device_train_batch_size=8,\n",
    "    per_device_eval_batch_size=8,\n",
    "    learning_rate=2e-5,\n",
    "    num_train_epochs=7,\n",
    "    weight_decay=0.01,\n",
    "    greater_is_better=True,\n",
    "    load_best_model_at_end=True,\n",
    "    metric_for_best_model=\"accuracy\",\n",
    ")\n",
    "\n",
    "# Создаем тренера\n",
    "trainer = Trainer(\n",
    "    model=model,\n",
    "    args=training_args,\n",
    "    train_dataset=ds['train'],\n",
    "    eval_dataset=ds['validation'],\n",
    "    compute_metrics=compute_metrics,\n",
    ")"
   ],
   "id": "5a0b70861dc93c18",
   "outputs": [],
   "execution_count": 8
  },
  {
   "metadata": {
    "ExecuteTime": {
     "end_time": "2025-05-31T12:02:02.170524Z",
     "start_time": "2025-05-31T04:36:38.657363Z"
    }
   },
   "cell_type": "code",
   "source": [
    "# Начинаем обучение\n",
    "trainer.train()\n"
   ],
   "id": "7b3d207a28bff047",
   "outputs": [
    {
     "data": {
      "text/plain": [
       "<IPython.core.display.HTML object>"
      ],
      "text/html": [
       "\n",
       "    <div>\n",
       "      \n",
       "      <progress value='875' max='875' style='width:300px; height:20px; vertical-align: middle;'></progress>\n",
       "      [875/875 7:24:48, Epoch 7/7]\n",
       "    </div>\n",
       "    <table border=\"1\" class=\"dataframe\">\n",
       "  <thead>\n",
       " <tr style=\"text-align: left;\">\n",
       "      <th>Epoch</th>\n",
       "      <th>Training Loss</th>\n",
       "      <th>Validation Loss</th>\n",
       "      <th>Accuracy</th>\n",
       "    </tr>\n",
       "  </thead>\n",
       "  <tbody>\n",
       "    <tr>\n",
       "      <td>1</td>\n",
       "      <td>No log</td>\n",
       "      <td>0.602574</td>\n",
       "      <td>0.663333</td>\n",
       "    </tr>\n",
       "    <tr>\n",
       "      <td>2</td>\n",
       "      <td>No log</td>\n",
       "      <td>0.824856</td>\n",
       "      <td>0.620000</td>\n",
       "    </tr>\n",
       "    <tr>\n",
       "      <td>3</td>\n",
       "      <td>No log</td>\n",
       "      <td>1.382486</td>\n",
       "      <td>0.626667</td>\n",
       "    </tr>\n",
       "    <tr>\n",
       "      <td>4</td>\n",
       "      <td>0.396900</td>\n",
       "      <td>1.744930</td>\n",
       "      <td>0.633333</td>\n",
       "    </tr>\n",
       "    <tr>\n",
       "      <td>5</td>\n",
       "      <td>0.396900</td>\n",
       "      <td>1.623381</td>\n",
       "      <td>0.700000</td>\n",
       "    </tr>\n",
       "    <tr>\n",
       "      <td>6</td>\n",
       "      <td>0.396900</td>\n",
       "      <td>1.969519</td>\n",
       "      <td>0.673333</td>\n",
       "    </tr>\n",
       "    <tr>\n",
       "      <td>7</td>\n",
       "      <td>0.396900</td>\n",
       "      <td>2.004319</td>\n",
       "      <td>0.680000</td>\n",
       "    </tr>\n",
       "  </tbody>\n",
       "</table><p>"
      ]
     },
     "metadata": {},
     "output_type": "display_data"
    },
    {
     "data": {
      "text/plain": [
       "TrainOutput(global_step=875, training_loss=0.24507098824637277, metrics={'train_runtime': 26723.3126, 'train_samples_per_second': 0.262, 'train_steps_per_second': 0.033, 'total_flos': 1841777387520000.0, 'train_loss': 0.24507098824637277, 'epoch': 7.0})"
      ]
     },
     "execution_count": 9,
     "metadata": {},
     "output_type": "execute_result"
    }
   ],
   "execution_count": 9
  },
  {
   "metadata": {
    "ExecuteTime": {
     "end_time": "2025-05-31T12:07:15.189010Z",
     "start_time": "2025-05-31T12:02:02.361520Z"
    }
   },
   "cell_type": "code",
   "source": [
    "# Оцениваем модель на валидирующем наборе\n",
    "eval_results = trainer.evaluate()\n",
    "print(f'Точность в наборе для проверки: {eval_results[\"eval_accuracy\"]:.3f}')\n"
   ],
   "id": "d652f9aa34e48003",
   "outputs": [
    {
     "data": {
      "text/plain": [
       "<IPython.core.display.HTML object>"
      ],
      "text/html": [
       "\n",
       "    <div>\n",
       "      \n",
       "      <progress value='38' max='38' style='width:300px; height:20px; vertical-align: middle;'></progress>\n",
       "      [38/38 05:07]\n",
       "    </div>\n",
       "    "
      ]
     },
     "metadata": {},
     "output_type": "display_data"
    },
    {
     "name": "stdout",
     "output_type": "stream",
     "text": [
      "Точность в наборе для проверки: 0.700\n"
     ]
    }
   ],
   "execution_count": 10
  },
  {
   "metadata": {
    "ExecuteTime": {
     "end_time": "2025-05-31T12:07:15.710817Z",
     "start_time": "2025-05-31T12:07:15.223522Z"
    }
   },
   "cell_type": "code",
   "source": [
    "# Сохранение финальной модели\n",
    "trainer.save_model(\"./rubert_finetuned_DaNetQA/final_model\")"
   ],
   "id": "8667442317a1c5b5",
   "outputs": [],
   "execution_count": 11
  },
  {
   "metadata": {
    "ExecuteTime": {
     "end_time": "2025-05-31T12:09:15.688134Z",
     "start_time": "2025-05-31T12:09:14.025883Z"
    }
   },
   "cell_type": "code",
   "source": [
    "# Загружаем предобученную модель\n",
    "saved_model_path = \"./rubert_finetuned_DaNetQA/final_model\"\n",
    "# Загрузить модель из сохранённого каталога:\n",
    "loaded_model = BertForSequenceClassification.from_pretrained(saved_model_path)\n",
    "# Также загрузить токенизатор из сохранённого каталога:\n",
    "loaded_tokenizer = BertTokenizerFast.from_pretrained(model_name)"
   ],
   "id": "dbc534fdd2b26e80",
   "outputs": [],
   "execution_count": 12
  },
  {
   "metadata": {
    "ExecuteTime": {
     "end_time": "2025-05-31T12:10:47.045359Z",
     "start_time": "2025-05-31T12:10:46.042005Z"
    }
   },
   "cell_type": "code",
   "source": [
    "# Обрабатываем датасеты\n",
    "ds[\"test\"] = ds[\"test\"].map(\n",
    "        prepare_features,\n",
    "        batched=False,\n",
    "        remove_columns=['passage', 'question', 'label'],\n",
    "    )\n",
    "\n",
    "ds[\"test\"]"
   ],
   "id": "6e69fba87c3f5e41",
   "outputs": [
    {
     "data": {
      "text/plain": [
       "Map:   0%|          | 0/805 [00:00<?, ? examples/s]"
      ],
      "application/vnd.jupyter.widget-view+json": {
       "version_major": 2,
       "version_minor": 0,
       "model_id": "e31b7f446e0b4a448b2455bfe34ebdfb"
      }
     },
     "metadata": {},
     "output_type": "display_data"
    },
    {
     "data": {
      "text/plain": [
       "Dataset({\n",
       "    features: ['idx', 'input_ids', 'token_type_ids', 'attention_mask'],\n",
       "    num_rows: 805\n",
       "})"
      ]
     },
     "execution_count": 15,
     "metadata": {},
     "output_type": "execute_result"
    }
   ],
   "execution_count": 15
  },
  {
   "metadata": {
    "ExecuteTime": {
     "end_time": "2025-05-31T12:11:03.847773Z",
     "start_time": "2025-05-31T12:11:03.696521Z"
    }
   },
   "cell_type": "code",
   "source": [
    "loaded_model.eval()\n",
    "\n",
    "training_args = TrainingArguments(\n",
    "    output_dir='./rubert_finetuned_DaNetQA',\n",
    "    do_train = False,\n",
    "    do_predict = True,\n",
    "    per_device_eval_batch_size = 4,\n",
    "    dataloader_drop_last = False,\n",
    ")\n",
    "\n",
    "# Создаем тренера\n",
    "trainer = Trainer(\n",
    "    model = loaded_model,\n",
    "    args = training_args,\n",
    ")"
   ],
   "id": "29f39200fd3954c6",
   "outputs": [],
   "execution_count": 16
  },
  {
   "metadata": {
    "ExecuteTime": {
     "end_time": "2025-05-31T12:21:11.034735Z",
     "start_time": "2025-05-31T12:11:06.489049Z"
    }
   },
   "cell_type": "code",
   "source": [
    "test_results_content = trainer.predict(ds[\"test\"])[0]\n",
    "test_results_content"
   ],
   "id": "d8aa5b5018f80ac7",
   "outputs": [
    {
     "data": {
      "text/plain": [
       "<IPython.core.display.HTML object>"
      ],
      "text/html": []
     },
     "metadata": {},
     "output_type": "display_data"
    },
    {
     "data": {
      "text/plain": [
       "array([[-3.436156 ,  3.3206792],\n",
       "       [-2.9944618,  2.7741835],\n",
       "       [-3.441501 ,  3.286354 ],\n",
       "       ...,\n",
       "       [-0.9691386,  1.0794065],\n",
       "       [-3.43276  ,  3.2861784],\n",
       "       [ 2.7329412, -2.4606788]], dtype=float32)"
      ]
     },
     "execution_count": 17,
     "metadata": {},
     "output_type": "execute_result"
    }
   ],
   "execution_count": 17
  },
  {
   "metadata": {
    "ExecuteTime": {
     "end_time": "2025-05-31T13:20:44.997540Z",
     "start_time": "2025-05-31T13:06:05.133959Z"
    }
   },
   "cell_type": "code",
   "source": [
    "# Написание функции для получения предикта\n",
    "def get_prediction():\n",
    "    test_pred = trainer.predict(ds[\"test\"])\n",
    "    labels = np.argmax(test_pred.predictions, axis=-1)\n",
    "    return labels\n",
    "\n",
    "\n",
    "pred = get_prediction()"
   ],
   "id": "2bd0940e3543510",
   "outputs": [
    {
     "data": {
      "text/plain": [
       "<IPython.core.display.HTML object>"
      ],
      "text/html": []
     },
     "metadata": {},
     "output_type": "display_data"
    }
   ],
   "execution_count": 29
  },
  {
   "metadata": {
    "ExecuteTime": {
     "end_time": "2025-05-31T13:31:03.069254Z",
     "start_time": "2025-05-31T13:31:03.062825Z"
    }
   },
   "cell_type": "code",
   "source": [
    "# Обрабатываем результат\n",
    "pred_label = ['true' if l else \"false\" for l in pred]\n",
    "result_test = ds[\"test\"]\n",
    "result_test = result_test.add_column(\"label\", pred_label)\n",
    "result_test = result_test.remove_columns(['input_ids', 'token_type_ids', 'attention_mask'])\n",
    "result_test"
   ],
   "id": "5d235f3d162a469",
   "outputs": [
    {
     "data": {
      "text/plain": [
       "Dataset({\n",
       "    features: ['idx', 'label'],\n",
       "    num_rows: 805\n",
       "})"
      ]
     },
     "execution_count": 41,
     "metadata": {},
     "output_type": "execute_result"
    }
   ],
   "execution_count": 41
  },
  {
   "metadata": {
    "ExecuteTime": {
     "end_time": "2025-05-31T13:31:05.481755Z",
     "start_time": "2025-05-31T13:31:05.466777Z"
    }
   },
   "cell_type": "code",
   "source": "result_test.to_json('DaNetQA.jsonl')",
   "id": "7b7abd4370cd0dfe",
   "outputs": [
    {
     "data": {
      "text/plain": [
       "Creating json from Arrow format:   0%|          | 0/1 [00:00<?, ?ba/s]"
      ],
      "application/vnd.jupyter.widget-view+json": {
       "version_major": 2,
       "version_minor": 0,
       "model_id": "e4f0da6221004a8cae7fd5cfe6f7997c"
      }
     },
     "metadata": {},
     "output_type": "display_data"
    },
    {
     "data": {
      "text/plain": [
       "21833"
      ]
     },
     "execution_count": 42,
     "metadata": {},
     "output_type": "execute_result"
    }
   ],
   "execution_count": 42
  }
 ],
 "metadata": {
  "kernelspec": {
   "display_name": "Python 3",
   "language": "python",
   "name": "python3"
  },
  "language_info": {
   "codemirror_mode": {
    "name": "ipython",
    "version": 2
   },
   "file_extension": ".py",
   "mimetype": "text/x-python",
   "name": "python",
   "nbconvert_exporter": "python",
   "pygments_lexer": "ipython2",
   "version": "2.7.6"
  }
 },
 "nbformat": 4,
 "nbformat_minor": 5
}
